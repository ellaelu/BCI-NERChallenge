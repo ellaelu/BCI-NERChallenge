{
 "cells": [
  {
   "cell_type": "code",
   "execution_count": 2,
   "metadata": {},
   "outputs": [],
   "source": [
    "import numpy as np\n",
    "import pandas as pd\n",
    "from sklearn import ensemble\n",
    "from sklearn.model_selection import train_test_split\n",
    "import time\n",
    "from sklearn.metrics import roc_curve, roc_auc_score\n",
    "from sklearn.metrics import classification_report, confusion_matrix, accuracy_score, f1_score\n",
    "from sklearn.svm import SVC\n",
    "from sklearn.model_selection import GridSearchCV\n",
    "from sklearn.linear_model import ElasticNet\n",
    "from sklearn.preprocessing import StandardScaler\n",
    "import matplotlib.pyplot as plt\n",
    "import regex as reg\n",
    "import random"
   ]
  },
  {
   "cell_type": "code",
   "execution_count": 54,
   "metadata": {},
   "outputs": [],
   "source": [
    "train_labels = pd.read_csv('Data/TrainLabels.csv')\n",
    "submission = pd.read_csv('Data/SampleSubmission.csv')\n",
    "true_labels = pd.read_csv('Data/true_labels.csv')"
   ]
  },
  {
   "cell_type": "code",
   "execution_count": 55,
   "metadata": {},
   "outputs": [],
   "source": [
    "X_train = np.load('Data/X_train_final(bs).npy')\n",
    "X_test = np.load('Data/X_test_final(bs).npy')"
   ]
  },
  {
   "cell_type": "code",
   "execution_count": 56,
   "metadata": {},
   "outputs": [],
   "source": [
    "Y_train = train_labels.Prediction.values\n",
    "true_labels = pd.read_csv('Data/true_labels.csv')\n",
    "Y_test = true_labels['1'].values"
   ]
  },
  {
   "cell_type": "code",
   "execution_count": 57,
   "metadata": {},
   "outputs": [
    {
     "data": {
      "text/html": [
       "<div>\n",
       "<style scoped>\n",
       "    .dataframe tbody tr th:only-of-type {\n",
       "        vertical-align: middle;\n",
       "    }\n",
       "\n",
       "    .dataframe tbody tr th {\n",
       "        vertical-align: top;\n",
       "    }\n",
       "\n",
       "    .dataframe thead th {\n",
       "        text-align: right;\n",
       "    }\n",
       "</style>\n",
       "<table border=\"1\" class=\"dataframe\">\n",
       "  <thead>\n",
       "    <tr style=\"text-align: right;\">\n",
       "      <th></th>\n",
       "      <th>IdFeedBack</th>\n",
       "      <th>Prediction</th>\n",
       "    </tr>\n",
       "  </thead>\n",
       "  <tbody>\n",
       "    <tr>\n",
       "      <td>0</td>\n",
       "      <td>S02_Sess01_FB001</td>\n",
       "      <td>1</td>\n",
       "    </tr>\n",
       "    <tr>\n",
       "      <td>1</td>\n",
       "      <td>S02_Sess01_FB002</td>\n",
       "      <td>1</td>\n",
       "    </tr>\n",
       "    <tr>\n",
       "      <td>2</td>\n",
       "      <td>S02_Sess01_FB003</td>\n",
       "      <td>0</td>\n",
       "    </tr>\n",
       "    <tr>\n",
       "      <td>3</td>\n",
       "      <td>S02_Sess01_FB004</td>\n",
       "      <td>0</td>\n",
       "    </tr>\n",
       "    <tr>\n",
       "      <td>4</td>\n",
       "      <td>S02_Sess01_FB005</td>\n",
       "      <td>1</td>\n",
       "    </tr>\n",
       "    <tr>\n",
       "      <td>...</td>\n",
       "      <td>...</td>\n",
       "      <td>...</td>\n",
       "    </tr>\n",
       "    <tr>\n",
       "      <td>5435</td>\n",
       "      <td>S26_Sess05_FB096</td>\n",
       "      <td>1</td>\n",
       "    </tr>\n",
       "    <tr>\n",
       "      <td>5436</td>\n",
       "      <td>S26_Sess05_FB097</td>\n",
       "      <td>0</td>\n",
       "    </tr>\n",
       "    <tr>\n",
       "      <td>5437</td>\n",
       "      <td>S26_Sess05_FB098</td>\n",
       "      <td>0</td>\n",
       "    </tr>\n",
       "    <tr>\n",
       "      <td>5438</td>\n",
       "      <td>S26_Sess05_FB099</td>\n",
       "      <td>0</td>\n",
       "    </tr>\n",
       "    <tr>\n",
       "      <td>5439</td>\n",
       "      <td>S26_Sess05_FB100</td>\n",
       "      <td>1</td>\n",
       "    </tr>\n",
       "  </tbody>\n",
       "</table>\n",
       "<p>5440 rows × 2 columns</p>\n",
       "</div>"
      ],
      "text/plain": [
       "            IdFeedBack  Prediction\n",
       "0     S02_Sess01_FB001           1\n",
       "1     S02_Sess01_FB002           1\n",
       "2     S02_Sess01_FB003           0\n",
       "3     S02_Sess01_FB004           0\n",
       "4     S02_Sess01_FB005           1\n",
       "...                ...         ...\n",
       "5435  S26_Sess05_FB096           1\n",
       "5436  S26_Sess05_FB097           0\n",
       "5437  S26_Sess05_FB098           0\n",
       "5438  S26_Sess05_FB099           0\n",
       "5439  S26_Sess05_FB100           1\n",
       "\n",
       "[5440 rows x 2 columns]"
      ]
     },
     "execution_count": 57,
     "metadata": {},
     "output_type": "execute_result"
    }
   ],
   "source": [
    "train_labels"
   ]
  },
  {
   "cell_type": "code",
   "execution_count": 58,
   "metadata": {},
   "outputs": [],
   "source": [
    "training_subjects = int(16)\n",
    "num_of_fb = int(340)"
   ]
  },
  {
   "cell_type": "code",
   "execution_count": 59,
   "metadata": {},
   "outputs": [],
   "source": [
    "'''get_meta(labels)\n",
    "Get meta data for each feedback, returns subject #, session #, and feedback #, using regex patterns\n",
    "\n",
    "Args:\n",
    "    labels: train or test labels consisting of an IdFeedBack column\n",
    "    \n",
    "Returns:\n",
    "   subs, sess, fbs: Subjects, Sessions, and Feedbacks respectively returned as 1 dimensional array,\n",
    "   meta data can be used to improve model performances. \n",
    "'''\n",
    "def get_meta(labels):\n",
    "    subs = []\n",
    "    sess = []\n",
    "    fbs = []\n",
    "    for i,f in enumerate(labels.IdFeedBack.values):\n",
    "        [(subject, session, feedback)] = reg.findall('S(\\d\\d).+s(\\d\\d).+FB(\\d\\d\\d)',f)\n",
    "        subs.append(int(subject)) \n",
    "        sess.append(int(session)) \n",
    "        fbs.append(int(feedback))\n",
    "    return subs, sess, fbs"
   ]
  },
  {
   "cell_type": "code",
   "execution_count": 60,
   "metadata": {
    "scrolled": false
   },
   "outputs": [],
   "source": [
    "train_subs, train_sessions, train_fbs = get_meta(train_labels)\n",
    "test_subs, test_sessions, test_fbs = get_meta(submission)"
   ]
  },
  {
   "cell_type": "code",
   "execution_count": 61,
   "metadata": {},
   "outputs": [],
   "source": [
    "df_train = pd.DataFrame(X_train)\n",
    "df_train['Subject'] = train_subs\n",
    "df_train['Session'] = train_sessions\n",
    "df_train['Feedback'] = train_fbs"
   ]
  },
  {
   "cell_type": "code",
   "execution_count": 62,
   "metadata": {},
   "outputs": [],
   "source": [
    "df_test = pd.DataFrame(X_test)\n",
    "df_test['Subject'] = test_subs\n",
    "df_test['Session'] = test_sessions\n",
    "df_test['Feedback'] = test_fbs"
   ]
  },
  {
   "cell_type": "code",
   "execution_count": 63,
   "metadata": {},
   "outputs": [],
   "source": [
    "'''extract_sub(df_X, train_sub)\n",
    "Random selection of train_sub subjects, (16 - train_sub) are the number of subjects used for test data. Use train_subs\n",
    "to create train_subs random values ranging from 0 to 16, those subjects will now be training, while rest will be testing.\n",
    "\n",
    "Args:\n",
    "    df_X: DataFrame of input data, consisting of 16 total subjects, 340 feedbacks each\n",
    "    train_sub: number of subjects used for training\n",
    "    \n",
    "Returns:\n",
    "    train_x, train_y, test_x, test_y: train and test data for x and y respectively.\n",
    "'''\n",
    "def extract_sub(df_X, train_sub):\n",
    "    train_subs = random.sample(list(np.arange(0,training_subjects)),train_sub)\n",
    "    array = np.array(df_X).reshape(training_subjects,num_of_fb,df_X.shape[1])\n",
    "    array_Y = Y_train.reshape(training_subjects,num_of_fb)\n",
    "    train_x = []\n",
    "    train_y = []\n",
    "    test_x = []\n",
    "    test_y = []\n",
    "    for j, i in enumerate(np.arange(0,training_subjects)):\n",
    "        if i in train_subs:\n",
    "            if len(train_x) == 0:\n",
    "                train_x = array[i,:,:].reshape(num_of_fb,df_X.shape[1])\n",
    "                train_y = np.append(train_y, array_Y[i,:])\n",
    "\n",
    "            else:\n",
    "                train_x = np.append(train_x, array[i,:,:].reshape(num_of_fb,df_X.shape[1]), axis = 0)\n",
    "                train_y = np.append(train_y, array_Y[i,:])\n",
    "        else:\n",
    "            if len(test_x) == 0:\n",
    "                test_x = array[i,:,:].reshape(num_of_fb,df_X.shape[1])\n",
    "                test_y = np.append(test_y, array_Y[i,:])\n",
    "            else:\n",
    "                test_x = np.append(test_x, array[i,:,:].reshape(num_of_fb,df_X.shape[1]), axis = 0)\n",
    "                test_y = np.append(test_y, array_Y[i,:])\n",
    "    return train_x, train_y, test_x, test_y"
   ]
  },
  {
   "cell_type": "code",
   "execution_count": 64,
   "metadata": {},
   "outputs": [],
   "source": [
    "train_x, train_y, test_x, test_y = extract_sub(df_train, 12)"
   ]
  },
  {
   "cell_type": "code",
   "execution_count": 65,
   "metadata": {},
   "outputs": [
    {
     "name": "stdout",
     "output_type": "stream",
     "text": [
      "(4080, 213) (4080,)\n"
     ]
    }
   ],
   "source": [
    "print(train_x.shape, train_y. shape)"
   ]
  },
  {
   "cell_type": "code",
   "execution_count": 66,
   "metadata": {},
   "outputs": [
    {
     "name": "stdout",
     "output_type": "stream",
     "text": [
      "(1360, 213) (1360,)\n"
     ]
    }
   ],
   "source": [
    "print(test_x.shape, test_y. shape)"
   ]
  },
  {
   "cell_type": "code",
   "execution_count": 25,
   "metadata": {},
   "outputs": [
    {
     "name": "stdout",
     "output_type": "stream",
     "text": [
      "Elapsed Time: 2 seconds\n"
     ]
    }
   ],
   "source": [
    "start = time.time()\n",
    "clf = ensemble.RandomForestClassifier(n_jobs = -1, n_estimators=150, random_state=42)\n",
    "clf.fit(train_x, train_y)\n",
    "\n",
    "now = time.time()\n",
    "print('Elapsed Time: ' + str(int(now-start)) + ' seconds')"
   ]
  },
  {
   "cell_type": "code",
   "execution_count": 374,
   "metadata": {},
   "outputs": [],
   "source": [
    "preds = clf.predict_proba(test_x)[:,1]"
   ]
  },
  {
   "cell_type": "code",
   "execution_count": 274,
   "metadata": {},
   "outputs": [
    {
     "data": {
      "text/plain": [
       "(5100, 213)"
      ]
     },
     "execution_count": 274,
     "metadata": {},
     "output_type": "execute_result"
    }
   ],
   "source": [
    "train_x.shape"
   ]
  },
  {
   "cell_type": "code",
   "execution_count": 375,
   "metadata": {},
   "outputs": [
    {
     "name": "stdout",
     "output_type": "stream",
     "text": [
      "max(tpr - fpr) w/ th =  0.6866666666666666\n"
     ]
    },
    {
     "data": {
      "image/png": "[encoded data removed]",
      "text/plain": [
       "<Figure size 432x288 with 1 Axes>"
      ]
     },
     "metadata": {
      "needs_background": "light"
     },
     "output_type": "display_data"
    }
   ],
   "source": [
    "plot_roc(test_y, preds, 'Random Forest')"
   ]
  },
  {
   "cell_type": "code",
   "execution_count": 311,
   "metadata": {},
   "outputs": [
    {
     "name": "stdout",
     "output_type": "stream",
     "text": [
      "max(tpr - fpr) w/ th =  0.6933333333333334\n"
     ]
    },
    {
     "data": {
      "image/png": "[encoded data removed]",
      "text/plain": [
       "<Figure size 432x288 with 1 Axes>"
      ]
     },
     "metadata": {
      "needs_background": "light"
     },
     "output_type": "display_data"
    }
   ],
   "source": [
    "plot_roc(test_y, preds, 'Random Forest')"
   ]
  },
  {
   "cell_type": "markdown",
   "metadata": {},
   "source": [
    "## Random Forests"
   ]
  },
  {
   "cell_type": "code",
   "execution_count": 9,
   "metadata": {},
   "outputs": [
    {
     "name": "stdout",
     "output_type": "stream",
     "text": [
      "Elapsed Time: 2 seconds\n"
     ]
    }
   ],
   "source": [
    "start = time.time()\n",
    "clf = ensemble.RandomForestClassifier(n_jobs = -1, n_estimators=150, random_state=42)\n",
    "clf.fit(x_train1, y_train1)\n",
    "\n",
    "now = time.time()\n",
    "print('Elapsed Time: ' + str(int(now-start)) + ' seconds')"
   ]
  },
  {
   "cell_type": "code",
   "execution_count": 10,
   "metadata": {},
   "outputs": [],
   "source": [
    "preds = clf.predict_proba(x_test1)[:,1]"
   ]
  },
  {
   "cell_type": "code",
   "execution_count": 64,
   "metadata": {},
   "outputs": [],
   "source": [
    "def plot_roc(y, preds, model):\n",
    "    fpr, tpr, thresholds = roc_curve(y, preds)\n",
    "    optimal_idx = np.argmax(tpr - fpr)\n",
    "    optimal_threshold = thresholds[optimal_idx]\n",
    "    print(\"max(tpr - fpr) w/ th = \", optimal_threshold)\n",
    "    l1, = plt.plot([0, 1], [0, 1], '--')\n",
    "    l2, = plt.plot(fpr, tpr, label = 'Random Forest')\n",
    "    auc = roc_auc_score(y, preds)\n",
    "    l = plt.legend([l2], [model+str(' AUC: %.2f' % auc)])\n",
    "    plt.xlabel('False Positive Rate')\n",
    "    plt.ylabel('True Positive Rate')\n",
    "    plt.title('ROC Curve')\n",
    "    plt.show()"
   ]
  },
  {
   "cell_type": "code",
   "execution_count": 12,
   "metadata": {
    "scrolled": true
   },
   "outputs": [
    {
     "name": "stdout",
     "output_type": "stream",
     "text": [
      "max(tpr - fpr) w/ th =  0.6533333333333333\n"
     ]
    },
    {
     "data": {
      "image/png": "[encoded data removed]",
      "text/plain": [
       "<Figure size 432x288 with 1 Axes>"
      ]
     },
     "metadata": {
      "needs_background": "light"
     },
     "output_type": "display_data"
    }
   ],
   "source": [
    "plot_roc(y_test1, preds, 'Random Forest')"
   ]
  },
  {
   "cell_type": "code",
   "execution_count": 399,
   "metadata": {},
   "outputs": [],
   "source": [
    "params = {\n",
    "    'n_estimators': [100,200,500,1000],\n",
    "    'max_features': ['auto', 'sqrt', 'log2'],\n",
    "    'max_depth' : [1,10,50,100]\n",
    "}"
   ]
  },
  {
   "cell_type": "code",
   "execution_count": null,
   "metadata": {},
   "outputs": [],
   "source": [
    "train_subs = random.sample(list(np.arange(0,training_subjects)),train_sub)\n",
    "    array = np.array(df_X).reshape(training_subjects,num_of_fb,df_X.shape[1])\n",
    "    array_Y = Y_train.reshape(training_subjects,num_of_fb)\n",
    "    train_x = []\n",
    "    train_y = []\n",
    "    test_x = []\n",
    "    test_y = []\n",
    "    "
   ]
  },
  {
   "cell_type": "code",
   "execution_count": 24,
   "metadata": {},
   "outputs": [
    {
     "ename": "AttributeError",
     "evalue": "'numpy.ndarray' object has no attribute 'index'",
     "output_type": "error",
     "traceback": [
      "\u001b[1;31m---------------------------------------------------------------------------\u001b[0m",
      "\u001b[1;31mAttributeError\u001b[0m                            Traceback (most recent call last)",
      "\u001b[1;32m<ipython-input-24-a5fa67c9193c>\u001b[0m in \u001b[0;36m<module>\u001b[1;34m\u001b[0m\n\u001b[0;32m      4\u001b[0m \u001b[1;32mfor\u001b[0m \u001b[0mi\u001b[0m \u001b[1;32min\u001b[0m \u001b[0mrange\u001b[0m\u001b[1;33m(\u001b[0m\u001b[1;36m4\u001b[0m\u001b[1;33m)\u001b[0m\u001b[1;33m:\u001b[0m\u001b[1;33m\u001b[0m\u001b[1;33m\u001b[0m\u001b[0m\n\u001b[0;32m      5\u001b[0m     \u001b[0mtrain_x\u001b[0m\u001b[1;33m,\u001b[0m \u001b[0mtrain_y\u001b[0m\u001b[1;33m,\u001b[0m \u001b[0mtest_x\u001b[0m\u001b[1;33m,\u001b[0m \u001b[0mtest_y\u001b[0m \u001b[1;33m=\u001b[0m \u001b[0mextract_sub\u001b[0m\u001b[1;33m(\u001b[0m\u001b[0mdf_train\u001b[0m\u001b[1;33m,\u001b[0m \u001b[1;36m12\u001b[0m\u001b[1;33m)\u001b[0m\u001b[1;33m\u001b[0m\u001b[1;33m\u001b[0m\u001b[0m\n\u001b[1;32m----> 6\u001b[1;33m     \u001b[0mtrainIndices\u001b[0m \u001b[1;33m=\u001b[0m \u001b[0mtrain_x\u001b[0m\u001b[1;33m.\u001b[0m\u001b[0mindex\u001b[0m\u001b[1;33m.\u001b[0m\u001b[0mvalues\u001b[0m\u001b[1;33m.\u001b[0m\u001b[0mastype\u001b[0m\u001b[1;33m(\u001b[0m\u001b[0mint\u001b[0m\u001b[1;33m)\u001b[0m\u001b[1;33m\u001b[0m\u001b[1;33m\u001b[0m\u001b[0m\n\u001b[0m\u001b[0;32m      7\u001b[0m     \u001b[0mtestIndices\u001b[0m \u001b[1;33m=\u001b[0m  \u001b[0mtest_x\u001b[0m\u001b[1;33m.\u001b[0m\u001b[0mindex\u001b[0m\u001b[1;33m.\u001b[0m\u001b[0mvalues\u001b[0m\u001b[1;33m.\u001b[0m\u001b[0mastype\u001b[0m\u001b[1;33m(\u001b[0m\u001b[0mint\u001b[0m\u001b[1;33m)\u001b[0m\u001b[1;33m\u001b[0m\u001b[1;33m\u001b[0m\u001b[0m\n\u001b[0;32m      8\u001b[0m     \u001b[0mmyCV\u001b[0m\u001b[1;33m.\u001b[0m\u001b[0mappend\u001b[0m\u001b[1;33m(\u001b[0m \u001b[1;33m(\u001b[0m\u001b[0mtrainIndices\u001b[0m\u001b[1;33m,\u001b[0m \u001b[0mtestIndices\u001b[0m\u001b[1;33m)\u001b[0m\u001b[1;33m)\u001b[0m\u001b[1;33m\u001b[0m\u001b[1;33m\u001b[0m\u001b[0m\n",
      "\u001b[1;31mAttributeError\u001b[0m: 'numpy.ndarray' object has no attribute 'index'"
     ]
    }
   ],
   "source": [
    "myCV = []\n",
    "train_subs = []\n",
    "test_subs = []\n",
    "for i in range(4):\n",
    "    train_x, train_y, test_x, test_y = extract_sub(df_train, 12)\n",
    "    trainIndices = train_x.index.values.astype(int)\n",
    "    testIndices =  test_x.index.values.astype(int)\n",
    "    myCV.append( (trainIndices, testIndices))"
   ]
  },
  {
   "cell_type": "code",
   "execution_count": 38,
   "metadata": {},
   "outputs": [
    {
     "data": {
      "text/plain": [
       "array([[-3.05263699e-01, -3.07819663e-02, -4.71910250e-01, ...,\n",
       "         2.00000000e+00,  1.00000000e+00,  1.00000000e+00],\n",
       "       [-2.66628725e-01, -1.81049091e-02, -4.78228377e-01, ...,\n",
       "         2.00000000e+00,  1.00000000e+00,  2.00000000e+00],\n",
       "       [-2.50896688e-01, -5.88883808e-02, -5.04756293e-01, ...,\n",
       "         2.00000000e+00,  1.00000000e+00,  3.00000000e+00],\n",
       "       ...,\n",
       "       [-9.46498551e-01, -6.89467149e-02, -8.40739974e-02, ...,\n",
       "         2.60000000e+01,  5.00000000e+00,  9.80000000e+01],\n",
       "       [-7.75437908e-01, -1.14420645e-02, -1.26510940e-01, ...,\n",
       "         2.60000000e+01,  5.00000000e+00,  9.90000000e+01],\n",
       "       [-8.57468365e-01,  3.98490530e-02, -2.32000896e-02, ...,\n",
       "         2.60000000e+01,  5.00000000e+00,  1.00000000e+02]])"
      ]
     },
     "execution_count": 38,
     "metadata": {},
     "output_type": "execute_result"
    }
   ],
   "source": [
    "df_train.values"
   ]
  },
  {
   "cell_type": "code",
   "execution_count": null,
   "metadata": {},
   "outputs": [],
   "source": []
  },
  {
   "cell_type": "code",
   "execution_count": null,
   "metadata": {
    "scrolled": true
   },
   "outputs": [
    {
     "name": "stdout",
     "output_type": "stream",
     "text": [
      "Fitting 16 folds for each of 48 candidates, totalling 768 fits\n"
     ]
    },
    {
     "name": "stderr",
     "output_type": "stream",
     "text": [
      "[Parallel(n_jobs=-1)]: Using backend LokyBackend with 8 concurrent workers.\n",
      "[Parallel(n_jobs=-1)]: Done   2 tasks      | elapsed:    4.5s\n",
      "[Parallel(n_jobs=-1)]: Done  56 tasks      | elapsed:   44.6s\n",
      "[Parallel(n_jobs=-1)]: Done 146 tasks      | elapsed:  2.0min\n",
      "[Parallel(n_jobs=-1)]: Done 272 tasks      | elapsed:  9.7min\n",
      "[Parallel(n_jobs=-1)]: Done 434 tasks      | elapsed: 26.6min\n"
     ]
    }
   ],
   "source": [
    "clf = ensemble.RandomForestClassifier(n_jobs = -1, random_state=42)\n",
    "cv = GridSearchCV(clf, param_grid=params, scoring='accuracy', n_jobs=-1, verbose=5, refit='accuracy', cv=16)\n",
    "cv.fit(X_train,Y_train)"
   ]
  },
  {
   "cell_type": "code",
   "execution_count": 14,
   "metadata": {},
   "outputs": [
    {
     "name": "stdout",
     "output_type": "stream",
     "text": [
      "best params:  {'max_depth': 1, 'max_features': 'auto', 'n_estimators': 100}\n"
     ]
    },
    {
     "data": {
      "text/html": [
       "<div>\n",
       "<style scoped>\n",
       "    .dataframe tbody tr th:only-of-type {\n",
       "        vertical-align: middle;\n",
       "    }\n",
       "\n",
       "    .dataframe tbody tr th {\n",
       "        vertical-align: top;\n",
       "    }\n",
       "\n",
       "    .dataframe thead th {\n",
       "        text-align: right;\n",
       "    }\n",
       "</style>\n",
       "<table border=\"1\" class=\"dataframe\">\n",
       "  <thead>\n",
       "    <tr style=\"text-align: right;\">\n",
       "      <th></th>\n",
       "      <th>mean_fit_time</th>\n",
       "      <th>std_fit_time</th>\n",
       "      <th>mean_score_time</th>\n",
       "      <th>std_score_time</th>\n",
       "      <th>param_max_depth</th>\n",
       "      <th>param_max_features</th>\n",
       "      <th>param_n_estimators</th>\n",
       "      <th>params</th>\n",
       "      <th>split0_test_score</th>\n",
       "      <th>split1_test_score</th>\n",
       "      <th>split2_test_score</th>\n",
       "      <th>split3_test_score</th>\n",
       "      <th>mean_test_score</th>\n",
       "      <th>std_test_score</th>\n",
       "      <th>rank_test_score</th>\n",
       "    </tr>\n",
       "  </thead>\n",
       "  <tbody>\n",
       "    <tr>\n",
       "      <td>0</td>\n",
       "      <td>1.521680</td>\n",
       "      <td>0.365569</td>\n",
       "      <td>1.176135</td>\n",
       "      <td>0.227289</td>\n",
       "      <td>1</td>\n",
       "      <td>auto</td>\n",
       "      <td>100</td>\n",
       "      <td>{'max_depth': 1, 'max_features': 'auto', 'n_es...</td>\n",
       "      <td>0.707568</td>\n",
       "      <td>0.707568</td>\n",
       "      <td>0.707873</td>\n",
       "      <td>0.707873</td>\n",
       "      <td>0.707721</td>\n",
       "      <td>0.000153</td>\n",
       "      <td>1</td>\n",
       "    </tr>\n",
       "    <tr>\n",
       "      <td>1</td>\n",
       "      <td>2.741622</td>\n",
       "      <td>0.521117</td>\n",
       "      <td>0.675058</td>\n",
       "      <td>0.421479</td>\n",
       "      <td>1</td>\n",
       "      <td>auto</td>\n",
       "      <td>200</td>\n",
       "      <td>{'max_depth': 1, 'max_features': 'auto', 'n_es...</td>\n",
       "      <td>0.707568</td>\n",
       "      <td>0.707568</td>\n",
       "      <td>0.707873</td>\n",
       "      <td>0.707873</td>\n",
       "      <td>0.707721</td>\n",
       "      <td>0.000153</td>\n",
       "      <td>1</td>\n",
       "    </tr>\n",
       "    <tr>\n",
       "      <td>2</td>\n",
       "      <td>6.541156</td>\n",
       "      <td>0.585087</td>\n",
       "      <td>2.281829</td>\n",
       "      <td>0.771777</td>\n",
       "      <td>1</td>\n",
       "      <td>auto</td>\n",
       "      <td>500</td>\n",
       "      <td>{'max_depth': 1, 'max_features': 'auto', 'n_es...</td>\n",
       "      <td>0.707568</td>\n",
       "      <td>0.707568</td>\n",
       "      <td>0.707873</td>\n",
       "      <td>0.707873</td>\n",
       "      <td>0.707721</td>\n",
       "      <td>0.000153</td>\n",
       "      <td>1</td>\n",
       "    </tr>\n",
       "    <tr>\n",
       "      <td>3</td>\n",
       "      <td>14.225604</td>\n",
       "      <td>0.579375</td>\n",
       "      <td>1.220352</td>\n",
       "      <td>0.366931</td>\n",
       "      <td>1</td>\n",
       "      <td>auto</td>\n",
       "      <td>1000</td>\n",
       "      <td>{'max_depth': 1, 'max_features': 'auto', 'n_es...</td>\n",
       "      <td>0.707568</td>\n",
       "      <td>0.707568</td>\n",
       "      <td>0.707873</td>\n",
       "      <td>0.707873</td>\n",
       "      <td>0.707721</td>\n",
       "      <td>0.000153</td>\n",
       "      <td>1</td>\n",
       "    </tr>\n",
       "    <tr>\n",
       "      <td>4</td>\n",
       "      <td>5.372815</td>\n",
       "      <td>0.255646</td>\n",
       "      <td>1.080329</td>\n",
       "      <td>0.837969</td>\n",
       "      <td>1</td>\n",
       "      <td>sqrt</td>\n",
       "      <td>100</td>\n",
       "      <td>{'max_depth': 1, 'max_features': 'sqrt', 'n_es...</td>\n",
       "      <td>0.707568</td>\n",
       "      <td>0.707568</td>\n",
       "      <td>0.707873</td>\n",
       "      <td>0.707873</td>\n",
       "      <td>0.707721</td>\n",
       "      <td>0.000153</td>\n",
       "      <td>1</td>\n",
       "    </tr>\n",
       "    <tr>\n",
       "      <td>5</td>\n",
       "      <td>2.213030</td>\n",
       "      <td>0.299663</td>\n",
       "      <td>0.751772</td>\n",
       "      <td>0.193605</td>\n",
       "      <td>1</td>\n",
       "      <td>sqrt</td>\n",
       "      <td>200</td>\n",
       "      <td>{'max_depth': 1, 'max_features': 'sqrt', 'n_es...</td>\n",
       "      <td>0.707568</td>\n",
       "      <td>0.707568</td>\n",
       "      <td>0.707873</td>\n",
       "      <td>0.707873</td>\n",
       "      <td>0.707721</td>\n",
       "      <td>0.000153</td>\n",
       "      <td>1</td>\n",
       "    </tr>\n",
       "    <tr>\n",
       "      <td>6</td>\n",
       "      <td>5.768453</td>\n",
       "      <td>0.505435</td>\n",
       "      <td>1.282780</td>\n",
       "      <td>0.338463</td>\n",
       "      <td>1</td>\n",
       "      <td>sqrt</td>\n",
       "      <td>500</td>\n",
       "      <td>{'max_depth': 1, 'max_features': 'sqrt', 'n_es...</td>\n",
       "      <td>0.707568</td>\n",
       "      <td>0.707568</td>\n",
       "      <td>0.707873</td>\n",
       "      <td>0.707873</td>\n",
       "      <td>0.707721</td>\n",
       "      <td>0.000153</td>\n",
       "      <td>1</td>\n",
       "    </tr>\n",
       "    <tr>\n",
       "      <td>7</td>\n",
       "      <td>14.024614</td>\n",
       "      <td>1.085484</td>\n",
       "      <td>2.326262</td>\n",
       "      <td>0.962903</td>\n",
       "      <td>1</td>\n",
       "      <td>sqrt</td>\n",
       "      <td>1000</td>\n",
       "      <td>{'max_depth': 1, 'max_features': 'sqrt', 'n_es...</td>\n",
       "      <td>0.707568</td>\n",
       "      <td>0.707568</td>\n",
       "      <td>0.707873</td>\n",
       "      <td>0.707873</td>\n",
       "      <td>0.707721</td>\n",
       "      <td>0.000153</td>\n",
       "      <td>1</td>\n",
       "    </tr>\n",
       "    <tr>\n",
       "      <td>8</td>\n",
       "      <td>2.861468</td>\n",
       "      <td>1.238367</td>\n",
       "      <td>3.019022</td>\n",
       "      <td>0.874581</td>\n",
       "      <td>1</td>\n",
       "      <td>log2</td>\n",
       "      <td>100</td>\n",
       "      <td>{'max_depth': 1, 'max_features': 'log2', 'n_es...</td>\n",
       "      <td>0.707568</td>\n",
       "      <td>0.707568</td>\n",
       "      <td>0.707873</td>\n",
       "      <td>0.707873</td>\n",
       "      <td>0.707721</td>\n",
       "      <td>0.000153</td>\n",
       "      <td>1</td>\n",
       "    </tr>\n",
       "    <tr>\n",
       "      <td>9</td>\n",
       "      <td>4.580955</td>\n",
       "      <td>1.006996</td>\n",
       "      <td>1.012877</td>\n",
       "      <td>0.659329</td>\n",
       "      <td>1</td>\n",
       "      <td>log2</td>\n",
       "      <td>200</td>\n",
       "      <td>{'max_depth': 1, 'max_features': 'log2', 'n_es...</td>\n",
       "      <td>0.707568</td>\n",
       "      <td>0.707568</td>\n",
       "      <td>0.707873</td>\n",
       "      <td>0.707873</td>\n",
       "      <td>0.707721</td>\n",
       "      <td>0.000153</td>\n",
       "      <td>1</td>\n",
       "    </tr>\n",
       "    <tr>\n",
       "      <td>10</td>\n",
       "      <td>4.598084</td>\n",
       "      <td>0.760250</td>\n",
       "      <td>1.041977</td>\n",
       "      <td>0.048364</td>\n",
       "      <td>1</td>\n",
       "      <td>log2</td>\n",
       "      <td>500</td>\n",
       "      <td>{'max_depth': 1, 'max_features': 'log2', 'n_es...</td>\n",
       "      <td>0.707568</td>\n",
       "      <td>0.707568</td>\n",
       "      <td>0.707873</td>\n",
       "      <td>0.707873</td>\n",
       "      <td>0.707721</td>\n",
       "      <td>0.000153</td>\n",
       "      <td>1</td>\n",
       "    </tr>\n",
       "    <tr>\n",
       "      <td>11</td>\n",
       "      <td>14.112609</td>\n",
       "      <td>3.447232</td>\n",
       "      <td>3.224726</td>\n",
       "      <td>2.385696</td>\n",
       "      <td>1</td>\n",
       "      <td>log2</td>\n",
       "      <td>1000</td>\n",
       "      <td>{'max_depth': 1, 'max_features': 'log2', 'n_es...</td>\n",
       "      <td>0.707568</td>\n",
       "      <td>0.707568</td>\n",
       "      <td>0.707873</td>\n",
       "      <td>0.707873</td>\n",
       "      <td>0.707721</td>\n",
       "      <td>0.000153</td>\n",
       "      <td>1</td>\n",
       "    </tr>\n",
       "    <tr>\n",
       "      <td>21</td>\n",
       "      <td>15.019002</td>\n",
       "      <td>0.205773</td>\n",
       "      <td>4.995791</td>\n",
       "      <td>0.224645</td>\n",
       "      <td>10</td>\n",
       "      <td>log2</td>\n",
       "      <td>200</td>\n",
       "      <td>{'max_depth': 10, 'max_features': 'log2', 'n_e...</td>\n",
       "      <td>0.709037</td>\n",
       "      <td>0.695077</td>\n",
       "      <td>0.712288</td>\n",
       "      <td>0.711553</td>\n",
       "      <td>0.706985</td>\n",
       "      <td>0.006983</td>\n",
       "      <td>13</td>\n",
       "    </tr>\n",
       "    <tr>\n",
       "      <td>14</td>\n",
       "      <td>59.896443</td>\n",
       "      <td>1.287954</td>\n",
       "      <td>5.806631</td>\n",
       "      <td>0.425029</td>\n",
       "      <td>10</td>\n",
       "      <td>auto</td>\n",
       "      <td>500</td>\n",
       "      <td>{'max_depth': 10, 'max_features': 'auto', 'n_e...</td>\n",
       "      <td>0.710507</td>\n",
       "      <td>0.682586</td>\n",
       "      <td>0.718175</td>\n",
       "      <td>0.716703</td>\n",
       "      <td>0.706985</td>\n",
       "      <td>0.014384</td>\n",
       "      <td>13</td>\n",
       "    </tr>\n",
       "    <tr>\n",
       "      <td>18</td>\n",
       "      <td>49.339068</td>\n",
       "      <td>0.629107</td>\n",
       "      <td>5.733791</td>\n",
       "      <td>0.479314</td>\n",
       "      <td>10</td>\n",
       "      <td>sqrt</td>\n",
       "      <td>500</td>\n",
       "      <td>{'max_depth': 10, 'max_features': 'sqrt', 'n_e...</td>\n",
       "      <td>0.710507</td>\n",
       "      <td>0.682586</td>\n",
       "      <td>0.718175</td>\n",
       "      <td>0.716703</td>\n",
       "      <td>0.706985</td>\n",
       "      <td>0.014384</td>\n",
       "      <td>13</td>\n",
       "    </tr>\n",
       "    <tr>\n",
       "      <td>20</td>\n",
       "      <td>10.273734</td>\n",
       "      <td>0.447385</td>\n",
       "      <td>5.242884</td>\n",
       "      <td>0.522584</td>\n",
       "      <td>10</td>\n",
       "      <td>log2</td>\n",
       "      <td>100</td>\n",
       "      <td>{'max_depth': 10, 'max_features': 'log2', 'n_e...</td>\n",
       "      <td>0.709772</td>\n",
       "      <td>0.690669</td>\n",
       "      <td>0.711553</td>\n",
       "      <td>0.714496</td>\n",
       "      <td>0.706618</td>\n",
       "      <td>0.009366</td>\n",
       "      <td>16</td>\n",
       "    </tr>\n",
       "    <tr>\n",
       "      <td>23</td>\n",
       "      <td>53.597246</td>\n",
       "      <td>0.795352</td>\n",
       "      <td>4.489804</td>\n",
       "      <td>1.171157</td>\n",
       "      <td>10</td>\n",
       "      <td>log2</td>\n",
       "      <td>1000</td>\n",
       "      <td>{'max_depth': 10, 'max_features': 'log2', 'n_e...</td>\n",
       "      <td>0.708303</td>\n",
       "      <td>0.692873</td>\n",
       "      <td>0.709345</td>\n",
       "      <td>0.714496</td>\n",
       "      <td>0.706250</td>\n",
       "      <td>0.008075</td>\n",
       "      <td>17</td>\n",
       "    </tr>\n",
       "    <tr>\n",
       "      <td>15</td>\n",
       "      <td>112.068511</td>\n",
       "      <td>0.822550</td>\n",
       "      <td>5.314680</td>\n",
       "      <td>0.526473</td>\n",
       "      <td>10</td>\n",
       "      <td>auto</td>\n",
       "      <td>1000</td>\n",
       "      <td>{'max_depth': 10, 'max_features': 'auto', 'n_e...</td>\n",
       "      <td>0.709037</td>\n",
       "      <td>0.677443</td>\n",
       "      <td>0.716703</td>\n",
       "      <td>0.721118</td>\n",
       "      <td>0.706066</td>\n",
       "      <td>0.017089</td>\n",
       "      <td>18</td>\n",
       "    </tr>\n",
       "    <tr>\n",
       "      <td>19</td>\n",
       "      <td>96.725365</td>\n",
       "      <td>0.778604</td>\n",
       "      <td>5.928165</td>\n",
       "      <td>0.855787</td>\n",
       "      <td>10</td>\n",
       "      <td>sqrt</td>\n",
       "      <td>1000</td>\n",
       "      <td>{'max_depth': 10, 'max_features': 'sqrt', 'n_e...</td>\n",
       "      <td>0.709037</td>\n",
       "      <td>0.677443</td>\n",
       "      <td>0.716703</td>\n",
       "      <td>0.721118</td>\n",
       "      <td>0.706066</td>\n",
       "      <td>0.017089</td>\n",
       "      <td>18</td>\n",
       "    </tr>\n",
       "    <tr>\n",
       "      <td>22</td>\n",
       "      <td>28.246981</td>\n",
       "      <td>0.876783</td>\n",
       "      <td>1.813186</td>\n",
       "      <td>0.720677</td>\n",
       "      <td>10</td>\n",
       "      <td>log2</td>\n",
       "      <td>500</td>\n",
       "      <td>{'max_depth': 10, 'max_features': 'log2', 'n_e...</td>\n",
       "      <td>0.706098</td>\n",
       "      <td>0.693608</td>\n",
       "      <td>0.710817</td>\n",
       "      <td>0.711553</td>\n",
       "      <td>0.705515</td>\n",
       "      <td>0.007189</td>\n",
       "      <td>20</td>\n",
       "    </tr>\n",
       "    <tr>\n",
       "      <td>17</td>\n",
       "      <td>31.907489</td>\n",
       "      <td>0.856647</td>\n",
       "      <td>5.257877</td>\n",
       "      <td>0.541444</td>\n",
       "      <td>10</td>\n",
       "      <td>sqrt</td>\n",
       "      <td>200</td>\n",
       "      <td>{'max_depth': 10, 'max_features': 'sqrt', 'n_e...</td>\n",
       "      <td>0.707568</td>\n",
       "      <td>0.678913</td>\n",
       "      <td>0.720383</td>\n",
       "      <td>0.714496</td>\n",
       "      <td>0.705331</td>\n",
       "      <td>0.015920</td>\n",
       "      <td>21</td>\n",
       "    </tr>\n",
       "    <tr>\n",
       "      <td>13</td>\n",
       "      <td>21.685706</td>\n",
       "      <td>3.053893</td>\n",
       "      <td>5.533498</td>\n",
       "      <td>1.513516</td>\n",
       "      <td>10</td>\n",
       "      <td>auto</td>\n",
       "      <td>200</td>\n",
       "      <td>{'max_depth': 10, 'max_features': 'auto', 'n_e...</td>\n",
       "      <td>0.707568</td>\n",
       "      <td>0.678913</td>\n",
       "      <td>0.720383</td>\n",
       "      <td>0.714496</td>\n",
       "      <td>0.705331</td>\n",
       "      <td>0.015920</td>\n",
       "      <td>21</td>\n",
       "    </tr>\n",
       "    <tr>\n",
       "      <td>12</td>\n",
       "      <td>11.628580</td>\n",
       "      <td>0.971659</td>\n",
       "      <td>1.679440</td>\n",
       "      <td>0.672020</td>\n",
       "      <td>10</td>\n",
       "      <td>auto</td>\n",
       "      <td>100</td>\n",
       "      <td>{'max_depth': 10, 'max_features': 'auto', 'n_e...</td>\n",
       "      <td>0.703894</td>\n",
       "      <td>0.685525</td>\n",
       "      <td>0.718175</td>\n",
       "      <td>0.709345</td>\n",
       "      <td>0.704228</td>\n",
       "      <td>0.011945</td>\n",
       "      <td>23</td>\n",
       "    </tr>\n",
       "    <tr>\n",
       "      <td>16</td>\n",
       "      <td>18.594257</td>\n",
       "      <td>0.839930</td>\n",
       "      <td>5.239463</td>\n",
       "      <td>0.617594</td>\n",
       "      <td>10</td>\n",
       "      <td>sqrt</td>\n",
       "      <td>100</td>\n",
       "      <td>{'max_depth': 10, 'max_features': 'sqrt', 'n_e...</td>\n",
       "      <td>0.703894</td>\n",
       "      <td>0.685525</td>\n",
       "      <td>0.718175</td>\n",
       "      <td>0.709345</td>\n",
       "      <td>0.704228</td>\n",
       "      <td>0.011945</td>\n",
       "      <td>23</td>\n",
       "    </tr>\n",
       "    <tr>\n",
       "      <td>35</td>\n",
       "      <td>65.962748</td>\n",
       "      <td>0.779777</td>\n",
       "      <td>2.325936</td>\n",
       "      <td>0.060700</td>\n",
       "      <td>50</td>\n",
       "      <td>log2</td>\n",
       "      <td>1000</td>\n",
       "      <td>{'max_depth': 50, 'max_features': 'log2', 'n_e...</td>\n",
       "      <td>0.709037</td>\n",
       "      <td>0.661278</td>\n",
       "      <td>0.720383</td>\n",
       "      <td>0.719647</td>\n",
       "      <td>0.702574</td>\n",
       "      <td>0.024272</td>\n",
       "      <td>25</td>\n",
       "    </tr>\n",
       "    <tr>\n",
       "      <td>47</td>\n",
       "      <td>41.208480</td>\n",
       "      <td>0.646761</td>\n",
       "      <td>1.891689</td>\n",
       "      <td>1.079434</td>\n",
       "      <td>100</td>\n",
       "      <td>log2</td>\n",
       "      <td>1000</td>\n",
       "      <td>{'max_depth': 100, 'max_features': 'log2', 'n_...</td>\n",
       "      <td>0.709037</td>\n",
       "      <td>0.661278</td>\n",
       "      <td>0.720383</td>\n",
       "      <td>0.719647</td>\n",
       "      <td>0.702574</td>\n",
       "      <td>0.024272</td>\n",
       "      <td>25</td>\n",
       "    </tr>\n",
       "    <tr>\n",
       "      <td>34</td>\n",
       "      <td>41.204179</td>\n",
       "      <td>1.614487</td>\n",
       "      <td>1.955981</td>\n",
       "      <td>1.337062</td>\n",
       "      <td>50</td>\n",
       "      <td>log2</td>\n",
       "      <td>500</td>\n",
       "      <td>{'max_depth': 50, 'max_features': 'log2', 'n_e...</td>\n",
       "      <td>0.711242</td>\n",
       "      <td>0.660544</td>\n",
       "      <td>0.718911</td>\n",
       "      <td>0.714496</td>\n",
       "      <td>0.701287</td>\n",
       "      <td>0.023691</td>\n",
       "      <td>27</td>\n",
       "    </tr>\n",
       "    <tr>\n",
       "      <td>46</td>\n",
       "      <td>36.190959</td>\n",
       "      <td>2.646249</td>\n",
       "      <td>2.071760</td>\n",
       "      <td>1.195460</td>\n",
       "      <td>100</td>\n",
       "      <td>log2</td>\n",
       "      <td>500</td>\n",
       "      <td>{'max_depth': 100, 'max_features': 'log2', 'n_...</td>\n",
       "      <td>0.711242</td>\n",
       "      <td>0.660544</td>\n",
       "      <td>0.718911</td>\n",
       "      <td>0.714496</td>\n",
       "      <td>0.701287</td>\n",
       "      <td>0.023691</td>\n",
       "      <td>27</td>\n",
       "    </tr>\n",
       "    <tr>\n",
       "      <td>26</td>\n",
       "      <td>82.296482</td>\n",
       "      <td>1.986405</td>\n",
       "      <td>5.860647</td>\n",
       "      <td>0.338713</td>\n",
       "      <td>50</td>\n",
       "      <td>auto</td>\n",
       "      <td>500</td>\n",
       "      <td>{'max_depth': 50, 'max_features': 'auto', 'n_e...</td>\n",
       "      <td>0.709037</td>\n",
       "      <td>0.650257</td>\n",
       "      <td>0.723326</td>\n",
       "      <td>0.718911</td>\n",
       "      <td>0.700368</td>\n",
       "      <td>0.029404</td>\n",
       "      <td>29</td>\n",
       "    </tr>\n",
       "    <tr>\n",
       "      <td>30</td>\n",
       "      <td>82.591770</td>\n",
       "      <td>4.214124</td>\n",
       "      <td>4.965857</td>\n",
       "      <td>0.397457</td>\n",
       "      <td>50</td>\n",
       "      <td>sqrt</td>\n",
       "      <td>500</td>\n",
       "      <td>{'max_depth': 50, 'max_features': 'sqrt', 'n_e...</td>\n",
       "      <td>0.709037</td>\n",
       "      <td>0.650257</td>\n",
       "      <td>0.723326</td>\n",
       "      <td>0.718911</td>\n",
       "      <td>0.700368</td>\n",
       "      <td>0.029404</td>\n",
       "      <td>29</td>\n",
       "    </tr>\n",
       "    <tr>\n",
       "      <td>38</td>\n",
       "      <td>77.433335</td>\n",
       "      <td>4.281236</td>\n",
       "      <td>6.853160</td>\n",
       "      <td>1.118938</td>\n",
       "      <td>100</td>\n",
       "      <td>auto</td>\n",
       "      <td>500</td>\n",
       "      <td>{'max_depth': 100, 'max_features': 'auto', 'n_...</td>\n",
       "      <td>0.709037</td>\n",
       "      <td>0.650257</td>\n",
       "      <td>0.723326</td>\n",
       "      <td>0.718911</td>\n",
       "      <td>0.700368</td>\n",
       "      <td>0.029404</td>\n",
       "      <td>29</td>\n",
       "    </tr>\n",
       "    <tr>\n",
       "      <td>42</td>\n",
       "      <td>75.593290</td>\n",
       "      <td>3.067296</td>\n",
       "      <td>6.688717</td>\n",
       "      <td>0.329928</td>\n",
       "      <td>100</td>\n",
       "      <td>sqrt</td>\n",
       "      <td>500</td>\n",
       "      <td>{'max_depth': 100, 'max_features': 'sqrt', 'n_...</td>\n",
       "      <td>0.709037</td>\n",
       "      <td>0.650257</td>\n",
       "      <td>0.723326</td>\n",
       "      <td>0.718911</td>\n",
       "      <td>0.700368</td>\n",
       "      <td>0.029404</td>\n",
       "      <td>29</td>\n",
       "    </tr>\n",
       "    <tr>\n",
       "      <td>29</td>\n",
       "      <td>40.802362</td>\n",
       "      <td>0.618626</td>\n",
       "      <td>2.905801</td>\n",
       "      <td>1.085697</td>\n",
       "      <td>50</td>\n",
       "      <td>sqrt</td>\n",
       "      <td>200</td>\n",
       "      <td>{'max_depth': 50, 'max_features': 'sqrt', 'n_e...</td>\n",
       "      <td>0.709037</td>\n",
       "      <td>0.660544</td>\n",
       "      <td>0.717439</td>\n",
       "      <td>0.712288</td>\n",
       "      <td>0.699816</td>\n",
       "      <td>0.022882</td>\n",
       "      <td>33</td>\n",
       "    </tr>\n",
       "    <tr>\n",
       "      <td>25</td>\n",
       "      <td>33.857834</td>\n",
       "      <td>0.424102</td>\n",
       "      <td>1.495779</td>\n",
       "      <td>0.773842</td>\n",
       "      <td>50</td>\n",
       "      <td>auto</td>\n",
       "      <td>200</td>\n",
       "      <td>{'max_depth': 50, 'max_features': 'auto', 'n_e...</td>\n",
       "      <td>0.709037</td>\n",
       "      <td>0.660544</td>\n",
       "      <td>0.717439</td>\n",
       "      <td>0.712288</td>\n",
       "      <td>0.699816</td>\n",
       "      <td>0.022882</td>\n",
       "      <td>33</td>\n",
       "    </tr>\n",
       "    <tr>\n",
       "      <td>37</td>\n",
       "      <td>38.340227</td>\n",
       "      <td>1.541975</td>\n",
       "      <td>5.153155</td>\n",
       "      <td>1.350099</td>\n",
       "      <td>100</td>\n",
       "      <td>auto</td>\n",
       "      <td>200</td>\n",
       "      <td>{'max_depth': 100, 'max_features': 'auto', 'n_...</td>\n",
       "      <td>0.709037</td>\n",
       "      <td>0.660544</td>\n",
       "      <td>0.717439</td>\n",
       "      <td>0.712288</td>\n",
       "      <td>0.699816</td>\n",
       "      <td>0.022882</td>\n",
       "      <td>33</td>\n",
       "    </tr>\n",
       "    <tr>\n",
       "      <td>41</td>\n",
       "      <td>38.320157</td>\n",
       "      <td>1.189308</td>\n",
       "      <td>4.638067</td>\n",
       "      <td>1.925721</td>\n",
       "      <td>100</td>\n",
       "      <td>sqrt</td>\n",
       "      <td>200</td>\n",
       "      <td>{'max_depth': 100, 'max_features': 'sqrt', 'n_...</td>\n",
       "      <td>0.709037</td>\n",
       "      <td>0.660544</td>\n",
       "      <td>0.717439</td>\n",
       "      <td>0.712288</td>\n",
       "      <td>0.699816</td>\n",
       "      <td>0.022882</td>\n",
       "      <td>33</td>\n",
       "    </tr>\n",
       "    <tr>\n",
       "      <td>27</td>\n",
       "      <td>159.824522</td>\n",
       "      <td>1.190875</td>\n",
       "      <td>2.408354</td>\n",
       "      <td>0.587292</td>\n",
       "      <td>50</td>\n",
       "      <td>auto</td>\n",
       "      <td>1000</td>\n",
       "      <td>{'max_depth': 50, 'max_features': 'auto', 'n_e...</td>\n",
       "      <td>0.707568</td>\n",
       "      <td>0.646583</td>\n",
       "      <td>0.723326</td>\n",
       "      <td>0.717439</td>\n",
       "      <td>0.698713</td>\n",
       "      <td>0.030634</td>\n",
       "      <td>37</td>\n",
       "    </tr>\n",
       "    <tr>\n",
       "      <td>45</td>\n",
       "      <td>19.807943</td>\n",
       "      <td>0.494233</td>\n",
       "      <td>5.276702</td>\n",
       "      <td>1.054973</td>\n",
       "      <td>100</td>\n",
       "      <td>log2</td>\n",
       "      <td>200</td>\n",
       "      <td>{'max_depth': 100, 'max_features': 'log2', 'n_...</td>\n",
       "      <td>0.709772</td>\n",
       "      <td>0.653196</td>\n",
       "      <td>0.721118</td>\n",
       "      <td>0.710817</td>\n",
       "      <td>0.698713</td>\n",
       "      <td>0.026663</td>\n",
       "      <td>37</td>\n",
       "    </tr>\n",
       "    <tr>\n",
       "      <td>31</td>\n",
       "      <td>162.986287</td>\n",
       "      <td>1.144580</td>\n",
       "      <td>3.932595</td>\n",
       "      <td>0.348301</td>\n",
       "      <td>50</td>\n",
       "      <td>sqrt</td>\n",
       "      <td>1000</td>\n",
       "      <td>{'max_depth': 50, 'max_features': 'sqrt', 'n_e...</td>\n",
       "      <td>0.707568</td>\n",
       "      <td>0.646583</td>\n",
       "      <td>0.723326</td>\n",
       "      <td>0.717439</td>\n",
       "      <td>0.698713</td>\n",
       "      <td>0.030634</td>\n",
       "      <td>37</td>\n",
       "    </tr>\n",
       "    <tr>\n",
       "      <td>43</td>\n",
       "      <td>147.227413</td>\n",
       "      <td>2.117700</td>\n",
       "      <td>5.904612</td>\n",
       "      <td>1.407290</td>\n",
       "      <td>100</td>\n",
       "      <td>sqrt</td>\n",
       "      <td>1000</td>\n",
       "      <td>{'max_depth': 100, 'max_features': 'sqrt', 'n_...</td>\n",
       "      <td>0.707568</td>\n",
       "      <td>0.646583</td>\n",
       "      <td>0.723326</td>\n",
       "      <td>0.717439</td>\n",
       "      <td>0.698713</td>\n",
       "      <td>0.030634</td>\n",
       "      <td>37</td>\n",
       "    </tr>\n",
       "    <tr>\n",
       "      <td>33</td>\n",
       "      <td>18.937528</td>\n",
       "      <td>0.921133</td>\n",
       "      <td>4.069664</td>\n",
       "      <td>0.599430</td>\n",
       "      <td>50</td>\n",
       "      <td>log2</td>\n",
       "      <td>200</td>\n",
       "      <td>{'max_depth': 50, 'max_features': 'log2', 'n_e...</td>\n",
       "      <td>0.709772</td>\n",
       "      <td>0.653196</td>\n",
       "      <td>0.721118</td>\n",
       "      <td>0.710817</td>\n",
       "      <td>0.698713</td>\n",
       "      <td>0.026663</td>\n",
       "      <td>37</td>\n",
       "    </tr>\n",
       "    <tr>\n",
       "      <td>39</td>\n",
       "      <td>154.251686</td>\n",
       "      <td>0.935376</td>\n",
       "      <td>3.120220</td>\n",
       "      <td>0.191463</td>\n",
       "      <td>100</td>\n",
       "      <td>auto</td>\n",
       "      <td>1000</td>\n",
       "      <td>{'max_depth': 100, 'max_features': 'auto', 'n_...</td>\n",
       "      <td>0.707568</td>\n",
       "      <td>0.646583</td>\n",
       "      <td>0.723326</td>\n",
       "      <td>0.717439</td>\n",
       "      <td>0.698713</td>\n",
       "      <td>0.030634</td>\n",
       "      <td>37</td>\n",
       "    </tr>\n",
       "    <tr>\n",
       "      <td>36</td>\n",
       "      <td>12.539207</td>\n",
       "      <td>2.450648</td>\n",
       "      <td>4.631546</td>\n",
       "      <td>0.823349</td>\n",
       "      <td>100</td>\n",
       "      <td>auto</td>\n",
       "      <td>100</td>\n",
       "      <td>{'max_depth': 100, 'max_features': 'auto', 'n_...</td>\n",
       "      <td>0.706833</td>\n",
       "      <td>0.654666</td>\n",
       "      <td>0.719647</td>\n",
       "      <td>0.706402</td>\n",
       "      <td>0.696875</td>\n",
       "      <td>0.024955</td>\n",
       "      <td>43</td>\n",
       "    </tr>\n",
       "    <tr>\n",
       "      <td>24</td>\n",
       "      <td>14.641510</td>\n",
       "      <td>2.286352</td>\n",
       "      <td>5.429928</td>\n",
       "      <td>0.669412</td>\n",
       "      <td>50</td>\n",
       "      <td>auto</td>\n",
       "      <td>100</td>\n",
       "      <td>{'max_depth': 50, 'max_features': 'auto', 'n_e...</td>\n",
       "      <td>0.706833</td>\n",
       "      <td>0.654666</td>\n",
       "      <td>0.719647</td>\n",
       "      <td>0.706402</td>\n",
       "      <td>0.696875</td>\n",
       "      <td>0.024955</td>\n",
       "      <td>43</td>\n",
       "    </tr>\n",
       "    <tr>\n",
       "      <td>28</td>\n",
       "      <td>23.474118</td>\n",
       "      <td>0.696117</td>\n",
       "      <td>5.765701</td>\n",
       "      <td>0.652373</td>\n",
       "      <td>50</td>\n",
       "      <td>sqrt</td>\n",
       "      <td>100</td>\n",
       "      <td>{'max_depth': 50, 'max_features': 'sqrt', 'n_e...</td>\n",
       "      <td>0.706833</td>\n",
       "      <td>0.654666</td>\n",
       "      <td>0.719647</td>\n",
       "      <td>0.706402</td>\n",
       "      <td>0.696875</td>\n",
       "      <td>0.024955</td>\n",
       "      <td>43</td>\n",
       "    </tr>\n",
       "    <tr>\n",
       "      <td>40</td>\n",
       "      <td>20.779500</td>\n",
       "      <td>0.619586</td>\n",
       "      <td>5.968024</td>\n",
       "      <td>0.931057</td>\n",
       "      <td>100</td>\n",
       "      <td>sqrt</td>\n",
       "      <td>100</td>\n",
       "      <td>{'max_depth': 100, 'max_features': 'sqrt', 'n_...</td>\n",
       "      <td>0.706833</td>\n",
       "      <td>0.654666</td>\n",
       "      <td>0.719647</td>\n",
       "      <td>0.706402</td>\n",
       "      <td>0.696875</td>\n",
       "      <td>0.024955</td>\n",
       "      <td>43</td>\n",
       "    </tr>\n",
       "    <tr>\n",
       "      <td>44</td>\n",
       "      <td>12.250786</td>\n",
       "      <td>0.558714</td>\n",
       "      <td>4.914959</td>\n",
       "      <td>0.549591</td>\n",
       "      <td>100</td>\n",
       "      <td>log2</td>\n",
       "      <td>100</td>\n",
       "      <td>{'max_depth': 100, 'max_features': 'log2', 'n_...</td>\n",
       "      <td>0.704629</td>\n",
       "      <td>0.645114</td>\n",
       "      <td>0.718911</td>\n",
       "      <td>0.707138</td>\n",
       "      <td>0.693934</td>\n",
       "      <td>0.028711</td>\n",
       "      <td>47</td>\n",
       "    </tr>\n",
       "    <tr>\n",
       "      <td>32</td>\n",
       "      <td>11.475042</td>\n",
       "      <td>0.345268</td>\n",
       "      <td>3.750129</td>\n",
       "      <td>0.289213</td>\n",
       "      <td>50</td>\n",
       "      <td>log2</td>\n",
       "      <td>100</td>\n",
       "      <td>{'max_depth': 50, 'max_features': 'log2', 'n_e...</td>\n",
       "      <td>0.704629</td>\n",
       "      <td>0.645114</td>\n",
       "      <td>0.718911</td>\n",
       "      <td>0.707138</td>\n",
       "      <td>0.693934</td>\n",
       "      <td>0.028711</td>\n",
       "      <td>47</td>\n",
       "    </tr>\n",
       "  </tbody>\n",
       "</table>\n",
       "</div>"
      ],
      "text/plain": [
       "    mean_fit_time  std_fit_time  mean_score_time  std_score_time  \\\n",
       "0        1.521680      0.365569         1.176135        0.227289   \n",
       "1        2.741622      0.521117         0.675058        0.421479   \n",
       "2        6.541156      0.585087         2.281829        0.771777   \n",
       "3       14.225604      0.579375         1.220352        0.366931   \n",
       "4        5.372815      0.255646         1.080329        0.837969   \n",
       "5        2.213030      0.299663         0.751772        0.193605   \n",
       "6        5.768453      0.505435         1.282780        0.338463   \n",
       "7       14.024614      1.085484         2.326262        0.962903   \n",
       "8        2.861468      1.238367         3.019022        0.874581   \n",
       "9        4.580955      1.006996         1.012877        0.659329   \n",
       "10       4.598084      0.760250         1.041977        0.048364   \n",
       "11      14.112609      3.447232         3.224726        2.385696   \n",
       "21      15.019002      0.205773         4.995791        0.224645   \n",
       "14      59.896443      1.287954         5.806631        0.425029   \n",
       "18      49.339068      0.629107         5.733791        0.479314   \n",
       "20      10.273734      0.447385         5.242884        0.522584   \n",
       "23      53.597246      0.795352         4.489804        1.171157   \n",
       "15     112.068511      0.822550         5.314680        0.526473   \n",
       "19      96.725365      0.778604         5.928165        0.855787   \n",
       "22      28.246981      0.876783         1.813186        0.720677   \n",
       "17      31.907489      0.856647         5.257877        0.541444   \n",
       "13      21.685706      3.053893         5.533498        1.513516   \n",
       "12      11.628580      0.971659         1.679440        0.672020   \n",
       "16      18.594257      0.839930         5.239463        0.617594   \n",
       "35      65.962748      0.779777         2.325936        0.060700   \n",
       "47      41.208480      0.646761         1.891689        1.079434   \n",
       "34      41.204179      1.614487         1.955981        1.337062   \n",
       "46      36.190959      2.646249         2.071760        1.195460   \n",
       "26      82.296482      1.986405         5.860647        0.338713   \n",
       "30      82.591770      4.214124         4.965857        0.397457   \n",
       "38      77.433335      4.281236         6.853160        1.118938   \n",
       "42      75.593290      3.067296         6.688717        0.329928   \n",
       "29      40.802362      0.618626         2.905801        1.085697   \n",
       "25      33.857834      0.424102         1.495779        0.773842   \n",
       "37      38.340227      1.541975         5.153155        1.350099   \n",
       "41      38.320157      1.189308         4.638067        1.925721   \n",
       "27     159.824522      1.190875         2.408354        0.587292   \n",
       "45      19.807943      0.494233         5.276702        1.054973   \n",
       "31     162.986287      1.144580         3.932595        0.348301   \n",
       "43     147.227413      2.117700         5.904612        1.407290   \n",
       "33      18.937528      0.921133         4.069664        0.599430   \n",
       "39     154.251686      0.935376         3.120220        0.191463   \n",
       "36      12.539207      2.450648         4.631546        0.823349   \n",
       "24      14.641510      2.286352         5.429928        0.669412   \n",
       "28      23.474118      0.696117         5.765701        0.652373   \n",
       "40      20.779500      0.619586         5.968024        0.931057   \n",
       "44      12.250786      0.558714         4.914959        0.549591   \n",
       "32      11.475042      0.345268         3.750129        0.289213   \n",
       "\n",
       "   param_max_depth param_max_features param_n_estimators  \\\n",
       "0                1               auto                100   \n",
       "1                1               auto                200   \n",
       "2                1               auto                500   \n",
       "3                1               auto               1000   \n",
       "4                1               sqrt                100   \n",
       "5                1               sqrt                200   \n",
       "6                1               sqrt                500   \n",
       "7                1               sqrt               1000   \n",
       "8                1               log2                100   \n",
       "9                1               log2                200   \n",
       "10               1               log2                500   \n",
       "11               1               log2               1000   \n",
       "21              10               log2                200   \n",
       "14              10               auto                500   \n",
       "18              10               sqrt                500   \n",
       "20              10               log2                100   \n",
       "23              10               log2               1000   \n",
       "15              10               auto               1000   \n",
       "19              10               sqrt               1000   \n",
       "22              10               log2                500   \n",
       "17              10               sqrt                200   \n",
       "13              10               auto                200   \n",
       "12              10               auto                100   \n",
       "16              10               sqrt                100   \n",
       "35              50               log2               1000   \n",
       "47             100               log2               1000   \n",
       "34              50               log2                500   \n",
       "46             100               log2                500   \n",
       "26              50               auto                500   \n",
       "30              50               sqrt                500   \n",
       "38             100               auto                500   \n",
       "42             100               sqrt                500   \n",
       "29              50               sqrt                200   \n",
       "25              50               auto                200   \n",
       "37             100               auto                200   \n",
       "41             100               sqrt                200   \n",
       "27              50               auto               1000   \n",
       "45             100               log2                200   \n",
       "31              50               sqrt               1000   \n",
       "43             100               sqrt               1000   \n",
       "33              50               log2                200   \n",
       "39             100               auto               1000   \n",
       "36             100               auto                100   \n",
       "24              50               auto                100   \n",
       "28              50               sqrt                100   \n",
       "40             100               sqrt                100   \n",
       "44             100               log2                100   \n",
       "32              50               log2                100   \n",
       "\n",
       "                                               params  split0_test_score  \\\n",
       "0   {'max_depth': 1, 'max_features': 'auto', 'n_es...           0.707568   \n",
       "1   {'max_depth': 1, 'max_features': 'auto', 'n_es...           0.707568   \n",
       "2   {'max_depth': 1, 'max_features': 'auto', 'n_es...           0.707568   \n",
       "3   {'max_depth': 1, 'max_features': 'auto', 'n_es...           0.707568   \n",
       "4   {'max_depth': 1, 'max_features': 'sqrt', 'n_es...           0.707568   \n",
       "5   {'max_depth': 1, 'max_features': 'sqrt', 'n_es...           0.707568   \n",
       "6   {'max_depth': 1, 'max_features': 'sqrt', 'n_es...           0.707568   \n",
       "7   {'max_depth': 1, 'max_features': 'sqrt', 'n_es...           0.707568   \n",
       "8   {'max_depth': 1, 'max_features': 'log2', 'n_es...           0.707568   \n",
       "9   {'max_depth': 1, 'max_features': 'log2', 'n_es...           0.707568   \n",
       "10  {'max_depth': 1, 'max_features': 'log2', 'n_es...           0.707568   \n",
       "11  {'max_depth': 1, 'max_features': 'log2', 'n_es...           0.707568   \n",
       "21  {'max_depth': 10, 'max_features': 'log2', 'n_e...           0.709037   \n",
       "14  {'max_depth': 10, 'max_features': 'auto', 'n_e...           0.710507   \n",
       "18  {'max_depth': 10, 'max_features': 'sqrt', 'n_e...           0.710507   \n",
       "20  {'max_depth': 10, 'max_features': 'log2', 'n_e...           0.709772   \n",
       "23  {'max_depth': 10, 'max_features': 'log2', 'n_e...           0.708303   \n",
       "15  {'max_depth': 10, 'max_features': 'auto', 'n_e...           0.709037   \n",
       "19  {'max_depth': 10, 'max_features': 'sqrt', 'n_e...           0.709037   \n",
       "22  {'max_depth': 10, 'max_features': 'log2', 'n_e...           0.706098   \n",
       "17  {'max_depth': 10, 'max_features': 'sqrt', 'n_e...           0.707568   \n",
       "13  {'max_depth': 10, 'max_features': 'auto', 'n_e...           0.707568   \n",
       "12  {'max_depth': 10, 'max_features': 'auto', 'n_e...           0.703894   \n",
       "16  {'max_depth': 10, 'max_features': 'sqrt', 'n_e...           0.703894   \n",
       "35  {'max_depth': 50, 'max_features': 'log2', 'n_e...           0.709037   \n",
       "47  {'max_depth': 100, 'max_features': 'log2', 'n_...           0.709037   \n",
       "34  {'max_depth': 50, 'max_features': 'log2', 'n_e...           0.711242   \n",
       "46  {'max_depth': 100, 'max_features': 'log2', 'n_...           0.711242   \n",
       "26  {'max_depth': 50, 'max_features': 'auto', 'n_e...           0.709037   \n",
       "30  {'max_depth': 50, 'max_features': 'sqrt', 'n_e...           0.709037   \n",
       "38  {'max_depth': 100, 'max_features': 'auto', 'n_...           0.709037   \n",
       "42  {'max_depth': 100, 'max_features': 'sqrt', 'n_...           0.709037   \n",
       "29  {'max_depth': 50, 'max_features': 'sqrt', 'n_e...           0.709037   \n",
       "25  {'max_depth': 50, 'max_features': 'auto', 'n_e...           0.709037   \n",
       "37  {'max_depth': 100, 'max_features': 'auto', 'n_...           0.709037   \n",
       "41  {'max_depth': 100, 'max_features': 'sqrt', 'n_...           0.709037   \n",
       "27  {'max_depth': 50, 'max_features': 'auto', 'n_e...           0.707568   \n",
       "45  {'max_depth': 100, 'max_features': 'log2', 'n_...           0.709772   \n",
       "31  {'max_depth': 50, 'max_features': 'sqrt', 'n_e...           0.707568   \n",
       "43  {'max_depth': 100, 'max_features': 'sqrt', 'n_...           0.707568   \n",
       "33  {'max_depth': 50, 'max_features': 'log2', 'n_e...           0.709772   \n",
       "39  {'max_depth': 100, 'max_features': 'auto', 'n_...           0.707568   \n",
       "36  {'max_depth': 100, 'max_features': 'auto', 'n_...           0.706833   \n",
       "24  {'max_depth': 50, 'max_features': 'auto', 'n_e...           0.706833   \n",
       "28  {'max_depth': 50, 'max_features': 'sqrt', 'n_e...           0.706833   \n",
       "40  {'max_depth': 100, 'max_features': 'sqrt', 'n_...           0.706833   \n",
       "44  {'max_depth': 100, 'max_features': 'log2', 'n_...           0.704629   \n",
       "32  {'max_depth': 50, 'max_features': 'log2', 'n_e...           0.704629   \n",
       "\n",
       "    split1_test_score  split2_test_score  split3_test_score  mean_test_score  \\\n",
       "0            0.707568           0.707873           0.707873         0.707721   \n",
       "1            0.707568           0.707873           0.707873         0.707721   \n",
       "2            0.707568           0.707873           0.707873         0.707721   \n",
       "3            0.707568           0.707873           0.707873         0.707721   \n",
       "4            0.707568           0.707873           0.707873         0.707721   \n",
       "5            0.707568           0.707873           0.707873         0.707721   \n",
       "6            0.707568           0.707873           0.707873         0.707721   \n",
       "7            0.707568           0.707873           0.707873         0.707721   \n",
       "8            0.707568           0.707873           0.707873         0.707721   \n",
       "9            0.707568           0.707873           0.707873         0.707721   \n",
       "10           0.707568           0.707873           0.707873         0.707721   \n",
       "11           0.707568           0.707873           0.707873         0.707721   \n",
       "21           0.695077           0.712288           0.711553         0.706985   \n",
       "14           0.682586           0.718175           0.716703         0.706985   \n",
       "18           0.682586           0.718175           0.716703         0.706985   \n",
       "20           0.690669           0.711553           0.714496         0.706618   \n",
       "23           0.692873           0.709345           0.714496         0.706250   \n",
       "15           0.677443           0.716703           0.721118         0.706066   \n",
       "19           0.677443           0.716703           0.721118         0.706066   \n",
       "22           0.693608           0.710817           0.711553         0.705515   \n",
       "17           0.678913           0.720383           0.714496         0.705331   \n",
       "13           0.678913           0.720383           0.714496         0.705331   \n",
       "12           0.685525           0.718175           0.709345         0.704228   \n",
       "16           0.685525           0.718175           0.709345         0.704228   \n",
       "35           0.661278           0.720383           0.719647         0.702574   \n",
       "47           0.661278           0.720383           0.719647         0.702574   \n",
       "34           0.660544           0.718911           0.714496         0.701287   \n",
       "46           0.660544           0.718911           0.714496         0.701287   \n",
       "26           0.650257           0.723326           0.718911         0.700368   \n",
       "30           0.650257           0.723326           0.718911         0.700368   \n",
       "38           0.650257           0.723326           0.718911         0.700368   \n",
       "42           0.650257           0.723326           0.718911         0.700368   \n",
       "29           0.660544           0.717439           0.712288         0.699816   \n",
       "25           0.660544           0.717439           0.712288         0.699816   \n",
       "37           0.660544           0.717439           0.712288         0.699816   \n",
       "41           0.660544           0.717439           0.712288         0.699816   \n",
       "27           0.646583           0.723326           0.717439         0.698713   \n",
       "45           0.653196           0.721118           0.710817         0.698713   \n",
       "31           0.646583           0.723326           0.717439         0.698713   \n",
       "43           0.646583           0.723326           0.717439         0.698713   \n",
       "33           0.653196           0.721118           0.710817         0.698713   \n",
       "39           0.646583           0.723326           0.717439         0.698713   \n",
       "36           0.654666           0.719647           0.706402         0.696875   \n",
       "24           0.654666           0.719647           0.706402         0.696875   \n",
       "28           0.654666           0.719647           0.706402         0.696875   \n",
       "40           0.654666           0.719647           0.706402         0.696875   \n",
       "44           0.645114           0.718911           0.707138         0.693934   \n",
       "32           0.645114           0.718911           0.707138         0.693934   \n",
       "\n",
       "    std_test_score  rank_test_score  \n",
       "0         0.000153                1  \n",
       "1         0.000153                1  \n",
       "2         0.000153                1  \n",
       "3         0.000153                1  \n",
       "4         0.000153                1  \n",
       "5         0.000153                1  \n",
       "6         0.000153                1  \n",
       "7         0.000153                1  \n",
       "8         0.000153                1  \n",
       "9         0.000153                1  \n",
       "10        0.000153                1  \n",
       "11        0.000153                1  \n",
       "21        0.006983               13  \n",
       "14        0.014384               13  \n",
       "18        0.014384               13  \n",
       "20        0.009366               16  \n",
       "23        0.008075               17  \n",
       "15        0.017089               18  \n",
       "19        0.017089               18  \n",
       "22        0.007189               20  \n",
       "17        0.015920               21  \n",
       "13        0.015920               21  \n",
       "12        0.011945               23  \n",
       "16        0.011945               23  \n",
       "35        0.024272               25  \n",
       "47        0.024272               25  \n",
       "34        0.023691               27  \n",
       "46        0.023691               27  \n",
       "26        0.029404               29  \n",
       "30        0.029404               29  \n",
       "38        0.029404               29  \n",
       "42        0.029404               29  \n",
       "29        0.022882               33  \n",
       "25        0.022882               33  \n",
       "37        0.022882               33  \n",
       "41        0.022882               33  \n",
       "27        0.030634               37  \n",
       "45        0.026663               37  \n",
       "31        0.030634               37  \n",
       "43        0.030634               37  \n",
       "33        0.026663               37  \n",
       "39        0.030634               37  \n",
       "36        0.024955               43  \n",
       "24        0.024955               43  \n",
       "28        0.024955               43  \n",
       "40        0.024955               43  \n",
       "44        0.028711               47  \n",
       "32        0.028711               47  "
      ]
     },
     "execution_count": 14,
     "metadata": {},
     "output_type": "execute_result"
    }
   ],
   "source": [
    "cv_results = pd.DataFrame(cv.cv_results_)\n",
    "print(\"best params: \", cv_results.sort_values('rank_test_score')['params'][0])\n",
    "cv_results.sort_values('rank_test_score')"
   ]
  },
  {
   "cell_type": "code",
   "execution_count": 118,
   "metadata": {},
   "outputs": [],
   "source": [
    "X_train1 = np.load('Data/X_train_final2.npy')\n",
    "X_test1 = np.load('Data/X_test_final2.npy')"
   ]
  },
  {
   "cell_type": "code",
   "execution_count": 376,
   "metadata": {},
   "outputs": [
    {
     "data": {
      "text/plain": [
       "RandomForestClassifier(bootstrap=True, class_weight=None, criterion='gini',\n",
       "                       max_depth=1, max_features='auto', max_leaf_nodes=None,\n",
       "                       min_impurity_decrease=0.0, min_impurity_split=None,\n",
       "                       min_samples_leaf=1, min_samples_split=2,\n",
       "                       min_weight_fraction_leaf=0.0, n_estimators=100,\n",
       "                       n_jobs=-1, oob_score=False, random_state=42, verbose=0,\n",
       "                       warm_start=False)"
      ]
     },
     "execution_count": 376,
     "metadata": {},
     "output_type": "execute_result"
    }
   ],
   "source": [
    "clf = ensemble.RandomForestClassifier(n_jobs = -1, random_state=42, \n",
    "                                      max_depth = 1, max_features = 'auto', n_estimators = 100)\n",
    "clf.fit(X_train, Y_train)"
   ]
  },
  {
   "cell_type": "code",
   "execution_count": 377,
   "metadata": {
    "scrolled": true
   },
   "outputs": [
    {
     "data": {
      "text/plain": [
       "array([0.67920633, 0.67920633, 0.68034415, ..., 0.69085119, 0.69056741,\n",
       "       0.68869196])"
      ]
     },
     "execution_count": 377,
     "metadata": {},
     "output_type": "execute_result"
    }
   ],
   "source": [
    "probs = clf.predict_proba(X_test)[:,1]\n",
    "probs"
   ]
  },
  {
   "cell_type": "code",
   "execution_count": 378,
   "metadata": {},
   "outputs": [
    {
     "name": "stdout",
     "output_type": "stream",
     "text": [
      "max(tpr - fpr) w/ th =  0.6798805018631471\n"
     ]
    },
    {
     "data": {
      "image/png": "[encoded data removed]",
      "text/plain": [
       "<Figure size 432x288 with 1 Axes>"
      ]
     },
     "metadata": {
      "needs_background": "light"
     },
     "output_type": "display_data"
    }
   ],
   "source": [
    "plot_roc(Y_test, probs[:-1], 'Random Forest')"
   ]
  },
  {
   "cell_type": "code",
   "execution_count": 52,
   "metadata": {},
   "outputs": [],
   "source": []
  },
  {
   "cell_type": "code",
   "execution_count": 18,
   "metadata": {},
   "outputs": [],
   "source": [
    "def matrix_info(th, y, probs):\n",
    "    preds = (probs >= th).astype(np.int)\n",
    "    print('f1_score:')\n",
    "    print(f1_score(y, preds))\n",
    "    print('Confusion Matrix:')\n",
    "    print(confusion_matrix(y,preds))\n",
    "    print(classification_report(y,preds))"
   ]
  },
  {
   "cell_type": "code",
   "execution_count": 154,
   "metadata": {
    "scrolled": true
   },
   "outputs": [
    {
     "name": "stdout",
     "output_type": "stream",
     "text": [
      "0.68\n",
      "f1_score:\n",
      "0.8398450470392917\n",
      "Confusion Matrix:\n",
      "[[ 199 1391]\n",
      " [  56 3794]]\n",
      "              precision    recall  f1-score   support\n",
      "\n",
      "           0       0.78      0.13      0.22      1590\n",
      "           1       0.73      0.99      0.84      3850\n",
      "\n",
      "    accuracy                           0.73      5440\n",
      "   macro avg       0.76      0.56      0.53      5440\n",
      "weighted avg       0.75      0.73      0.66      5440\n",
      "\n",
      "0.6900000000000001\n",
      "f1_score:\n",
      "0.8377735490009516\n",
      "Confusion Matrix:\n",
      "[[ 554 1036]\n",
      " [ 328 3522]]\n",
      "              precision    recall  f1-score   support\n",
      "\n",
      "           0       0.63      0.35      0.45      1590\n",
      "           1       0.77      0.91      0.84      3850\n",
      "\n",
      "    accuracy                           0.75      5440\n",
      "   macro avg       0.70      0.63      0.64      5440\n",
      "weighted avg       0.73      0.75      0.72      5440\n",
      "\n",
      "0.7000000000000001\n",
      "f1_score:\n",
      "0.7824181843078187\n",
      "Confusion Matrix:\n",
      "[[ 994  596]\n",
      " [ 993 2857]]\n",
      "              precision    recall  f1-score   support\n",
      "\n",
      "           0       0.50      0.63      0.56      1590\n",
      "           1       0.83      0.74      0.78      3850\n",
      "\n",
      "    accuracy                           0.71      5440\n",
      "   macro avg       0.66      0.68      0.67      5440\n",
      "weighted avg       0.73      0.71      0.72      5440\n",
      "\n",
      "0.7100000000000001\n",
      "f1_score:\n",
      "0.6345169281585467\n",
      "Confusion Matrix:\n",
      "[[1306  284]\n",
      " [1929 1921]]\n",
      "              precision    recall  f1-score   support\n",
      "\n",
      "           0       0.40      0.82      0.54      1590\n",
      "           1       0.87      0.50      0.63      3850\n",
      "\n",
      "    accuracy                           0.59      5440\n",
      "   macro avg       0.64      0.66      0.59      5440\n",
      "weighted avg       0.73      0.59      0.61      5440\n",
      "\n",
      "0.7200000000000001\n",
      "f1_score:\n",
      "0.450566627588902\n",
      "Confusion Matrix:\n",
      "[[1475  115]\n",
      " [2697 1153]]\n",
      "              precision    recall  f1-score   support\n",
      "\n",
      "           0       0.35      0.93      0.51      1590\n",
      "           1       0.91      0.30      0.45      3850\n",
      "\n",
      "    accuracy                           0.48      5440\n",
      "   macro avg       0.63      0.61      0.48      5440\n",
      "weighted avg       0.75      0.48      0.47      5440\n",
      "\n"
     ]
    }
   ],
   "source": [
    "for i in np.arange(0.68,0.73,0.01):\n",
    "    print(i)\n",
    "    matrix_info(i, Y_train, probs)"
   ]
  },
  {
   "cell_type": "code",
   "execution_count": 158,
   "metadata": {},
   "outputs": [
    {
     "name": "stdout",
     "output_type": "stream",
     "text": [
      "f1_score:\n",
      "0.8398450470392917\n",
      "Confusion Matrix:\n",
      "[[ 199 1391]\n",
      " [  56 3794]]\n",
      "              precision    recall  f1-score   support\n",
      "\n",
      "           0       0.78      0.13      0.22      1590\n",
      "           1       0.73      0.99      0.84      3850\n",
      "\n",
      "    accuracy                           0.73      5440\n",
      "   macro avg       0.76      0.56      0.53      5440\n",
      "weighted avg       0.75      0.73      0.66      5440\n",
      "\n"
     ]
    }
   ],
   "source": [
    "matrix_info(0.68 ,Y_train, probs)"
   ]
  },
  {
   "cell_type": "code",
   "execution_count": 159,
   "metadata": {},
   "outputs": [
    {
     "name": "stderr",
     "output_type": "stream",
     "text": [
      "C:\\Users\\taq19\\Anaconda3\\lib\\site-packages\\ipykernel_launcher.py:1: UserWarning: Pandas doesn't allow columns to be created via a new attribute name - see https://pandas.pydata.org/pandas-docs/stable/indexing.html#attribute-access\n",
      "  \"\"\"Entry point for launching an IPython kernel.\n"
     ]
    }
   ],
   "source": []
  },
  {
   "cell_type": "code",
   "execution_count": 154,
   "metadata": {},
   "outputs": [],
   "source": [
    "submission.to_csv('submission.csv', index=None)"
   ]
  },
  {
   "cell_type": "markdown",
   "metadata": {},
   "source": [
    "## Logistic Regression"
   ]
  },
  {
   "cell_type": "code",
   "execution_count": 379,
   "metadata": {},
   "outputs": [],
   "source": [
    "from sklearn.linear_model import LogisticRegression"
   ]
  },
  {
   "cell_type": "code",
   "execution_count": 380,
   "metadata": {},
   "outputs": [
    {
     "ename": "NameError",
     "evalue": "name 'x_train1' is not defined",
     "output_type": "error",
     "traceback": [
      "\u001b[1;31m---------------------------------------------------------------------------\u001b[0m",
      "\u001b[1;31mNameError\u001b[0m                                 Traceback (most recent call last)",
      "\u001b[1;32m<ipython-input-380-ff196aee0451>\u001b[0m in \u001b[0;36m<module>\u001b[1;34m\u001b[0m\n\u001b[1;32m----> 1\u001b[1;33m \u001b[0mclf\u001b[0m \u001b[1;33m=\u001b[0m \u001b[0mLogisticRegression\u001b[0m\u001b[1;33m(\u001b[0m\u001b[0mrandom_state\u001b[0m\u001b[1;33m=\u001b[0m\u001b[1;36m0\u001b[0m\u001b[1;33m,\u001b[0m \u001b[0mmax_iter\u001b[0m\u001b[1;33m=\u001b[0m\u001b[1;36m1000\u001b[0m\u001b[1;33m,\u001b[0m \u001b[0mC\u001b[0m \u001b[1;33m=\u001b[0m \u001b[1;36m0.1\u001b[0m\u001b[1;33m,\u001b[0m \u001b[0mpenalty\u001b[0m \u001b[1;33m=\u001b[0m \u001b[1;34m'l1'\u001b[0m\u001b[1;33m)\u001b[0m\u001b[1;33m.\u001b[0m\u001b[0mfit\u001b[0m\u001b[1;33m(\u001b[0m\u001b[0mx_train1\u001b[0m\u001b[1;33m,\u001b[0m \u001b[0my_train1\u001b[0m\u001b[1;33m)\u001b[0m\u001b[1;33m\u001b[0m\u001b[1;33m\u001b[0m\u001b[0m\n\u001b[0m\u001b[0;32m      2\u001b[0m \u001b[0mprobs\u001b[0m \u001b[1;33m=\u001b[0m \u001b[0mclf\u001b[0m\u001b[1;33m.\u001b[0m\u001b[0mpredict_proba\u001b[0m\u001b[1;33m(\u001b[0m\u001b[0mx_test1\u001b[0m\u001b[1;33m)\u001b[0m\u001b[1;33m[\u001b[0m\u001b[1;33m:\u001b[0m\u001b[1;33m,\u001b[0m\u001b[1;36m1\u001b[0m\u001b[1;33m]\u001b[0m\u001b[1;33m\u001b[0m\u001b[1;33m\u001b[0m\u001b[0m\n",
      "\u001b[1;31mNameError\u001b[0m: name 'x_train1' is not defined"
     ]
    }
   ],
   "source": [
    "clf = LogisticRegression(random_state=0, max_iter=1000, C = 0.1, penalty = 'l1').fit(x_train1, y_train1)\n",
    "probs = clf.predict_proba(x_test1)[:,1]"
   ]
  },
  {
   "cell_type": "code",
   "execution_count": 122,
   "metadata": {},
   "outputs": [
    {
     "data": {
      "text/plain": [
       "array([0.93160791, 0.91035478, 0.31679332, ..., 0.8560108 , 0.81947571,\n",
       "       0.96769439])"
      ]
     },
     "execution_count": 122,
     "metadata": {},
     "output_type": "execute_result"
    }
   ],
   "source": [
    "probs"
   ]
  },
  {
   "cell_type": "code",
   "execution_count": 143,
   "metadata": {},
   "outputs": [
    {
     "name": "stdout",
     "output_type": "stream",
     "text": [
      "max(tpr - fpr) w/ th =  0.7063613939602489\n"
     ]
    },
    {
     "data": {
      "image/png": "[encoded data removed]",
      "text/plain": [
       "<Figure size 432x288 with 1 Axes>"
      ]
     },
     "metadata": {
      "needs_background": "light"
     },
     "output_type": "display_data"
    }
   ],
   "source": [
    "plot_roc(y_test1, probs, 'Logistic Regression')"
   ]
  },
  {
   "cell_type": "code",
   "execution_count": 129,
   "metadata": {},
   "outputs": [],
   "source": [
    "params = {\n",
    "    \"C\" : np.logspace(-3,3,7), \n",
    "    \"penalty\" : [\"l1\",\"l2\"]\n",
    "}"
   ]
  },
  {
   "cell_type": "code",
   "execution_count": 130,
   "metadata": {},
   "outputs": [],
   "source": [
    "clf = LogisticRegression(random_state=42, max_iter=1000)\n",
    "cv = GridSearchCV(clf, param_grid=params, n_jobs=-1, verbose=10, cv=4)"
   ]
  },
  {
   "cell_type": "code",
   "execution_count": 131,
   "metadata": {},
   "outputs": [
    {
     "name": "stdout",
     "output_type": "stream",
     "text": [
      "Fitting 4 folds for each of 14 candidates, totalling 56 fits\n"
     ]
    },
    {
     "name": "stderr",
     "output_type": "stream",
     "text": [
      "[Parallel(n_jobs=-1)]: Using backend LokyBackend with 8 concurrent workers.\n",
      "[Parallel(n_jobs=-1)]: Done   2 tasks      | elapsed:    0.2s\n",
      "[Parallel(n_jobs=-1)]: Done   9 tasks      | elapsed:    0.5s\n",
      "[Parallel(n_jobs=-1)]: Done  16 tasks      | elapsed:    1.0s\n",
      "[Parallel(n_jobs=-1)]: Done  25 tasks      | elapsed:    2.0s\n",
      "[Parallel(n_jobs=-1)]: Done  34 tasks      | elapsed:    3.3s\n",
      "[Parallel(n_jobs=-1)]: Done  47 out of  56 | elapsed:    5.4s remaining:    1.0s\n",
      "[Parallel(n_jobs=-1)]: Done  53 out of  56 | elapsed:    6.1s remaining:    0.3s\n",
      "[Parallel(n_jobs=-1)]: Done  56 out of  56 | elapsed:    6.4s finished\n",
      "C:\\Users\\taq19\\Anaconda3\\lib\\site-packages\\sklearn\\linear_model\\logistic.py:432: FutureWarning: Default solver will be changed to 'lbfgs' in 0.22. Specify a solver to silence this warning.\n",
      "  FutureWarning)\n"
     ]
    },
    {
     "data": {
      "text/plain": [
       "GridSearchCV(cv=4, error_score='raise-deprecating',\n",
       "             estimator=LogisticRegression(C=1.0, class_weight=None, dual=False,\n",
       "                                          fit_intercept=True,\n",
       "                                          intercept_scaling=1, l1_ratio=None,\n",
       "                                          max_iter=1000, multi_class='warn',\n",
       "                                          n_jobs=None, penalty='l2',\n",
       "                                          random_state=42, solver='warn',\n",
       "                                          tol=0.0001, verbose=0,\n",
       "                                          warm_start=False),\n",
       "             iid='warn', n_jobs=-1,\n",
       "             param_grid={'C': array([1.e-03, 1.e-02, 1.e-01, 1.e+00, 1.e+01, 1.e+02, 1.e+03]),\n",
       "                         'penalty': ['l1', 'l2']},\n",
       "             pre_dispatch='2*n_jobs', refit=True, return_train_score=False,\n",
       "             scoring=None, verbose=10)"
      ]
     },
     "execution_count": 131,
     "metadata": {},
     "output_type": "execute_result"
    }
   ],
   "source": [
    "cv.fit(X_train, Y_train)"
   ]
  },
  {
   "cell_type": "code",
   "execution_count": 133,
   "metadata": {
    "scrolled": true
   },
   "outputs": [
    {
     "name": "stdout",
     "output_type": "stream",
     "text": [
      "best params:  {'C': 0.1, 'penalty': 'l1'}\n"
     ]
    },
    {
     "data": {
      "text/html": [
       "<div>\n",
       "<style scoped>\n",
       "    .dataframe tbody tr th:only-of-type {\n",
       "        vertical-align: middle;\n",
       "    }\n",
       "\n",
       "    .dataframe tbody tr th {\n",
       "        vertical-align: top;\n",
       "    }\n",
       "\n",
       "    .dataframe thead th {\n",
       "        text-align: right;\n",
       "    }\n",
       "</style>\n",
       "<table border=\"1\" class=\"dataframe\">\n",
       "  <thead>\n",
       "    <tr style=\"text-align: right;\">\n",
       "      <th></th>\n",
       "      <th>mean_fit_time</th>\n",
       "      <th>std_fit_time</th>\n",
       "      <th>mean_score_time</th>\n",
       "      <th>std_score_time</th>\n",
       "      <th>param_C</th>\n",
       "      <th>param_penalty</th>\n",
       "      <th>params</th>\n",
       "      <th>split0_test_score</th>\n",
       "      <th>split1_test_score</th>\n",
       "      <th>split2_test_score</th>\n",
       "      <th>split3_test_score</th>\n",
       "      <th>mean_test_score</th>\n",
       "      <th>std_test_score</th>\n",
       "      <th>rank_test_score</th>\n",
       "    </tr>\n",
       "  </thead>\n",
       "  <tbody>\n",
       "    <tr>\n",
       "      <td>4</td>\n",
       "      <td>0.426116</td>\n",
       "      <td>0.035696</td>\n",
       "      <td>0.007226</td>\n",
       "      <td>7.343693e-03</td>\n",
       "      <td>0.1</td>\n",
       "      <td>l1</td>\n",
       "      <td>{'C': 0.1, 'penalty': 'l1'}</td>\n",
       "      <td>0.737693</td>\n",
       "      <td>0.732550</td>\n",
       "      <td>0.746137</td>\n",
       "      <td>0.731420</td>\n",
       "      <td>0.736949</td>\n",
       "      <td>0.005806</td>\n",
       "      <td>1</td>\n",
       "    </tr>\n",
       "    <tr>\n",
       "      <td>3</td>\n",
       "      <td>0.637098</td>\n",
       "      <td>0.055697</td>\n",
       "      <td>0.002743</td>\n",
       "      <td>4.321556e-04</td>\n",
       "      <td>0.01</td>\n",
       "      <td>l2</td>\n",
       "      <td>{'C': 0.01, 'penalty': 'l2'}</td>\n",
       "      <td>0.734754</td>\n",
       "      <td>0.718589</td>\n",
       "      <td>0.740250</td>\n",
       "      <td>0.728477</td>\n",
       "      <td>0.730515</td>\n",
       "      <td>0.008049</td>\n",
       "      <td>2</td>\n",
       "    </tr>\n",
       "    <tr>\n",
       "      <td>2</td>\n",
       "      <td>0.289321</td>\n",
       "      <td>0.019645</td>\n",
       "      <td>0.002742</td>\n",
       "      <td>4.311920e-04</td>\n",
       "      <td>0.01</td>\n",
       "      <td>l1</td>\n",
       "      <td>{'C': 0.01, 'penalty': 'l1'}</td>\n",
       "      <td>0.724467</td>\n",
       "      <td>0.731080</td>\n",
       "      <td>0.724062</td>\n",
       "      <td>0.735835</td>\n",
       "      <td>0.728860</td>\n",
       "      <td>0.004896</td>\n",
       "      <td>3</td>\n",
       "    </tr>\n",
       "    <tr>\n",
       "      <td>5</td>\n",
       "      <td>1.086861</td>\n",
       "      <td>0.072127</td>\n",
       "      <td>0.002241</td>\n",
       "      <td>4.339272e-04</td>\n",
       "      <td>0.1</td>\n",
       "      <td>l2</td>\n",
       "      <td>{'C': 0.1, 'penalty': 'l2'}</td>\n",
       "      <td>0.736958</td>\n",
       "      <td>0.715650</td>\n",
       "      <td>0.729213</td>\n",
       "      <td>0.725533</td>\n",
       "      <td>0.726838</td>\n",
       "      <td>0.007666</td>\n",
       "      <td>4</td>\n",
       "    </tr>\n",
       "    <tr>\n",
       "      <td>6</td>\n",
       "      <td>0.769711</td>\n",
       "      <td>0.045774</td>\n",
       "      <td>0.002739</td>\n",
       "      <td>4.299744e-04</td>\n",
       "      <td>1</td>\n",
       "      <td>l1</td>\n",
       "      <td>{'C': 1.0, 'penalty': 'l1'}</td>\n",
       "      <td>0.735489</td>\n",
       "      <td>0.713446</td>\n",
       "      <td>0.731420</td>\n",
       "      <td>0.722590</td>\n",
       "      <td>0.725735</td>\n",
       "      <td>0.008493</td>\n",
       "      <td>5</td>\n",
       "    </tr>\n",
       "    <tr>\n",
       "      <td>7</td>\n",
       "      <td>1.292467</td>\n",
       "      <td>0.197123</td>\n",
       "      <td>0.003740</td>\n",
       "      <td>1.474329e-03</td>\n",
       "      <td>1</td>\n",
       "      <td>l2</td>\n",
       "      <td>{'C': 1.0, 'penalty': 'l2'}</td>\n",
       "      <td>0.731815</td>\n",
       "      <td>0.708303</td>\n",
       "      <td>0.727741</td>\n",
       "      <td>0.727005</td>\n",
       "      <td>0.723713</td>\n",
       "      <td>0.009088</td>\n",
       "      <td>6</td>\n",
       "    </tr>\n",
       "    <tr>\n",
       "      <td>10</td>\n",
       "      <td>0.979130</td>\n",
       "      <td>0.057120</td>\n",
       "      <td>0.002993</td>\n",
       "      <td>7.633119e-07</td>\n",
       "      <td>100</td>\n",
       "      <td>l1</td>\n",
       "      <td>{'C': 100.0, 'penalty': 'l1'}</td>\n",
       "      <td>0.731080</td>\n",
       "      <td>0.709037</td>\n",
       "      <td>0.726269</td>\n",
       "      <td>0.725533</td>\n",
       "      <td>0.722978</td>\n",
       "      <td>0.008330</td>\n",
       "      <td>7</td>\n",
       "    </tr>\n",
       "    <tr>\n",
       "      <td>8</td>\n",
       "      <td>0.988899</td>\n",
       "      <td>0.074675</td>\n",
       "      <td>0.002742</td>\n",
       "      <td>4.317779e-04</td>\n",
       "      <td>10</td>\n",
       "      <td>l1</td>\n",
       "      <td>{'C': 10.0, 'penalty': 'l1'}</td>\n",
       "      <td>0.731080</td>\n",
       "      <td>0.709037</td>\n",
       "      <td>0.726269</td>\n",
       "      <td>0.724798</td>\n",
       "      <td>0.722794</td>\n",
       "      <td>0.008279</td>\n",
       "      <td>8</td>\n",
       "    </tr>\n",
       "    <tr>\n",
       "      <td>11</td>\n",
       "      <td>1.228465</td>\n",
       "      <td>0.102194</td>\n",
       "      <td>0.003741</td>\n",
       "      <td>1.295847e-03</td>\n",
       "      <td>100</td>\n",
       "      <td>l2</td>\n",
       "      <td>{'C': 100.0, 'penalty': 'l2'}</td>\n",
       "      <td>0.731080</td>\n",
       "      <td>0.709037</td>\n",
       "      <td>0.725533</td>\n",
       "      <td>0.725533</td>\n",
       "      <td>0.722794</td>\n",
       "      <td>0.008263</td>\n",
       "      <td>8</td>\n",
       "    </tr>\n",
       "    <tr>\n",
       "      <td>12</td>\n",
       "      <td>0.861445</td>\n",
       "      <td>0.115810</td>\n",
       "      <td>0.002743</td>\n",
       "      <td>4.320188e-04</td>\n",
       "      <td>1000</td>\n",
       "      <td>l1</td>\n",
       "      <td>{'C': 1000.0, 'penalty': 'l1'}</td>\n",
       "      <td>0.731080</td>\n",
       "      <td>0.709037</td>\n",
       "      <td>0.725533</td>\n",
       "      <td>0.725533</td>\n",
       "      <td>0.722794</td>\n",
       "      <td>0.008263</td>\n",
       "      <td>8</td>\n",
       "    </tr>\n",
       "    <tr>\n",
       "      <td>13</td>\n",
       "      <td>0.852467</td>\n",
       "      <td>0.044902</td>\n",
       "      <td>0.002250</td>\n",
       "      <td>8.210572e-04</td>\n",
       "      <td>1000</td>\n",
       "      <td>l2</td>\n",
       "      <td>{'C': 1000.0, 'penalty': 'l2'}</td>\n",
       "      <td>0.731080</td>\n",
       "      <td>0.709037</td>\n",
       "      <td>0.725533</td>\n",
       "      <td>0.725533</td>\n",
       "      <td>0.722794</td>\n",
       "      <td>0.008263</td>\n",
       "      <td>8</td>\n",
       "    </tr>\n",
       "    <tr>\n",
       "      <td>9</td>\n",
       "      <td>1.358254</td>\n",
       "      <td>0.040569</td>\n",
       "      <td>0.002495</td>\n",
       "      <td>4.993677e-04</td>\n",
       "      <td>10</td>\n",
       "      <td>l2</td>\n",
       "      <td>{'C': 10.0, 'penalty': 'l2'}</td>\n",
       "      <td>0.731080</td>\n",
       "      <td>0.709037</td>\n",
       "      <td>0.724798</td>\n",
       "      <td>0.725533</td>\n",
       "      <td>0.722610</td>\n",
       "      <td>0.008208</td>\n",
       "      <td>12</td>\n",
       "    </tr>\n",
       "    <tr>\n",
       "      <td>1</td>\n",
       "      <td>0.432360</td>\n",
       "      <td>0.010578</td>\n",
       "      <td>0.002743</td>\n",
       "      <td>8.269038e-04</td>\n",
       "      <td>0.001</td>\n",
       "      <td>l2</td>\n",
       "      <td>{'C': 0.001, 'penalty': 'l2'}</td>\n",
       "      <td>0.695077</td>\n",
       "      <td>0.706098</td>\n",
       "      <td>0.723326</td>\n",
       "      <td>0.724062</td>\n",
       "      <td>0.712132</td>\n",
       "      <td>0.012196</td>\n",
       "      <td>13</td>\n",
       "    </tr>\n",
       "    <tr>\n",
       "      <td>0</td>\n",
       "      <td>0.212432</td>\n",
       "      <td>0.037117</td>\n",
       "      <td>0.009724</td>\n",
       "      <td>8.790457e-03</td>\n",
       "      <td>0.001</td>\n",
       "      <td>l1</td>\n",
       "      <td>{'C': 0.001, 'penalty': 'l1'}</td>\n",
       "      <td>0.292432</td>\n",
       "      <td>0.292432</td>\n",
       "      <td>0.292127</td>\n",
       "      <td>0.292127</td>\n",
       "      <td>0.292279</td>\n",
       "      <td>0.000153</td>\n",
       "      <td>14</td>\n",
       "    </tr>\n",
       "  </tbody>\n",
       "</table>\n",
       "</div>"
      ],
      "text/plain": [
       "    mean_fit_time  std_fit_time  mean_score_time  std_score_time param_C  \\\n",
       "4        0.426116      0.035696         0.007226    7.343693e-03     0.1   \n",
       "3        0.637098      0.055697         0.002743    4.321556e-04    0.01   \n",
       "2        0.289321      0.019645         0.002742    4.311920e-04    0.01   \n",
       "5        1.086861      0.072127         0.002241    4.339272e-04     0.1   \n",
       "6        0.769711      0.045774         0.002739    4.299744e-04       1   \n",
       "7        1.292467      0.197123         0.003740    1.474329e-03       1   \n",
       "10       0.979130      0.057120         0.002993    7.633119e-07     100   \n",
       "8        0.988899      0.074675         0.002742    4.317779e-04      10   \n",
       "11       1.228465      0.102194         0.003741    1.295847e-03     100   \n",
       "12       0.861445      0.115810         0.002743    4.320188e-04    1000   \n",
       "13       0.852467      0.044902         0.002250    8.210572e-04    1000   \n",
       "9        1.358254      0.040569         0.002495    4.993677e-04      10   \n",
       "1        0.432360      0.010578         0.002743    8.269038e-04   0.001   \n",
       "0        0.212432      0.037117         0.009724    8.790457e-03   0.001   \n",
       "\n",
       "   param_penalty                          params  split0_test_score  \\\n",
       "4             l1     {'C': 0.1, 'penalty': 'l1'}           0.737693   \n",
       "3             l2    {'C': 0.01, 'penalty': 'l2'}           0.734754   \n",
       "2             l1    {'C': 0.01, 'penalty': 'l1'}           0.724467   \n",
       "5             l2     {'C': 0.1, 'penalty': 'l2'}           0.736958   \n",
       "6             l1     {'C': 1.0, 'penalty': 'l1'}           0.735489   \n",
       "7             l2     {'C': 1.0, 'penalty': 'l2'}           0.731815   \n",
       "10            l1   {'C': 100.0, 'penalty': 'l1'}           0.731080   \n",
       "8             l1    {'C': 10.0, 'penalty': 'l1'}           0.731080   \n",
       "11            l2   {'C': 100.0, 'penalty': 'l2'}           0.731080   \n",
       "12            l1  {'C': 1000.0, 'penalty': 'l1'}           0.731080   \n",
       "13            l2  {'C': 1000.0, 'penalty': 'l2'}           0.731080   \n",
       "9             l2    {'C': 10.0, 'penalty': 'l2'}           0.731080   \n",
       "1             l2   {'C': 0.001, 'penalty': 'l2'}           0.695077   \n",
       "0             l1   {'C': 0.001, 'penalty': 'l1'}           0.292432   \n",
       "\n",
       "    split1_test_score  split2_test_score  split3_test_score  mean_test_score  \\\n",
       "4            0.732550           0.746137           0.731420         0.736949   \n",
       "3            0.718589           0.740250           0.728477         0.730515   \n",
       "2            0.731080           0.724062           0.735835         0.728860   \n",
       "5            0.715650           0.729213           0.725533         0.726838   \n",
       "6            0.713446           0.731420           0.722590         0.725735   \n",
       "7            0.708303           0.727741           0.727005         0.723713   \n",
       "10           0.709037           0.726269           0.725533         0.722978   \n",
       "8            0.709037           0.726269           0.724798         0.722794   \n",
       "11           0.709037           0.725533           0.725533         0.722794   \n",
       "12           0.709037           0.725533           0.725533         0.722794   \n",
       "13           0.709037           0.725533           0.725533         0.722794   \n",
       "9            0.709037           0.724798           0.725533         0.722610   \n",
       "1            0.706098           0.723326           0.724062         0.712132   \n",
       "0            0.292432           0.292127           0.292127         0.292279   \n",
       "\n",
       "    std_test_score  rank_test_score  \n",
       "4         0.005806                1  \n",
       "3         0.008049                2  \n",
       "2         0.004896                3  \n",
       "5         0.007666                4  \n",
       "6         0.008493                5  \n",
       "7         0.009088                6  \n",
       "10        0.008330                7  \n",
       "8         0.008279                8  \n",
       "11        0.008263                8  \n",
       "12        0.008263                8  \n",
       "13        0.008263                8  \n",
       "9         0.008208               12  \n",
       "1         0.012196               13  \n",
       "0         0.000153               14  "
      ]
     },
     "execution_count": 133,
     "metadata": {},
     "output_type": "execute_result"
    }
   ],
   "source": [
    "cv_results = pd.DataFrame(cv.cv_results_)\n",
    "print(\"best params: \", cv_results.sort_values('rank_test_score').reset_index()['params'][0])\n",
    "cv_results.sort_values('rank_test_score')"
   ]
  },
  {
   "cell_type": "code",
   "execution_count": 381,
   "metadata": {
    "scrolled": true
   },
   "outputs": [
    {
     "name": "stderr",
     "output_type": "stream",
     "text": [
      "C:\\Users\\taq19\\Anaconda3\\lib\\site-packages\\sklearn\\linear_model\\logistic.py:432: FutureWarning: Default solver will be changed to 'lbfgs' in 0.22. Specify a solver to silence this warning.\n",
      "  FutureWarning)\n"
     ]
    }
   ],
   "source": [
    "clf = LogisticRegression(C = 0.1, penalty = 'l1').fit(X_train, Y_train)\n",
    "probs_log = clf.predict_proba(X_test)[:,1]"
   ]
  },
  {
   "cell_type": "code",
   "execution_count": 352,
   "metadata": {},
   "outputs": [
    {
     "data": {
      "text/plain": [
       "array([0.53498896, 0.58768334, 0.60901913, ..., 0.31996724, 0.61704042,\n",
       "       0.59113877])"
      ]
     },
     "execution_count": 352,
     "metadata": {},
     "output_type": "execute_result"
    }
   ],
   "source": [
    "probs_log"
   ]
  },
  {
   "cell_type": "code",
   "execution_count": 382,
   "metadata": {},
   "outputs": [],
   "source": [
    "Y_test = true_labels['1'].values"
   ]
  },
  {
   "cell_type": "code",
   "execution_count": 383,
   "metadata": {},
   "outputs": [
    {
     "name": "stdout",
     "output_type": "stream",
     "text": [
      "max(tpr - fpr) w/ th =  0.6798805018631471\n"
     ]
    },
    {
     "data": {
      "image/png": "[encoded data removed]",
      "text/plain": [
       "<Figure size 432x288 with 1 Axes>"
      ]
     },
     "metadata": {
      "needs_background": "light"
     },
     "output_type": "display_data"
    }
   ],
   "source": [
    "plot_roc(Y_test, probs[:-1], 'Logistic Regression')"
   ]
  },
  {
   "cell_type": "code",
   "execution_count": 388,
   "metadata": {},
   "outputs": [
    {
     "data": {
      "text/plain": [
       "array([0.00214846, 0.00209533, 0.00217554, ..., 0.00457429, 0.00482303,\n",
       "       0.0051158 ])"
      ]
     },
     "execution_count": 388,
     "metadata": {},
     "output_type": "execute_result"
    }
   ],
   "source": [
    "submission['Prediction'] = probs_log\n",
    "probs_log"
   ]
  },
  {
   "cell_type": "code",
   "execution_count": 389,
   "metadata": {},
   "outputs": [
    {
     "data": {
      "text/html": [
       "<div>\n",
       "<style scoped>\n",
       "    .dataframe tbody tr th:only-of-type {\n",
       "        vertical-align: middle;\n",
       "    }\n",
       "\n",
       "    .dataframe tbody tr th {\n",
       "        vertical-align: top;\n",
       "    }\n",
       "\n",
       "    .dataframe thead th {\n",
       "        text-align: right;\n",
       "    }\n",
       "</style>\n",
       "<table border=\"1\" class=\"dataframe\">\n",
       "  <thead>\n",
       "    <tr style=\"text-align: right;\">\n",
       "      <th></th>\n",
       "      <th>IdFeedBack</th>\n",
       "      <th>Prediction</th>\n",
       "    </tr>\n",
       "  </thead>\n",
       "  <tbody>\n",
       "    <tr>\n",
       "      <td>0</td>\n",
       "      <td>S01_Sess01_FB001</td>\n",
       "      <td>0.002148</td>\n",
       "    </tr>\n",
       "    <tr>\n",
       "      <td>1</td>\n",
       "      <td>S01_Sess01_FB002</td>\n",
       "      <td>0.002095</td>\n",
       "    </tr>\n",
       "    <tr>\n",
       "      <td>2</td>\n",
       "      <td>S01_Sess01_FB003</td>\n",
       "      <td>0.002176</td>\n",
       "    </tr>\n",
       "    <tr>\n",
       "      <td>3</td>\n",
       "      <td>S01_Sess01_FB004</td>\n",
       "      <td>0.002392</td>\n",
       "    </tr>\n",
       "    <tr>\n",
       "      <td>4</td>\n",
       "      <td>S01_Sess01_FB005</td>\n",
       "      <td>0.002460</td>\n",
       "    </tr>\n",
       "    <tr>\n",
       "      <td>...</td>\n",
       "      <td>...</td>\n",
       "      <td>...</td>\n",
       "    </tr>\n",
       "    <tr>\n",
       "      <td>3395</td>\n",
       "      <td>S25_Sess05_FB096</td>\n",
       "      <td>0.004643</td>\n",
       "    </tr>\n",
       "    <tr>\n",
       "      <td>3396</td>\n",
       "      <td>S25_Sess05_FB097</td>\n",
       "      <td>0.004316</td>\n",
       "    </tr>\n",
       "    <tr>\n",
       "      <td>3397</td>\n",
       "      <td>S25_Sess05_FB098</td>\n",
       "      <td>0.004574</td>\n",
       "    </tr>\n",
       "    <tr>\n",
       "      <td>3398</td>\n",
       "      <td>S25_Sess05_FB099</td>\n",
       "      <td>0.004823</td>\n",
       "    </tr>\n",
       "    <tr>\n",
       "      <td>3399</td>\n",
       "      <td>S25_Sess05_FB100</td>\n",
       "      <td>0.005116</td>\n",
       "    </tr>\n",
       "  </tbody>\n",
       "</table>\n",
       "<p>3400 rows × 2 columns</p>\n",
       "</div>"
      ],
      "text/plain": [
       "            IdFeedBack  Prediction\n",
       "0     S01_Sess01_FB001    0.002148\n",
       "1     S01_Sess01_FB002    0.002095\n",
       "2     S01_Sess01_FB003    0.002176\n",
       "3     S01_Sess01_FB004    0.002392\n",
       "4     S01_Sess01_FB005    0.002460\n",
       "...                ...         ...\n",
       "3395  S25_Sess05_FB096    0.004643\n",
       "3396  S25_Sess05_FB097    0.004316\n",
       "3397  S25_Sess05_FB098    0.004574\n",
       "3398  S25_Sess05_FB099    0.004823\n",
       "3399  S25_Sess05_FB100    0.005116\n",
       "\n",
       "[3400 rows x 2 columns]"
      ]
     },
     "execution_count": 389,
     "metadata": {},
     "output_type": "execute_result"
    }
   ],
   "source": [
    "submission"
   ]
  },
  {
   "cell_type": "code",
   "execution_count": 390,
   "metadata": {},
   "outputs": [],
   "source": [
    "submission['Prediction'] = probs_log\n",
    "submission.to_csv('submission_log.csv', index=None)"
   ]
  },
  {
   "cell_type": "code",
   "execution_count": 350,
   "metadata": {},
   "outputs": [
    {
     "data": {
      "text/plain": [
       "array([0.53498896, 0.58768334, 0.60901913, ..., 0.31996724, 0.61704042,\n",
       "       0.59113877])"
      ]
     },
     "execution_count": 350,
     "metadata": {},
     "output_type": "execute_result"
    }
   ],
   "source": [
    "probs_log"
   ]
  },
  {
   "cell_type": "markdown",
   "metadata": {},
   "source": [
    "## Support Vector Machines"
   ]
  },
  {
   "cell_type": "markdown",
   "metadata": {},
   "source": [
    "took 25+ minutes to run so I stopped it"
   ]
  },
  {
   "cell_type": "code",
   "execution_count": 21,
   "metadata": {},
   "outputs": [],
   "source": [
    "x_train1, x_test1, y_train1, y_test1 = train_test_split(X_train, Y_train, test_size=0.2)\n",
    "scaler = StandardScaler()"
   ]
  },
  {
   "cell_type": "code",
   "execution_count": 27,
   "metadata": {},
   "outputs": [
    {
     "name": "stdout",
     "output_type": "stream",
     "text": [
      "Elapsed Time: 30 seconds\n"
     ]
    }
   ],
   "source": [
    "start = time.time()\n",
    "\n",
    "svclassifier = SVC(kernel='linear')\n",
    "svclassifier.fit(scaler.fit_transform(x_train1), y_train1)\n",
    "now = time.time()\n",
    "print('Elapsed Time: ' + str(int(now-start)) + ' seconds')"
   ]
  },
  {
   "cell_type": "code",
   "execution_count": 269,
   "metadata": {},
   "outputs": [
    {
     "data": {
      "text/plain": [
       "array([1, 1, 0, ..., 1, 1, 1], dtype=int64)"
      ]
     },
     "execution_count": 269,
     "metadata": {},
     "output_type": "execute_result"
    }
   ],
   "source": [
    "svm_preds = svclassifier.predict(scaler.transform(x_test1))\n",
    "svm_preds"
   ]
  },
  {
   "cell_type": "code",
   "execution_count": 270,
   "metadata": {},
   "outputs": [
    {
     "name": "stdout",
     "output_type": "stream",
     "text": [
      "max(tpr - fpr) w/ th =  0.6933333333333334\n"
     ]
    },
    {
     "data": {
      "image/png": "[encoded data removed]",
      "text/plain": [
       "<Figure size 432x288 with 1 Axes>"
      ]
     },
     "metadata": {
      "needs_background": "light"
     },
     "output_type": "display_data"
    }
   ],
   "source": [
    "plot_roc(y_test1, preds, 'SVM')"
   ]
  },
  {
   "cell_type": "code",
   "execution_count": 271,
   "metadata": {},
   "outputs": [],
   "source": [
    "svclassifier = SVC(kernel='linear')\n",
    "svclassifier.fit(scaler.fit_transform(X_train), Y_train)\n",
    "now = time.time()"
   ]
  },
  {
   "cell_type": "code",
   "execution_count": 273,
   "metadata": {},
   "outputs": [
    {
     "data": {
      "text/plain": [
       "array([0, 0, 0, ..., 0, 0, 0], dtype=int64)"
      ]
     },
     "execution_count": 273,
     "metadata": {},
     "output_type": "execute_result"
    }
   ],
   "source": [
    "svm_preds = svclassifier.predict(scaler.transform(X_test))"
   ]
  },
  {
   "cell_type": "code",
   "execution_count": null,
   "metadata": {},
   "outputs": [],
   "source": []
  },
  {
   "cell_type": "code",
   "execution_count": 20,
   "metadata": {},
   "outputs": [],
   "source": [
    "params = {\n",
    "    'C': [0.1, 0.5, 1, 5], \n",
    "    'kernel': ['rbf'], \n",
    "    'degree': [2, 3, 7, 10],\n",
    "    'gamma': np.power(5, np.linspace(-2,5, 10)),\n",
    "    'max_iter': [100000]\n",
    "}"
   ]
  },
  {
   "cell_type": "code",
   "execution_count": 24,
   "metadata": {},
   "outputs": [],
   "source": [
    "svc = SVC()\n",
    "cv = GridSearchCV(svc, param_grid=params, scoring='accuracy', n_jobs=-1, verbose=20, refit='accuracy', cv=4)"
   ]
  },
  {
   "cell_type": "code",
   "execution_count": null,
   "metadata": {
    "scrolled": true
   },
   "outputs": [
    {
     "name": "stdout",
     "output_type": "stream",
     "text": [
      "Fitting 4 folds for each of 160 candidates, totalling 640 fits\n"
     ]
    },
    {
     "name": "stderr",
     "output_type": "stream",
     "text": [
      "[Parallel(n_jobs=-1)]: Using backend LokyBackend with 8 concurrent workers.\n",
      "[Parallel(n_jobs=-1)]: Done   1 tasks      | elapsed:   33.6s\n",
      "[Parallel(n_jobs=-1)]: Done   2 tasks      | elapsed:   33.8s\n",
      "[Parallel(n_jobs=-1)]: Done   3 tasks      | elapsed:   34.0s\n",
      "[Parallel(n_jobs=-1)]: Done   4 tasks      | elapsed:   34.1s\n",
      "[Parallel(n_jobs=-1)]: Done   5 tasks      | elapsed:   34.5s\n",
      "[Parallel(n_jobs=-1)]: Done   6 tasks      | elapsed:   34.8s\n",
      "[Parallel(n_jobs=-1)]: Done   7 tasks      | elapsed:   34.9s\n",
      "[Parallel(n_jobs=-1)]: Done   8 tasks      | elapsed:   35.0s\n",
      "[Parallel(n_jobs=-1)]: Done   9 tasks      | elapsed:  1.1min\n",
      "[Parallel(n_jobs=-1)]: Done  10 tasks      | elapsed:  1.1min\n",
      "[Parallel(n_jobs=-1)]: Done  11 tasks      | elapsed:  1.2min\n",
      "[Parallel(n_jobs=-1)]: Done  12 tasks      | elapsed:  1.2min\n",
      "[Parallel(n_jobs=-1)]: Done  13 tasks      | elapsed:  1.2min\n",
      "[Parallel(n_jobs=-1)]: Done  14 tasks      | elapsed:  1.2min\n",
      "[Parallel(n_jobs=-1)]: Done  15 tasks      | elapsed:  1.2min\n",
      "[Parallel(n_jobs=-1)]: Done  16 tasks      | elapsed:  1.2min\n",
      "[Parallel(n_jobs=-1)]: Done  17 tasks      | elapsed:  1.7min\n",
      "[Parallel(n_jobs=-1)]: Done  18 tasks      | elapsed:  1.7min\n",
      "[Parallel(n_jobs=-1)]: Done  19 tasks      | elapsed:  1.7min\n",
      "[Parallel(n_jobs=-1)]: Done  20 tasks      | elapsed:  1.8min\n",
      "[Parallel(n_jobs=-1)]: Done  21 tasks      | elapsed:  1.8min\n",
      "[Parallel(n_jobs=-1)]: Done  22 tasks      | elapsed:  1.8min\n",
      "[Parallel(n_jobs=-1)]: Done  23 tasks      | elapsed:  1.8min\n",
      "[Parallel(n_jobs=-1)]: Done  24 tasks      | elapsed:  1.8min\n",
      "[Parallel(n_jobs=-1)]: Done  25 tasks      | elapsed:  2.3min\n",
      "[Parallel(n_jobs=-1)]: Done  26 tasks      | elapsed:  2.3min\n",
      "[Parallel(n_jobs=-1)]: Done  27 tasks      | elapsed:  2.3min\n",
      "[Parallel(n_jobs=-1)]: Done  28 tasks      | elapsed:  2.3min\n",
      "[Parallel(n_jobs=-1)]: Done  29 tasks      | elapsed:  2.3min\n",
      "[Parallel(n_jobs=-1)]: Done  30 tasks      | elapsed:  2.3min\n",
      "[Parallel(n_jobs=-1)]: Done  31 tasks      | elapsed:  2.3min\n",
      "[Parallel(n_jobs=-1)]: Done  32 tasks      | elapsed:  2.3min\n",
      "[Parallel(n_jobs=-1)]: Done  33 tasks      | elapsed:  2.8min\n",
      "[Parallel(n_jobs=-1)]: Done  34 tasks      | elapsed:  2.8min\n",
      "[Parallel(n_jobs=-1)]: Done  35 tasks      | elapsed:  2.8min\n",
      "[Parallel(n_jobs=-1)]: Done  36 tasks      | elapsed:  2.8min\n",
      "[Parallel(n_jobs=-1)]: Done  37 tasks      | elapsed:  2.8min\n",
      "[Parallel(n_jobs=-1)]: Done  38 tasks      | elapsed:  2.8min\n",
      "[Parallel(n_jobs=-1)]: Done  39 tasks      | elapsed:  2.8min\n",
      "[Parallel(n_jobs=-1)]: Done  40 tasks      | elapsed:  2.9min\n",
      "[Parallel(n_jobs=-1)]: Done  41 tasks      | elapsed:  3.3min\n",
      "[Parallel(n_jobs=-1)]: Done  42 tasks      | elapsed:  3.3min\n",
      "[Parallel(n_jobs=-1)]: Done  43 tasks      | elapsed:  3.3min\n",
      "[Parallel(n_jobs=-1)]: Done  44 tasks      | elapsed:  3.3min\n",
      "[Parallel(n_jobs=-1)]: Done  45 tasks      | elapsed:  3.3min\n",
      "[Parallel(n_jobs=-1)]: Done  46 tasks      | elapsed:  3.4min\n",
      "[Parallel(n_jobs=-1)]: Done  47 tasks      | elapsed:  3.4min\n",
      "[Parallel(n_jobs=-1)]: Done  48 tasks      | elapsed:  3.4min\n",
      "[Parallel(n_jobs=-1)]: Done  49 tasks      | elapsed:  3.8min\n",
      "[Parallel(n_jobs=-1)]: Done  50 tasks      | elapsed:  3.8min\n",
      "[Parallel(n_jobs=-1)]: Done  51 tasks      | elapsed:  3.9min\n",
      "[Parallel(n_jobs=-1)]: Done  52 tasks      | elapsed:  3.9min\n",
      "[Parallel(n_jobs=-1)]: Done  53 tasks      | elapsed:  3.9min\n",
      "[Parallel(n_jobs=-1)]: Done  54 tasks      | elapsed:  3.9min\n",
      "[Parallel(n_jobs=-1)]: Done  55 tasks      | elapsed:  3.9min\n",
      "[Parallel(n_jobs=-1)]: Done  56 tasks      | elapsed:  3.9min\n",
      "[Parallel(n_jobs=-1)]: Done  57 tasks      | elapsed:  4.4min\n",
      "[Parallel(n_jobs=-1)]: Done  58 tasks      | elapsed:  4.4min\n",
      "[Parallel(n_jobs=-1)]: Done  59 tasks      | elapsed:  4.4min\n",
      "[Parallel(n_jobs=-1)]: Done  60 tasks      | elapsed:  4.4min\n",
      "[Parallel(n_jobs=-1)]: Done  61 tasks      | elapsed:  4.4min\n",
      "[Parallel(n_jobs=-1)]: Done  62 tasks      | elapsed:  4.4min\n",
      "[Parallel(n_jobs=-1)]: Done  63 tasks      | elapsed:  4.4min\n",
      "[Parallel(n_jobs=-1)]: Done  64 tasks      | elapsed:  4.5min\n",
      "[Parallel(n_jobs=-1)]: Done  65 tasks      | elapsed:  4.9min\n",
      "[Parallel(n_jobs=-1)]: Done  66 tasks      | elapsed:  4.9min\n",
      "[Parallel(n_jobs=-1)]: Done  67 tasks      | elapsed:  5.0min\n",
      "[Parallel(n_jobs=-1)]: Done  68 tasks      | elapsed:  5.0min\n",
      "[Parallel(n_jobs=-1)]: Done  69 tasks      | elapsed:  5.0min\n",
      "[Parallel(n_jobs=-1)]: Done  70 tasks      | elapsed:  5.0min\n",
      "[Parallel(n_jobs=-1)]: Done  71 tasks      | elapsed:  5.0min\n",
      "[Parallel(n_jobs=-1)]: Done  72 tasks      | elapsed:  5.0min\n",
      "[Parallel(n_jobs=-1)]: Done  73 tasks      | elapsed:  5.5min\n",
      "[Parallel(n_jobs=-1)]: Done  74 tasks      | elapsed:  5.5min\n",
      "[Parallel(n_jobs=-1)]: Done  75 tasks      | elapsed:  5.5min\n",
      "[Parallel(n_jobs=-1)]: Done  76 tasks      | elapsed:  5.6min\n",
      "[Parallel(n_jobs=-1)]: Done  77 tasks      | elapsed:  5.6min\n",
      "[Parallel(n_jobs=-1)]: Done  78 tasks      | elapsed:  5.6min\n",
      "[Parallel(n_jobs=-1)]: Done  79 tasks      | elapsed:  5.6min\n",
      "[Parallel(n_jobs=-1)]: Done  80 tasks      | elapsed:  5.6min\n",
      "[Parallel(n_jobs=-1)]: Done  81 tasks      | elapsed:  6.0min\n",
      "[Parallel(n_jobs=-1)]: Done  82 tasks      | elapsed:  6.0min\n",
      "[Parallel(n_jobs=-1)]: Done  83 tasks      | elapsed:  6.0min\n",
      "[Parallel(n_jobs=-1)]: Done  84 tasks      | elapsed:  6.1min\n",
      "[Parallel(n_jobs=-1)]: Done  85 tasks      | elapsed:  6.1min\n",
      "[Parallel(n_jobs=-1)]: Done  86 tasks      | elapsed:  6.1min\n",
      "[Parallel(n_jobs=-1)]: Done  87 tasks      | elapsed:  6.1min\n",
      "[Parallel(n_jobs=-1)]: Done  88 tasks      | elapsed:  6.1min\n",
      "[Parallel(n_jobs=-1)]: Done  89 tasks      | elapsed:  6.6min\n",
      "[Parallel(n_jobs=-1)]: Done  90 tasks      | elapsed:  6.6min\n",
      "[Parallel(n_jobs=-1)]: Done  91 tasks      | elapsed:  6.6min\n",
      "[Parallel(n_jobs=-1)]: Done  92 tasks      | elapsed:  6.6min\n",
      "[Parallel(n_jobs=-1)]: Done  93 tasks      | elapsed:  6.6min\n",
      "[Parallel(n_jobs=-1)]: Done  94 tasks      | elapsed:  6.6min\n",
      "[Parallel(n_jobs=-1)]: Done  95 tasks      | elapsed:  6.6min\n",
      "[Parallel(n_jobs=-1)]: Done  96 tasks      | elapsed:  6.7min\n",
      "[Parallel(n_jobs=-1)]: Done  97 tasks      | elapsed:  7.1min\n",
      "[Parallel(n_jobs=-1)]: Done  98 tasks      | elapsed:  7.1min\n",
      "[Parallel(n_jobs=-1)]: Done  99 tasks      | elapsed:  7.1min\n",
      "[Parallel(n_jobs=-1)]: Done 100 tasks      | elapsed:  7.1min\n",
      "[Parallel(n_jobs=-1)]: Done 101 tasks      | elapsed:  7.1min\n",
      "[Parallel(n_jobs=-1)]: Done 102 tasks      | elapsed:  7.1min\n",
      "[Parallel(n_jobs=-1)]: Done 103 tasks      | elapsed:  7.2min\n",
      "[Parallel(n_jobs=-1)]: Done 104 tasks      | elapsed:  7.2min\n",
      "[Parallel(n_jobs=-1)]: Done 105 tasks      | elapsed:  7.6min\n",
      "[Parallel(n_jobs=-1)]: Done 106 tasks      | elapsed:  7.6min\n",
      "[Parallel(n_jobs=-1)]: Done 107 tasks      | elapsed:  7.6min\n",
      "[Parallel(n_jobs=-1)]: Done 108 tasks      | elapsed:  7.7min\n",
      "[Parallel(n_jobs=-1)]: Done 109 tasks      | elapsed:  7.7min\n",
      "[Parallel(n_jobs=-1)]: Done 110 tasks      | elapsed:  7.7min\n",
      "[Parallel(n_jobs=-1)]: Done 111 tasks      | elapsed:  7.7min\n",
      "[Parallel(n_jobs=-1)]: Done 112 tasks      | elapsed:  7.7min\n",
      "[Parallel(n_jobs=-1)]: Done 113 tasks      | elapsed:  8.1min\n",
      "[Parallel(n_jobs=-1)]: Done 114 tasks      | elapsed:  8.1min\n",
      "[Parallel(n_jobs=-1)]: Done 115 tasks      | elapsed:  8.2min\n",
      "[Parallel(n_jobs=-1)]: Done 116 tasks      | elapsed:  8.2min\n",
      "[Parallel(n_jobs=-1)]: Done 117 tasks      | elapsed:  8.2min\n",
      "[Parallel(n_jobs=-1)]: Done 118 tasks      | elapsed:  8.2min\n",
      "[Parallel(n_jobs=-1)]: Done 119 tasks      | elapsed:  8.2min\n",
      "[Parallel(n_jobs=-1)]: Done 120 tasks      | elapsed:  8.3min\n",
      "[Parallel(n_jobs=-1)]: Done 121 tasks      | elapsed:  8.6min\n",
      "[Parallel(n_jobs=-1)]: Done 122 tasks      | elapsed:  8.7min\n",
      "[Parallel(n_jobs=-1)]: Done 123 tasks      | elapsed:  8.7min\n",
      "[Parallel(n_jobs=-1)]: Done 124 tasks      | elapsed:  8.7min\n",
      "[Parallel(n_jobs=-1)]: Done 125 tasks      | elapsed:  8.7min\n",
      "[Parallel(n_jobs=-1)]: Done 126 tasks      | elapsed:  8.7min\n",
      "[Parallel(n_jobs=-1)]: Done 127 tasks      | elapsed:  8.8min\n",
      "[Parallel(n_jobs=-1)]: Done 128 tasks      | elapsed:  8.8min\n",
      "[Parallel(n_jobs=-1)]: Done 129 tasks      | elapsed:  9.2min\n",
      "[Parallel(n_jobs=-1)]: Done 130 tasks      | elapsed:  9.2min\n",
      "[Parallel(n_jobs=-1)]: Done 131 tasks      | elapsed:  9.2min\n"
     ]
    },
    {
     "name": "stderr",
     "output_type": "stream",
     "text": [
      "[Parallel(n_jobs=-1)]: Done 132 tasks      | elapsed:  9.2min\n",
      "[Parallel(n_jobs=-1)]: Done 133 tasks      | elapsed:  9.2min\n",
      "[Parallel(n_jobs=-1)]: Done 134 tasks      | elapsed:  9.2min\n",
      "[Parallel(n_jobs=-1)]: Done 135 tasks      | elapsed:  9.3min\n",
      "[Parallel(n_jobs=-1)]: Done 136 tasks      | elapsed:  9.3min\n",
      "[Parallel(n_jobs=-1)]: Done 137 tasks      | elapsed:  9.7min\n",
      "[Parallel(n_jobs=-1)]: Done 138 tasks      | elapsed:  9.7min\n",
      "[Parallel(n_jobs=-1)]: Done 139 tasks      | elapsed:  9.7min\n",
      "[Parallel(n_jobs=-1)]: Done 140 tasks      | elapsed:  9.7min\n",
      "[Parallel(n_jobs=-1)]: Done 141 tasks      | elapsed:  9.8min\n",
      "[Parallel(n_jobs=-1)]: Done 142 tasks      | elapsed:  9.8min\n",
      "[Parallel(n_jobs=-1)]: Done 143 tasks      | elapsed:  9.8min\n",
      "[Parallel(n_jobs=-1)]: Done 144 tasks      | elapsed:  9.8min\n",
      "[Parallel(n_jobs=-1)]: Done 145 tasks      | elapsed: 10.2min\n",
      "[Parallel(n_jobs=-1)]: Done 146 tasks      | elapsed: 10.2min\n",
      "[Parallel(n_jobs=-1)]: Done 147 tasks      | elapsed: 10.3min\n",
      "[Parallel(n_jobs=-1)]: Done 148 tasks      | elapsed: 10.3min\n",
      "[Parallel(n_jobs=-1)]: Done 149 tasks      | elapsed: 10.3min\n",
      "[Parallel(n_jobs=-1)]: Done 150 tasks      | elapsed: 10.3min\n",
      "[Parallel(n_jobs=-1)]: Done 151 tasks      | elapsed: 10.3min\n",
      "[Parallel(n_jobs=-1)]: Done 152 tasks      | elapsed: 10.4min\n",
      "[Parallel(n_jobs=-1)]: Done 153 tasks      | elapsed: 10.8min\n",
      "[Parallel(n_jobs=-1)]: Done 154 tasks      | elapsed: 10.8min\n",
      "[Parallel(n_jobs=-1)]: Done 155 tasks      | elapsed: 10.8min\n",
      "[Parallel(n_jobs=-1)]: Done 156 tasks      | elapsed: 10.8min\n",
      "[Parallel(n_jobs=-1)]: Done 157 tasks      | elapsed: 10.8min\n",
      "[Parallel(n_jobs=-1)]: Done 158 tasks      | elapsed: 10.8min\n",
      "[Parallel(n_jobs=-1)]: Done 159 tasks      | elapsed: 10.9min\n",
      "[Parallel(n_jobs=-1)]: Done 160 tasks      | elapsed: 10.9min\n",
      "[Parallel(n_jobs=-1)]: Done 161 tasks      | elapsed: 11.3min\n",
      "[Parallel(n_jobs=-1)]: Done 162 tasks      | elapsed: 11.3min\n",
      "[Parallel(n_jobs=-1)]: Done 163 tasks      | elapsed: 11.3min\n",
      "[Parallel(n_jobs=-1)]: Done 164 tasks      | elapsed: 11.4min\n",
      "[Parallel(n_jobs=-1)]: Done 165 tasks      | elapsed: 11.4min\n",
      "[Parallel(n_jobs=-1)]: Done 166 tasks      | elapsed: 11.4min\n",
      "[Parallel(n_jobs=-1)]: Done 167 tasks      | elapsed: 11.4min\n",
      "[Parallel(n_jobs=-1)]: Done 168 tasks      | elapsed: 11.4min\n",
      "[Parallel(n_jobs=-1)]: Done 169 tasks      | elapsed: 11.8min\n",
      "[Parallel(n_jobs=-1)]: Done 170 tasks      | elapsed: 11.8min\n",
      "[Parallel(n_jobs=-1)]: Done 171 tasks      | elapsed: 11.8min\n",
      "[Parallel(n_jobs=-1)]: Done 172 tasks      | elapsed: 11.9min\n",
      "[Parallel(n_jobs=-1)]: Done 173 tasks      | elapsed: 11.9min\n",
      "[Parallel(n_jobs=-1)]: Done 174 tasks      | elapsed: 11.9min\n",
      "[Parallel(n_jobs=-1)]: Done 175 tasks      | elapsed: 11.9min\n",
      "[Parallel(n_jobs=-1)]: Done 176 tasks      | elapsed: 12.0min\n",
      "[Parallel(n_jobs=-1)]: Done 177 tasks      | elapsed: 12.3min\n",
      "[Parallel(n_jobs=-1)]: Done 178 tasks      | elapsed: 12.3min\n",
      "[Parallel(n_jobs=-1)]: Done 179 tasks      | elapsed: 12.4min\n",
      "[Parallel(n_jobs=-1)]: Done 180 tasks      | elapsed: 12.4min\n",
      "[Parallel(n_jobs=-1)]: Done 181 tasks      | elapsed: 12.4min\n",
      "[Parallel(n_jobs=-1)]: Done 182 tasks      | elapsed: 12.4min\n",
      "[Parallel(n_jobs=-1)]: Done 183 tasks      | elapsed: 12.5min\n",
      "[Parallel(n_jobs=-1)]: Done 184 tasks      | elapsed: 12.5min\n",
      "[Parallel(n_jobs=-1)]: Done 185 tasks      | elapsed: 12.9min\n",
      "[Parallel(n_jobs=-1)]: Done 186 tasks      | elapsed: 12.9min\n",
      "[Parallel(n_jobs=-1)]: Done 187 tasks      | elapsed: 12.9min\n",
      "[Parallel(n_jobs=-1)]: Done 188 tasks      | elapsed: 12.9min\n",
      "[Parallel(n_jobs=-1)]: Done 189 tasks      | elapsed: 12.9min\n",
      "[Parallel(n_jobs=-1)]: Done 190 tasks      | elapsed: 12.9min\n",
      "[Parallel(n_jobs=-1)]: Done 191 tasks      | elapsed: 13.0min\n",
      "[Parallel(n_jobs=-1)]: Done 192 tasks      | elapsed: 13.0min\n",
      "[Parallel(n_jobs=-1)]: Done 193 tasks      | elapsed: 13.4min\n",
      "[Parallel(n_jobs=-1)]: Done 194 tasks      | elapsed: 13.4min\n",
      "[Parallel(n_jobs=-1)]: Done 195 tasks      | elapsed: 13.4min\n",
      "[Parallel(n_jobs=-1)]: Done 196 tasks      | elapsed: 13.5min\n",
      "[Parallel(n_jobs=-1)]: Done 197 tasks      | elapsed: 13.5min\n",
      "[Parallel(n_jobs=-1)]: Done 198 tasks      | elapsed: 13.5min\n",
      "[Parallel(n_jobs=-1)]: Done 199 tasks      | elapsed: 13.5min\n",
      "[Parallel(n_jobs=-1)]: Done 200 tasks      | elapsed: 13.6min\n"
     ]
    }
   ],
   "source": [
    "cv.fit(scaler.fit_transform(X_train), Y_train)"
   ]
  },
  {
   "cell_type": "code",
   "execution_count": null,
   "metadata": {},
   "outputs": [],
   "source": []
  },
  {
   "cell_type": "markdown",
   "metadata": {},
   "source": [
    "## ElasticNet"
   ]
  },
  {
   "cell_type": "code",
   "execution_count": 30,
   "metadata": {},
   "outputs": [],
   "source": []
  },
  {
   "cell_type": "code",
   "execution_count": 321,
   "metadata": {},
   "outputs": [],
   "source": [
    "en = ElasticNet(random_state = 42, normalize='True', alpha = 0.0001, l1_ratio = 0.4)\n",
    "en.fit(X_train, Y_train)\n",
    "probs = en.predict(X_test)"
   ]
  },
  {
   "cell_type": "code",
   "execution_count": 322,
   "metadata": {},
   "outputs": [
    {
     "data": {
      "text/plain": [
       "array([0.241065  , 0.28015385, 0.31672244, ..., 0.11610575, 0.30081757,\n",
       "       0.27199328])"
      ]
     },
     "execution_count": 322,
     "metadata": {},
     "output_type": "execute_result"
    }
   ],
   "source": [
    "probs"
   ]
  },
  {
   "cell_type": "code",
   "execution_count": 320,
   "metadata": {},
   "outputs": [
    {
     "name": "stdout",
     "output_type": "stream",
     "text": [
      "max(tpr - fpr) w/ th =  0.6610885969333447\n"
     ]
    },
    {
     "data": {
      "image/png": "[encoded data removed]",
      "text/plain": [
       "<Figure size 432x288 with 1 Axes>"
      ]
     },
     "metadata": {
      "needs_background": "light"
     },
     "output_type": "display_data"
    }
   ],
   "source": [
    "plot_roc(test_y, probs, 'Elastic Net')"
   ]
  },
  {
   "cell_type": "code",
   "execution_count": 323,
   "metadata": {},
   "outputs": [
    {
     "data": {
      "text/plain": [
       "(3400,)"
      ]
     },
     "execution_count": 323,
     "metadata": {},
     "output_type": "execute_result"
    }
   ],
   "source": [
    "probs.shape"
   ]
  },
  {
   "cell_type": "code",
   "execution_count": 25,
   "metadata": {},
   "outputs": [
    {
     "data": {
      "text/plain": [
       "(1088,)"
      ]
     },
     "execution_count": 25,
     "metadata": {},
     "output_type": "execute_result"
    }
   ],
   "source": [
    "y_test1.shape"
   ]
  },
  {
   "cell_type": "code",
   "execution_count": 26,
   "metadata": {},
   "outputs": [
    {
     "name": "stdout",
     "output_type": "stream",
     "text": [
      "f1_score:\n",
      "0.7367636092468307\n",
      "Confusion Matrix:\n",
      "[[241  77]\n",
      " [276 494]]\n",
      "              precision    recall  f1-score   support\n",
      "\n",
      "           0       0.47      0.76      0.58       318\n",
      "           1       0.87      0.64      0.74       770\n",
      "\n",
      "    accuracy                           0.68      1088\n",
      "   macro avg       0.67      0.70      0.66      1088\n",
      "weighted avg       0.75      0.68      0.69      1088\n",
      "\n"
     ]
    }
   ],
   "source": [
    "matrix_info(0.6968 ,y_test1, probs)"
   ]
  },
  {
   "cell_type": "code",
   "execution_count": 326,
   "metadata": {},
   "outputs": [
    {
     "data": {
      "text/html": [
       "<div>\n",
       "<style scoped>\n",
       "    .dataframe tbody tr th:only-of-type {\n",
       "        vertical-align: middle;\n",
       "    }\n",
       "\n",
       "    .dataframe tbody tr th {\n",
       "        vertical-align: top;\n",
       "    }\n",
       "\n",
       "    .dataframe thead th {\n",
       "        text-align: right;\n",
       "    }\n",
       "</style>\n",
       "<table border=\"1\" class=\"dataframe\">\n",
       "  <thead>\n",
       "    <tr style=\"text-align: right;\">\n",
       "      <th></th>\n",
       "      <th>IdFeedBack</th>\n",
       "      <th>Prediction</th>\n",
       "    </tr>\n",
       "  </thead>\n",
       "  <tbody>\n",
       "    <tr>\n",
       "      <td>0</td>\n",
       "      <td>S01_Sess01_FB001</td>\n",
       "      <td>0.241065</td>\n",
       "    </tr>\n",
       "    <tr>\n",
       "      <td>1</td>\n",
       "      <td>S01_Sess01_FB002</td>\n",
       "      <td>0.280154</td>\n",
       "    </tr>\n",
       "    <tr>\n",
       "      <td>2</td>\n",
       "      <td>S01_Sess01_FB003</td>\n",
       "      <td>0.316722</td>\n",
       "    </tr>\n",
       "    <tr>\n",
       "      <td>3</td>\n",
       "      <td>S01_Sess01_FB004</td>\n",
       "      <td>0.264452</td>\n",
       "    </tr>\n",
       "    <tr>\n",
       "      <td>4</td>\n",
       "      <td>S01_Sess01_FB005</td>\n",
       "      <td>0.335727</td>\n",
       "    </tr>\n",
       "    <tr>\n",
       "      <td>...</td>\n",
       "      <td>...</td>\n",
       "      <td>...</td>\n",
       "    </tr>\n",
       "    <tr>\n",
       "      <td>3395</td>\n",
       "      <td>S25_Sess05_FB096</td>\n",
       "      <td>0.318724</td>\n",
       "    </tr>\n",
       "    <tr>\n",
       "      <td>3396</td>\n",
       "      <td>S25_Sess05_FB097</td>\n",
       "      <td>0.294933</td>\n",
       "    </tr>\n",
       "    <tr>\n",
       "      <td>3397</td>\n",
       "      <td>S25_Sess05_FB098</td>\n",
       "      <td>0.116106</td>\n",
       "    </tr>\n",
       "    <tr>\n",
       "      <td>3398</td>\n",
       "      <td>S25_Sess05_FB099</td>\n",
       "      <td>0.300818</td>\n",
       "    </tr>\n",
       "    <tr>\n",
       "      <td>3399</td>\n",
       "      <td>S25_Sess05_FB100</td>\n",
       "      <td>0.271993</td>\n",
       "    </tr>\n",
       "  </tbody>\n",
       "</table>\n",
       "<p>3400 rows × 2 columns</p>\n",
       "</div>"
      ],
      "text/plain": [
       "            IdFeedBack  Prediction\n",
       "0     S01_Sess01_FB001    0.241065\n",
       "1     S01_Sess01_FB002    0.280154\n",
       "2     S01_Sess01_FB003    0.316722\n",
       "3     S01_Sess01_FB004    0.264452\n",
       "4     S01_Sess01_FB005    0.335727\n",
       "...                ...         ...\n",
       "3395  S25_Sess05_FB096    0.318724\n",
       "3396  S25_Sess05_FB097    0.294933\n",
       "3397  S25_Sess05_FB098    0.116106\n",
       "3398  S25_Sess05_FB099    0.300818\n",
       "3399  S25_Sess05_FB100    0.271993\n",
       "\n",
       "[3400 rows x 2 columns]"
      ]
     },
     "execution_count": 326,
     "metadata": {},
     "output_type": "execute_result"
    }
   ],
   "source": [
    "submission"
   ]
  },
  {
   "cell_type": "code",
   "execution_count": 325,
   "metadata": {},
   "outputs": [],
   "source": [
    "submission['Prediction'] = probs"
   ]
  },
  {
   "cell_type": "code",
   "execution_count": 335,
   "metadata": {},
   "outputs": [],
   "source": [
    "submission.Predicition = probs\n",
    "submission.to_csv('submission.csv', index=None)"
   ]
  },
  {
   "cell_type": "code",
   "execution_count": 63,
   "metadata": {},
   "outputs": [],
   "source": [
    "params = {'alpha': [0.0001, 0.001, 0.01, 0.1, 1, 10, 100],\n",
    "         'l1_ratio': [0. , 0.1, 0.2, 0.3, 0.4, 0.5, 0.6, 0.7, 0.8, 0.9],\n",
    "         'normalize': ['True', 'False']}"
   ]
  },
  {
   "cell_type": "code",
   "execution_count": 64,
   "metadata": {
    "scrolled": true
   },
   "outputs": [
    {
     "name": "stdout",
     "output_type": "stream",
     "text": [
      "Fitting 5 folds for each of 140 candidates, totalling 700 fits\n"
     ]
    },
    {
     "name": "stderr",
     "output_type": "stream",
     "text": [
      "[Parallel(n_jobs=-1)]: Using backend LokyBackend with 8 concurrent workers.\n",
      "[Parallel(n_jobs=-1)]: Done   2 tasks      | elapsed:    8.7s\n",
      "[Parallel(n_jobs=-1)]: Done   9 tasks      | elapsed:    9.3s\n",
      "[Parallel(n_jobs=-1)]: Done  16 tasks      | elapsed:    9.6s\n",
      "[Parallel(n_jobs=-1)]: Done  25 tasks      | elapsed:   10.0s\n",
      "[Parallel(n_jobs=-1)]: Done  34 tasks      | elapsed:   10.5s\n",
      "[Parallel(n_jobs=-1)]: Done  45 tasks      | elapsed:   11.0s\n",
      "[Parallel(n_jobs=-1)]: Done  56 tasks      | elapsed:   11.5s\n",
      "[Parallel(n_jobs=-1)]: Done  69 tasks      | elapsed:   12.1s\n",
      "[Parallel(n_jobs=-1)]: Done  82 tasks      | elapsed:   12.6s\n",
      "[Parallel(n_jobs=-1)]: Done  97 tasks      | elapsed:   13.3s\n",
      "[Parallel(n_jobs=-1)]: Done 112 tasks      | elapsed:   20.2s\n",
      "[Parallel(n_jobs=-1)]: Done 129 tasks      | elapsed:   20.8s\n",
      "[Parallel(n_jobs=-1)]: Done 146 tasks      | elapsed:   21.4s\n",
      "[Parallel(n_jobs=-1)]: Done 165 tasks      | elapsed:   22.1s\n",
      "[Parallel(n_jobs=-1)]: Done 184 tasks      | elapsed:   22.7s\n",
      "[Parallel(n_jobs=-1)]: Done 205 tasks      | elapsed:   28.9s\n",
      "[Parallel(n_jobs=-1)]: Done 226 tasks      | elapsed:   29.8s\n",
      "[Parallel(n_jobs=-1)]: Done 249 tasks      | elapsed:   30.6s\n",
      "[Parallel(n_jobs=-1)]: Done 272 tasks      | elapsed:   31.3s\n",
      "[Parallel(n_jobs=-1)]: Done 297 tasks      | elapsed:   32.1s\n",
      "[Parallel(n_jobs=-1)]: Done 322 tasks      | elapsed:   39.7s\n",
      "[Parallel(n_jobs=-1)]: Done 349 tasks      | elapsed:   41.1s\n",
      "[Parallel(n_jobs=-1)]: Done 376 tasks      | elapsed:   42.1s\n",
      "[Parallel(n_jobs=-1)]: Done 405 tasks      | elapsed:   49.8s\n",
      "[Parallel(n_jobs=-1)]: Done 434 tasks      | elapsed:   51.5s\n",
      "[Parallel(n_jobs=-1)]: Done 465 tasks      | elapsed:   52.8s\n",
      "[Parallel(n_jobs=-1)]: Done 496 tasks      | elapsed:   53.8s\n",
      "[Parallel(n_jobs=-1)]: Done 529 tasks      | elapsed:  1.0min\n",
      "[Parallel(n_jobs=-1)]: Done 562 tasks      | elapsed:  1.0min\n",
      "[Parallel(n_jobs=-1)]: Done 597 tasks      | elapsed:  1.0min\n",
      "[Parallel(n_jobs=-1)]: Done 632 tasks      | elapsed:  1.2min\n",
      "[Parallel(n_jobs=-1)]: Done 669 tasks      | elapsed:  1.2min\n",
      "[Parallel(n_jobs=-1)]: Done 700 out of 700 | elapsed:  1.2min finished\n"
     ]
    },
    {
     "data": {
      "text/plain": [
       "GridSearchCV(cv=5, error_score='raise-deprecating',\n",
       "             estimator=ElasticNet(alpha=1.0, copy_X=True, fit_intercept=True,\n",
       "                                  l1_ratio=0.5, max_iter=1000, normalize=False,\n",
       "                                  positive=False, precompute=False,\n",
       "                                  random_state=None, selection='cyclic',\n",
       "                                  tol=0.0001, warm_start=False),\n",
       "             iid='warn', n_jobs=-1,\n",
       "             param_grid={'alpha': [0.0001, 0.001, 0.01, 0.1, 1, 10, 100],\n",
       "                         'l1_ratio': [0.0, 0.1, 0.2, 0.3, 0.4, 0.5, 0.6, 0.7,\n",
       "                                      0.8, 0.9],\n",
       "                         'normalize': ['True', 'False']},\n",
       "             pre_dispatch='2*n_jobs', refit=True, return_train_score=False,\n",
       "             scoring=None, verbose=10)"
      ]
     },
     "execution_count": 64,
     "metadata": {},
     "output_type": "execute_result"
    }
   ],
   "source": [
    "en = ElasticNet()\n",
    "cv = GridSearchCV(en, param_grid=params, n_jobs=-1, verbose=10, cv=5)\n",
    "cv.fit(X_train, Y_train)"
   ]
  },
  {
   "cell_type": "code",
   "execution_count": 65,
   "metadata": {
    "scrolled": true
   },
   "outputs": [
    {
     "name": "stdout",
     "output_type": "stream",
     "text": [
      "best params:  {'alpha': 0.0001, 'l1_ratio': 0.4, 'normalize': 'True'}\n"
     ]
    },
    {
     "data": {
      "text/html": [
       "<div>\n",
       "<style scoped>\n",
       "    .dataframe tbody tr th:only-of-type {\n",
       "        vertical-align: middle;\n",
       "    }\n",
       "\n",
       "    .dataframe tbody tr th {\n",
       "        vertical-align: top;\n",
       "    }\n",
       "\n",
       "    .dataframe thead th {\n",
       "        text-align: right;\n",
       "    }\n",
       "</style>\n",
       "<table border=\"1\" class=\"dataframe\">\n",
       "  <thead>\n",
       "    <tr style=\"text-align: right;\">\n",
       "      <th></th>\n",
       "      <th>mean_fit_time</th>\n",
       "      <th>std_fit_time</th>\n",
       "      <th>mean_score_time</th>\n",
       "      <th>std_score_time</th>\n",
       "      <th>param_alpha</th>\n",
       "      <th>param_l1_ratio</th>\n",
       "      <th>param_normalize</th>\n",
       "      <th>params</th>\n",
       "      <th>split0_test_score</th>\n",
       "      <th>split1_test_score</th>\n",
       "      <th>split2_test_score</th>\n",
       "      <th>split3_test_score</th>\n",
       "      <th>split4_test_score</th>\n",
       "      <th>mean_test_score</th>\n",
       "      <th>std_test_score</th>\n",
       "      <th>rank_test_score</th>\n",
       "    </tr>\n",
       "  </thead>\n",
       "  <tbody>\n",
       "    <tr>\n",
       "      <td>8</td>\n",
       "      <td>0.211751</td>\n",
       "      <td>0.020478</td>\n",
       "      <td>0.002168</td>\n",
       "      <td>0.001929</td>\n",
       "      <td>0.0001</td>\n",
       "      <td>0.4</td>\n",
       "      <td>True</td>\n",
       "      <td>{'alpha': 0.0001, 'l1_ratio': 0.4, 'normalize'...</td>\n",
       "      <td>0.037230</td>\n",
       "      <td>0.023280</td>\n",
       "      <td>0.159506</td>\n",
       "      <td>0.078458</td>\n",
       "      <td>0.104450</td>\n",
       "      <td>0.080585</td>\n",
       "      <td>0.048921</td>\n",
       "      <td>1</td>\n",
       "    </tr>\n",
       "    <tr>\n",
       "      <td>9</td>\n",
       "      <td>0.222357</td>\n",
       "      <td>0.020918</td>\n",
       "      <td>0.003768</td>\n",
       "      <td>0.002386</td>\n",
       "      <td>0.0001</td>\n",
       "      <td>0.4</td>\n",
       "      <td>False</td>\n",
       "      <td>{'alpha': 0.0001, 'l1_ratio': 0.4, 'normalize'...</td>\n",
       "      <td>0.037230</td>\n",
       "      <td>0.023280</td>\n",
       "      <td>0.159506</td>\n",
       "      <td>0.078458</td>\n",
       "      <td>0.104450</td>\n",
       "      <td>0.080585</td>\n",
       "      <td>0.048921</td>\n",
       "      <td>1</td>\n",
       "    </tr>\n",
       "    <tr>\n",
       "      <td>6</td>\n",
       "      <td>0.215182</td>\n",
       "      <td>0.020946</td>\n",
       "      <td>0.003443</td>\n",
       "      <td>0.002882</td>\n",
       "      <td>0.0001</td>\n",
       "      <td>0.3</td>\n",
       "      <td>True</td>\n",
       "      <td>{'alpha': 0.0001, 'l1_ratio': 0.3, 'normalize'...</td>\n",
       "      <td>0.037882</td>\n",
       "      <td>0.022799</td>\n",
       "      <td>0.159975</td>\n",
       "      <td>0.078381</td>\n",
       "      <td>0.103844</td>\n",
       "      <td>0.080576</td>\n",
       "      <td>0.049013</td>\n",
       "      <td>3</td>\n",
       "    </tr>\n",
       "    <tr>\n",
       "      <td>7</td>\n",
       "      <td>0.220973</td>\n",
       "      <td>0.015497</td>\n",
       "      <td>0.003076</td>\n",
       "      <td>0.002333</td>\n",
       "      <td>0.0001</td>\n",
       "      <td>0.3</td>\n",
       "      <td>False</td>\n",
       "      <td>{'alpha': 0.0001, 'l1_ratio': 0.3, 'normalize'...</td>\n",
       "      <td>0.037882</td>\n",
       "      <td>0.022799</td>\n",
       "      <td>0.159975</td>\n",
       "      <td>0.078381</td>\n",
       "      <td>0.103844</td>\n",
       "      <td>0.080576</td>\n",
       "      <td>0.049013</td>\n",
       "      <td>3</td>\n",
       "    </tr>\n",
       "    <tr>\n",
       "      <td>4</td>\n",
       "      <td>0.229698</td>\n",
       "      <td>0.019176</td>\n",
       "      <td>0.003762</td>\n",
       "      <td>0.002571</td>\n",
       "      <td>0.0001</td>\n",
       "      <td>0.2</td>\n",
       "      <td>True</td>\n",
       "      <td>{'alpha': 0.0001, 'l1_ratio': 0.2, 'normalize'...</td>\n",
       "      <td>0.038548</td>\n",
       "      <td>0.022216</td>\n",
       "      <td>0.159973</td>\n",
       "      <td>0.078667</td>\n",
       "      <td>0.103270</td>\n",
       "      <td>0.080534</td>\n",
       "      <td>0.048979</td>\n",
       "      <td>5</td>\n",
       "    </tr>\n",
       "    <tr>\n",
       "      <td>...</td>\n",
       "      <td>...</td>\n",
       "      <td>...</td>\n",
       "      <td>...</td>\n",
       "      <td>...</td>\n",
       "      <td>...</td>\n",
       "      <td>...</td>\n",
       "      <td>...</td>\n",
       "      <td>...</td>\n",
       "      <td>...</td>\n",
       "      <td>...</td>\n",
       "      <td>...</td>\n",
       "      <td>...</td>\n",
       "      <td>...</td>\n",
       "      <td>...</td>\n",
       "      <td>...</td>\n",
       "      <td>...</td>\n",
       "    </tr>\n",
       "    <tr>\n",
       "      <td>71</td>\n",
       "      <td>0.192397</td>\n",
       "      <td>0.046575</td>\n",
       "      <td>0.004844</td>\n",
       "      <td>0.001647</td>\n",
       "      <td>0.1</td>\n",
       "      <td>0.5</td>\n",
       "      <td>False</td>\n",
       "      <td>{'alpha': 0.1, 'l1_ratio': 0.5, 'normalize': '...</td>\n",
       "      <td>-0.138524</td>\n",
       "      <td>-0.103251</td>\n",
       "      <td>-0.013623</td>\n",
       "      <td>-0.153030</td>\n",
       "      <td>-0.025915</td>\n",
       "      <td>-0.086869</td>\n",
       "      <td>0.057261</td>\n",
       "      <td>53</td>\n",
       "    </tr>\n",
       "    <tr>\n",
       "      <td>70</td>\n",
       "      <td>0.218621</td>\n",
       "      <td>0.047091</td>\n",
       "      <td>0.011385</td>\n",
       "      <td>0.014770</td>\n",
       "      <td>0.1</td>\n",
       "      <td>0.5</td>\n",
       "      <td>True</td>\n",
       "      <td>{'alpha': 0.1, 'l1_ratio': 0.5, 'normalize': '...</td>\n",
       "      <td>-0.138524</td>\n",
       "      <td>-0.103251</td>\n",
       "      <td>-0.013623</td>\n",
       "      <td>-0.153030</td>\n",
       "      <td>-0.025915</td>\n",
       "      <td>-0.086869</td>\n",
       "      <td>0.057261</td>\n",
       "      <td>53</td>\n",
       "    </tr>\n",
       "    <tr>\n",
       "      <td>138</td>\n",
       "      <td>0.116025</td>\n",
       "      <td>0.007159</td>\n",
       "      <td>0.003573</td>\n",
       "      <td>0.001928</td>\n",
       "      <td>100</td>\n",
       "      <td>0.9</td>\n",
       "      <td>True</td>\n",
       "      <td>{'alpha': 100, 'l1_ratio': 0.9, 'normalize': '...</td>\n",
       "      <td>-0.138524</td>\n",
       "      <td>-0.103251</td>\n",
       "      <td>-0.013623</td>\n",
       "      <td>-0.153030</td>\n",
       "      <td>-0.025915</td>\n",
       "      <td>-0.086869</td>\n",
       "      <td>0.057261</td>\n",
       "      <td>53</td>\n",
       "    </tr>\n",
       "    <tr>\n",
       "      <td>78</td>\n",
       "      <td>0.203768</td>\n",
       "      <td>0.037306</td>\n",
       "      <td>0.004959</td>\n",
       "      <td>0.003633</td>\n",
       "      <td>0.1</td>\n",
       "      <td>0.9</td>\n",
       "      <td>True</td>\n",
       "      <td>{'alpha': 0.1, 'l1_ratio': 0.9, 'normalize': '...</td>\n",
       "      <td>-0.138524</td>\n",
       "      <td>-0.103251</td>\n",
       "      <td>-0.013623</td>\n",
       "      <td>-0.153030</td>\n",
       "      <td>-0.025915</td>\n",
       "      <td>-0.086869</td>\n",
       "      <td>0.057261</td>\n",
       "      <td>53</td>\n",
       "    </tr>\n",
       "    <tr>\n",
       "      <td>139</td>\n",
       "      <td>0.126732</td>\n",
       "      <td>0.012442</td>\n",
       "      <td>0.002641</td>\n",
       "      <td>0.000726</td>\n",
       "      <td>100</td>\n",
       "      <td>0.9</td>\n",
       "      <td>False</td>\n",
       "      <td>{'alpha': 100, 'l1_ratio': 0.9, 'normalize': '...</td>\n",
       "      <td>-0.138524</td>\n",
       "      <td>-0.103251</td>\n",
       "      <td>-0.013623</td>\n",
       "      <td>-0.153030</td>\n",
       "      <td>-0.025915</td>\n",
       "      <td>-0.086869</td>\n",
       "      <td>0.057261</td>\n",
       "      <td>53</td>\n",
       "    </tr>\n",
       "  </tbody>\n",
       "</table>\n",
       "<p>140 rows × 16 columns</p>\n",
       "</div>"
      ],
      "text/plain": [
       "     mean_fit_time  std_fit_time  mean_score_time  std_score_time param_alpha  \\\n",
       "8         0.211751      0.020478         0.002168        0.001929      0.0001   \n",
       "9         0.222357      0.020918         0.003768        0.002386      0.0001   \n",
       "6         0.215182      0.020946         0.003443        0.002882      0.0001   \n",
       "7         0.220973      0.015497         0.003076        0.002333      0.0001   \n",
       "4         0.229698      0.019176         0.003762        0.002571      0.0001   \n",
       "..             ...           ...              ...             ...         ...   \n",
       "71        0.192397      0.046575         0.004844        0.001647         0.1   \n",
       "70        0.218621      0.047091         0.011385        0.014770         0.1   \n",
       "138       0.116025      0.007159         0.003573        0.001928         100   \n",
       "78        0.203768      0.037306         0.004959        0.003633         0.1   \n",
       "139       0.126732      0.012442         0.002641        0.000726         100   \n",
       "\n",
       "    param_l1_ratio param_normalize  \\\n",
       "8              0.4            True   \n",
       "9              0.4           False   \n",
       "6              0.3            True   \n",
       "7              0.3           False   \n",
       "4              0.2            True   \n",
       "..             ...             ...   \n",
       "71             0.5           False   \n",
       "70             0.5            True   \n",
       "138            0.9            True   \n",
       "78             0.9            True   \n",
       "139            0.9           False   \n",
       "\n",
       "                                                params  split0_test_score  \\\n",
       "8    {'alpha': 0.0001, 'l1_ratio': 0.4, 'normalize'...           0.037230   \n",
       "9    {'alpha': 0.0001, 'l1_ratio': 0.4, 'normalize'...           0.037230   \n",
       "6    {'alpha': 0.0001, 'l1_ratio': 0.3, 'normalize'...           0.037882   \n",
       "7    {'alpha': 0.0001, 'l1_ratio': 0.3, 'normalize'...           0.037882   \n",
       "4    {'alpha': 0.0001, 'l1_ratio': 0.2, 'normalize'...           0.038548   \n",
       "..                                                 ...                ...   \n",
       "71   {'alpha': 0.1, 'l1_ratio': 0.5, 'normalize': '...          -0.138524   \n",
       "70   {'alpha': 0.1, 'l1_ratio': 0.5, 'normalize': '...          -0.138524   \n",
       "138  {'alpha': 100, 'l1_ratio': 0.9, 'normalize': '...          -0.138524   \n",
       "78   {'alpha': 0.1, 'l1_ratio': 0.9, 'normalize': '...          -0.138524   \n",
       "139  {'alpha': 100, 'l1_ratio': 0.9, 'normalize': '...          -0.138524   \n",
       "\n",
       "     split1_test_score  split2_test_score  split3_test_score  \\\n",
       "8             0.023280           0.159506           0.078458   \n",
       "9             0.023280           0.159506           0.078458   \n",
       "6             0.022799           0.159975           0.078381   \n",
       "7             0.022799           0.159975           0.078381   \n",
       "4             0.022216           0.159973           0.078667   \n",
       "..                 ...                ...                ...   \n",
       "71           -0.103251          -0.013623          -0.153030   \n",
       "70           -0.103251          -0.013623          -0.153030   \n",
       "138          -0.103251          -0.013623          -0.153030   \n",
       "78           -0.103251          -0.013623          -0.153030   \n",
       "139          -0.103251          -0.013623          -0.153030   \n",
       "\n",
       "     split4_test_score  mean_test_score  std_test_score  rank_test_score  \n",
       "8             0.104450         0.080585        0.048921                1  \n",
       "9             0.104450         0.080585        0.048921                1  \n",
       "6             0.103844         0.080576        0.049013                3  \n",
       "7             0.103844         0.080576        0.049013                3  \n",
       "4             0.103270         0.080534        0.048979                5  \n",
       "..                 ...              ...             ...              ...  \n",
       "71           -0.025915        -0.086869        0.057261               53  \n",
       "70           -0.025915        -0.086869        0.057261               53  \n",
       "138          -0.025915        -0.086869        0.057261               53  \n",
       "78           -0.025915        -0.086869        0.057261               53  \n",
       "139          -0.025915        -0.086869        0.057261               53  \n",
       "\n",
       "[140 rows x 16 columns]"
      ]
     },
     "execution_count": 65,
     "metadata": {},
     "output_type": "execute_result"
    }
   ],
   "source": [
    "cv_results = pd.DataFrame(cv.cv_results_)\n",
    "print(\"best params: \", cv_results.sort_values('rank_test_score').reset_index()['params'][0])\n",
    "cv_results.sort_values('rank_test_score')"
   ]
  },
  {
   "cell_type": "code",
   "execution_count": 395,
   "metadata": {},
   "outputs": [],
   "source": [
    "en = ElasticNet()\n",
    "en.fit(X_train, Y_train)\n",
    "probs_en = en.predict(X_test)"
   ]
  },
  {
   "cell_type": "code",
   "execution_count": 396,
   "metadata": {
    "scrolled": true
   },
   "outputs": [
    {
     "data": {
      "text/plain": [
       "array([0.70772059, 0.70772059, 0.70772059, ..., 0.70772059, 0.70772059,\n",
       "       0.70772059])"
      ]
     },
     "execution_count": 396,
     "metadata": {},
     "output_type": "execute_result"
    }
   ],
   "source": [
    "probs_en"
   ]
  },
  {
   "cell_type": "code",
   "execution_count": 394,
   "metadata": {
    "scrolled": true
   },
   "outputs": [
    {
     "name": "stdout",
     "output_type": "stream",
     "text": [
      "max(tpr - fpr) w/ th =  1.7077205882352942\n"
     ]
    },
    {
     "data": {
      "image/png": "[encoded data removed]",
      "text/plain": [
       "<Figure size 432x288 with 1 Axes>"
      ]
     },
     "metadata": {
      "needs_background": "light"
     },
     "output_type": "display_data"
    }
   ],
   "source": [
    "plot_roc(Y_test, probs_en[:-1], 'Elastic Net Test')"
   ]
  },
  {
   "cell_type": "code",
   "execution_count": 397,
   "metadata": {},
   "outputs": [],
   "source": [
    "submission['Prediction'] = probs_en\n",
    "submission.to_csv('submission_elastic.csv', index=None)"
   ]
  },
  {
   "cell_type": "markdown",
   "metadata": {},
   "source": [
    "## LDA"
   ]
  },
  {
   "cell_type": "code",
   "execution_count": 95,
   "metadata": {},
   "outputs": [],
   "source": [
    "from sklearn.discriminant_analysis import LinearDiscriminantAnalysis as LDA"
   ]
  },
  {
   "cell_type": "code",
   "execution_count": 328,
   "metadata": {},
   "outputs": [
    {
     "data": {
      "text/plain": [
       "LinearDiscriminantAnalysis(n_components=None, priors=None, shrinkage=None,\n",
       "                           solver='svd', store_covariance=False, tol=0.0001)"
      ]
     },
     "execution_count": 328,
     "metadata": {},
     "output_type": "execute_result"
    }
   ],
   "source": [
    "lda = LDA(solver = 'svd', n_components=None)\n",
    "lda.fit(X_train, Y_train)"
   ]
  },
  {
   "cell_type": "code",
   "execution_count": 330,
   "metadata": {},
   "outputs": [],
   "source": [
    "probs = lda.predict_proba(X_test)[:,1]"
   ]
  },
  {
   "cell_type": "code",
   "execution_count": 331,
   "metadata": {},
   "outputs": [
    {
     "ename": "ValueError",
     "evalue": "Found input variables with inconsistent numbers of samples: [3399, 3400]",
     "output_type": "error",
     "traceback": [
      "\u001b[1;31m---------------------------------------------------------------------------\u001b[0m",
      "\u001b[1;31mValueError\u001b[0m                                Traceback (most recent call last)",
      "\u001b[1;32m<ipython-input-331-2c435f62fe4d>\u001b[0m in \u001b[0;36m<module>\u001b[1;34m\u001b[0m\n\u001b[1;32m----> 1\u001b[1;33m \u001b[0mplot_roc\u001b[0m\u001b[1;33m(\u001b[0m\u001b[0mY_test\u001b[0m\u001b[1;33m,\u001b[0m \u001b[0mprobs\u001b[0m\u001b[1;33m,\u001b[0m \u001b[1;34m'LDA'\u001b[0m\u001b[1;33m)\u001b[0m\u001b[1;33m\u001b[0m\u001b[1;33m\u001b[0m\u001b[0m\n\u001b[0m",
      "\u001b[1;32m<ipython-input-64-767b60de1263>\u001b[0m in \u001b[0;36mplot_roc\u001b[1;34m(y, preds, model)\u001b[0m\n\u001b[0;32m      1\u001b[0m \u001b[1;32mdef\u001b[0m \u001b[0mplot_roc\u001b[0m\u001b[1;33m(\u001b[0m\u001b[0my\u001b[0m\u001b[1;33m,\u001b[0m \u001b[0mpreds\u001b[0m\u001b[1;33m,\u001b[0m \u001b[0mmodel\u001b[0m\u001b[1;33m)\u001b[0m\u001b[1;33m:\u001b[0m\u001b[1;33m\u001b[0m\u001b[1;33m\u001b[0m\u001b[0m\n\u001b[1;32m----> 2\u001b[1;33m     \u001b[0mfpr\u001b[0m\u001b[1;33m,\u001b[0m \u001b[0mtpr\u001b[0m\u001b[1;33m,\u001b[0m \u001b[0mthresholds\u001b[0m \u001b[1;33m=\u001b[0m \u001b[0mroc_curve\u001b[0m\u001b[1;33m(\u001b[0m\u001b[0my\u001b[0m\u001b[1;33m,\u001b[0m \u001b[0mpreds\u001b[0m\u001b[1;33m)\u001b[0m\u001b[1;33m\u001b[0m\u001b[1;33m\u001b[0m\u001b[0m\n\u001b[0m\u001b[0;32m      3\u001b[0m     \u001b[0moptimal_idx\u001b[0m \u001b[1;33m=\u001b[0m \u001b[0mnp\u001b[0m\u001b[1;33m.\u001b[0m\u001b[0margmax\u001b[0m\u001b[1;33m(\u001b[0m\u001b[0mtpr\u001b[0m \u001b[1;33m-\u001b[0m \u001b[0mfpr\u001b[0m\u001b[1;33m)\u001b[0m\u001b[1;33m\u001b[0m\u001b[1;33m\u001b[0m\u001b[0m\n\u001b[0;32m      4\u001b[0m     \u001b[0moptimal_threshold\u001b[0m \u001b[1;33m=\u001b[0m \u001b[0mthresholds\u001b[0m\u001b[1;33m[\u001b[0m\u001b[0moptimal_idx\u001b[0m\u001b[1;33m]\u001b[0m\u001b[1;33m\u001b[0m\u001b[1;33m\u001b[0m\u001b[0m\n\u001b[0;32m      5\u001b[0m     \u001b[0mprint\u001b[0m\u001b[1;33m(\u001b[0m\u001b[1;34m\"max(tpr - fpr) w/ th = \"\u001b[0m\u001b[1;33m,\u001b[0m \u001b[0moptimal_threshold\u001b[0m\u001b[1;33m)\u001b[0m\u001b[1;33m\u001b[0m\u001b[1;33m\u001b[0m\u001b[0m\n",
      "\u001b[1;32m~\\Anaconda3\\lib\\site-packages\\sklearn\\metrics\\ranking.py\u001b[0m in \u001b[0;36mroc_curve\u001b[1;34m(y_true, y_score, pos_label, sample_weight, drop_intermediate)\u001b[0m\n\u001b[0;32m    620\u001b[0m     \"\"\"\n\u001b[0;32m    621\u001b[0m     fps, tps, thresholds = _binary_clf_curve(\n\u001b[1;32m--> 622\u001b[1;33m         y_true, y_score, pos_label=pos_label, sample_weight=sample_weight)\n\u001b[0m\u001b[0;32m    623\u001b[0m \u001b[1;33m\u001b[0m\u001b[0m\n\u001b[0;32m    624\u001b[0m     \u001b[1;31m# Attempt to drop thresholds corresponding to points in between and\u001b[0m\u001b[1;33m\u001b[0m\u001b[1;33m\u001b[0m\u001b[1;33m\u001b[0m\u001b[0m\n",
      "\u001b[1;32m~\\Anaconda3\\lib\\site-packages\\sklearn\\metrics\\ranking.py\u001b[0m in \u001b[0;36m_binary_clf_curve\u001b[1;34m(y_true, y_score, pos_label, sample_weight)\u001b[0m\n\u001b[0;32m    396\u001b[0m         \u001b[1;32mraise\u001b[0m \u001b[0mValueError\u001b[0m\u001b[1;33m(\u001b[0m\u001b[1;34m\"{0} format is not supported\"\u001b[0m\u001b[1;33m.\u001b[0m\u001b[0mformat\u001b[0m\u001b[1;33m(\u001b[0m\u001b[0my_type\u001b[0m\u001b[1;33m)\u001b[0m\u001b[1;33m)\u001b[0m\u001b[1;33m\u001b[0m\u001b[1;33m\u001b[0m\u001b[0m\n\u001b[0;32m    397\u001b[0m \u001b[1;33m\u001b[0m\u001b[0m\n\u001b[1;32m--> 398\u001b[1;33m     \u001b[0mcheck_consistent_length\u001b[0m\u001b[1;33m(\u001b[0m\u001b[0my_true\u001b[0m\u001b[1;33m,\u001b[0m \u001b[0my_score\u001b[0m\u001b[1;33m,\u001b[0m \u001b[0msample_weight\u001b[0m\u001b[1;33m)\u001b[0m\u001b[1;33m\u001b[0m\u001b[1;33m\u001b[0m\u001b[0m\n\u001b[0m\u001b[0;32m    399\u001b[0m     \u001b[0my_true\u001b[0m \u001b[1;33m=\u001b[0m \u001b[0mcolumn_or_1d\u001b[0m\u001b[1;33m(\u001b[0m\u001b[0my_true\u001b[0m\u001b[1;33m)\u001b[0m\u001b[1;33m\u001b[0m\u001b[1;33m\u001b[0m\u001b[0m\n\u001b[0;32m    400\u001b[0m     \u001b[0my_score\u001b[0m \u001b[1;33m=\u001b[0m \u001b[0mcolumn_or_1d\u001b[0m\u001b[1;33m(\u001b[0m\u001b[0my_score\u001b[0m\u001b[1;33m)\u001b[0m\u001b[1;33m\u001b[0m\u001b[1;33m\u001b[0m\u001b[0m\n",
      "\u001b[1;32m~\\Anaconda3\\lib\\site-packages\\sklearn\\utils\\validation.py\u001b[0m in \u001b[0;36mcheck_consistent_length\u001b[1;34m(*arrays)\u001b[0m\n\u001b[0;32m    203\u001b[0m     \u001b[1;32mif\u001b[0m \u001b[0mlen\u001b[0m\u001b[1;33m(\u001b[0m\u001b[0muniques\u001b[0m\u001b[1;33m)\u001b[0m \u001b[1;33m>\u001b[0m \u001b[1;36m1\u001b[0m\u001b[1;33m:\u001b[0m\u001b[1;33m\u001b[0m\u001b[1;33m\u001b[0m\u001b[0m\n\u001b[0;32m    204\u001b[0m         raise ValueError(\"Found input variables with inconsistent numbers of\"\n\u001b[1;32m--> 205\u001b[1;33m                          \" samples: %r\" % [int(l) for l in lengths])\n\u001b[0m\u001b[0;32m    206\u001b[0m \u001b[1;33m\u001b[0m\u001b[0m\n\u001b[0;32m    207\u001b[0m \u001b[1;33m\u001b[0m\u001b[0m\n",
      "\u001b[1;31mValueError\u001b[0m: Found input variables with inconsistent numbers of samples: [3399, 3400]"
     ]
    }
   ],
   "source": [
    "plot_roc(Y_test, probs, 'LDA')"
   ]
  },
  {
   "cell_type": "code",
   "execution_count": 96,
   "metadata": {},
   "outputs": [],
   "source": [
    "params = {\n",
    "    'solver': ['svd','lsqr','eigen'],\n",
    "    'n_components' : [5,10,15,20,25,30,35,None]\n",
    "}"
   ]
  },
  {
   "cell_type": "code",
   "execution_count": 117,
   "metadata": {},
   "outputs": [],
   "source": [
    "params = {\n",
    "    'solver': ['lsqr','eigen'],\n",
    "    'shrinkage' : [None, 'auto'],\n",
    "    'n_components' : [5,10,15,20,25,30,35,None]\n",
    "}"
   ]
  },
  {
   "cell_type": "code",
   "execution_count": 93,
   "metadata": {},
   "outputs": [],
   "source": [
    "train_x, train_y, test_x, test_y = extract_sub(df_X, 15)"
   ]
  },
  {
   "cell_type": "code",
   "execution_count": 128,
   "metadata": {
    "scrolled": true
   },
   "outputs": [
    {
     "name": "stdout",
     "output_type": "stream",
     "text": [
      "Fitting 5 folds for each of 24 candidates, totalling 120 fits\n"
     ]
    },
    {
     "name": "stderr",
     "output_type": "stream",
     "text": [
      "[Parallel(n_jobs=-1)]: Using backend LokyBackend with 8 concurrent workers.\n",
      "[Parallel(n_jobs=-1)]: Done   2 tasks      | elapsed:    4.3s\n",
      "[Parallel(n_jobs=-1)]: Done   9 tasks      | elapsed:    4.8s\n",
      "[Parallel(n_jobs=-1)]: Done  16 tasks      | elapsed:    5.4s\n",
      "[Parallel(n_jobs=-1)]: Done  25 tasks      | elapsed:    6.1s\n",
      "[Parallel(n_jobs=-1)]: Done  34 tasks      | elapsed:    6.8s\n",
      "[Parallel(n_jobs=-1)]: Done  45 tasks      | elapsed:    7.4s\n",
      "[Parallel(n_jobs=-1)]: Done  56 tasks      | elapsed:    8.4s\n",
      "[Parallel(n_jobs=-1)]: Done  69 tasks      | elapsed:    9.3s\n",
      "[Parallel(n_jobs=-1)]: Done  82 tasks      | elapsed:   10.2s\n",
      "[Parallel(n_jobs=-1)]: Done  97 tasks      | elapsed:   11.3s\n",
      "[Parallel(n_jobs=-1)]: Done 118 out of 120 | elapsed:   12.8s remaining:    0.1s\n",
      "[Parallel(n_jobs=-1)]: Done 120 out of 120 | elapsed:   12.8s finished\n",
      "C:\\Users\\taq19\\Anaconda3\\lib\\site-packages\\sklearn\\discriminant_analysis.py:466: ChangedBehaviorWarning: n_components cannot be larger than min(n_features, n_classes - 1). Using min(n_features, n_classes - 1) = min(210, 2 - 1) = 1 components.\n",
      "  ChangedBehaviorWarning)\n",
      "C:\\Users\\taq19\\Anaconda3\\lib\\site-packages\\sklearn\\discriminant_analysis.py:472: FutureWarning: In version 0.23, setting n_components > min(n_features, n_classes - 1) will raise a ValueError. You should set n_components to None (default), or a value smaller or equal to min(n_features, n_classes - 1).\n",
      "  warnings.warn(future_msg, FutureWarning)\n"
     ]
    },
    {
     "data": {
      "text/plain": [
       "GridSearchCV(cv=5, error_score='raise-deprecating',\n",
       "             estimator=LinearDiscriminantAnalysis(n_components=None,\n",
       "                                                  priors=None, shrinkage=None,\n",
       "                                                  solver='svd',\n",
       "                                                  store_covariance=False,\n",
       "                                                  tol=0.0001),\n",
       "             iid='warn', n_jobs=-1,\n",
       "             param_grid={'n_components': [5, 10, 15, 20, 25, 30, 35, None],\n",
       "                         'solver': ['svd', 'lsqr', 'eigen']},\n",
       "             pre_dispatch='2*n_jobs', refit=True, return_train_score=False,\n",
       "             scoring=None, verbose=10)"
      ]
     },
     "execution_count": 128,
     "metadata": {},
     "output_type": "execute_result"
    }
   ],
   "source": [
    "lda = LDA()\n",
    "cv = GridSearchCV(lda, param_grid=params, n_jobs=-1, verbose=10, cv=5)\n",
    "cv.fit(X_train1, Y_train)"
   ]
  },
  {
   "cell_type": "code",
   "execution_count": 129,
   "metadata": {
    "scrolled": true
   },
   "outputs": [
    {
     "name": "stdout",
     "output_type": "stream",
     "text": [
      "best params:  {'n_components': None, 'solver': 'svd'}\n"
     ]
    },
    {
     "data": {
      "text/html": [
       "<div>\n",
       "<style scoped>\n",
       "    .dataframe tbody tr th:only-of-type {\n",
       "        vertical-align: middle;\n",
       "    }\n",
       "\n",
       "    .dataframe tbody tr th {\n",
       "        vertical-align: top;\n",
       "    }\n",
       "\n",
       "    .dataframe thead th {\n",
       "        text-align: right;\n",
       "    }\n",
       "</style>\n",
       "<table border=\"1\" class=\"dataframe\">\n",
       "  <thead>\n",
       "    <tr style=\"text-align: right;\">\n",
       "      <th></th>\n",
       "      <th>mean_fit_time</th>\n",
       "      <th>std_fit_time</th>\n",
       "      <th>mean_score_time</th>\n",
       "      <th>std_score_time</th>\n",
       "      <th>param_n_components</th>\n",
       "      <th>param_solver</th>\n",
       "      <th>params</th>\n",
       "      <th>split0_test_score</th>\n",
       "      <th>split1_test_score</th>\n",
       "      <th>split2_test_score</th>\n",
       "      <th>split3_test_score</th>\n",
       "      <th>split4_test_score</th>\n",
       "      <th>mean_test_score</th>\n",
       "      <th>std_test_score</th>\n",
       "      <th>rank_test_score</th>\n",
       "    </tr>\n",
       "  </thead>\n",
       "  <tbody>\n",
       "    <tr>\n",
       "      <td>0</td>\n",
       "      <td>0.707655</td>\n",
       "      <td>0.030506</td>\n",
       "      <td>0.002096</td>\n",
       "      <td>0.000371</td>\n",
       "      <td>5</td>\n",
       "      <td>svd</td>\n",
       "      <td>{'n_components': 5, 'solver': 'svd'}</td>\n",
       "      <td>0.671875</td>\n",
       "      <td>0.492647</td>\n",
       "      <td>0.539522</td>\n",
       "      <td>0.684743</td>\n",
       "      <td>0.591912</td>\n",
       "      <td>0.59614</td>\n",
       "      <td>0.07419</td>\n",
       "      <td>1</td>\n",
       "    </tr>\n",
       "    <tr>\n",
       "      <td>21</td>\n",
       "      <td>0.665033</td>\n",
       "      <td>0.043530</td>\n",
       "      <td>0.002087</td>\n",
       "      <td>0.000811</td>\n",
       "      <td>None</td>\n",
       "      <td>svd</td>\n",
       "      <td>{'n_components': None, 'solver': 'svd'}</td>\n",
       "      <td>0.671875</td>\n",
       "      <td>0.492647</td>\n",
       "      <td>0.539522</td>\n",
       "      <td>0.684743</td>\n",
       "      <td>0.591912</td>\n",
       "      <td>0.59614</td>\n",
       "      <td>0.07419</td>\n",
       "      <td>1</td>\n",
       "    </tr>\n",
       "    <tr>\n",
       "      <td>20</td>\n",
       "      <td>0.497126</td>\n",
       "      <td>0.033817</td>\n",
       "      <td>0.003093</td>\n",
       "      <td>0.002072</td>\n",
       "      <td>35</td>\n",
       "      <td>eigen</td>\n",
       "      <td>{'n_components': 35, 'solver': 'eigen'}</td>\n",
       "      <td>0.671875</td>\n",
       "      <td>0.492647</td>\n",
       "      <td>0.539522</td>\n",
       "      <td>0.684743</td>\n",
       "      <td>0.591912</td>\n",
       "      <td>0.59614</td>\n",
       "      <td>0.07419</td>\n",
       "      <td>1</td>\n",
       "    </tr>\n",
       "    <tr>\n",
       "      <td>19</td>\n",
       "      <td>0.466888</td>\n",
       "      <td>0.048365</td>\n",
       "      <td>0.002900</td>\n",
       "      <td>0.001337</td>\n",
       "      <td>35</td>\n",
       "      <td>lsqr</td>\n",
       "      <td>{'n_components': 35, 'solver': 'lsqr'}</td>\n",
       "      <td>0.671875</td>\n",
       "      <td>0.492647</td>\n",
       "      <td>0.539522</td>\n",
       "      <td>0.684743</td>\n",
       "      <td>0.591912</td>\n",
       "      <td>0.59614</td>\n",
       "      <td>0.07419</td>\n",
       "      <td>1</td>\n",
       "    </tr>\n",
       "    <tr>\n",
       "      <td>18</td>\n",
       "      <td>0.681029</td>\n",
       "      <td>0.027579</td>\n",
       "      <td>0.002445</td>\n",
       "      <td>0.000831</td>\n",
       "      <td>35</td>\n",
       "      <td>svd</td>\n",
       "      <td>{'n_components': 35, 'solver': 'svd'}</td>\n",
       "      <td>0.671875</td>\n",
       "      <td>0.492647</td>\n",
       "      <td>0.539522</td>\n",
       "      <td>0.684743</td>\n",
       "      <td>0.591912</td>\n",
       "      <td>0.59614</td>\n",
       "      <td>0.07419</td>\n",
       "      <td>1</td>\n",
       "    </tr>\n",
       "    <tr>\n",
       "      <td>17</td>\n",
       "      <td>0.476009</td>\n",
       "      <td>0.022399</td>\n",
       "      <td>0.002190</td>\n",
       "      <td>0.000730</td>\n",
       "      <td>30</td>\n",
       "      <td>eigen</td>\n",
       "      <td>{'n_components': 30, 'solver': 'eigen'}</td>\n",
       "      <td>0.671875</td>\n",
       "      <td>0.492647</td>\n",
       "      <td>0.539522</td>\n",
       "      <td>0.684743</td>\n",
       "      <td>0.591912</td>\n",
       "      <td>0.59614</td>\n",
       "      <td>0.07419</td>\n",
       "      <td>1</td>\n",
       "    </tr>\n",
       "    <tr>\n",
       "      <td>16</td>\n",
       "      <td>0.485497</td>\n",
       "      <td>0.017946</td>\n",
       "      <td>0.002037</td>\n",
       "      <td>0.000597</td>\n",
       "      <td>30</td>\n",
       "      <td>lsqr</td>\n",
       "      <td>{'n_components': 30, 'solver': 'lsqr'}</td>\n",
       "      <td>0.671875</td>\n",
       "      <td>0.492647</td>\n",
       "      <td>0.539522</td>\n",
       "      <td>0.684743</td>\n",
       "      <td>0.591912</td>\n",
       "      <td>0.59614</td>\n",
       "      <td>0.07419</td>\n",
       "      <td>1</td>\n",
       "    </tr>\n",
       "    <tr>\n",
       "      <td>15</td>\n",
       "      <td>0.674700</td>\n",
       "      <td>0.037600</td>\n",
       "      <td>0.002172</td>\n",
       "      <td>0.000416</td>\n",
       "      <td>30</td>\n",
       "      <td>svd</td>\n",
       "      <td>{'n_components': 30, 'solver': 'svd'}</td>\n",
       "      <td>0.671875</td>\n",
       "      <td>0.492647</td>\n",
       "      <td>0.539522</td>\n",
       "      <td>0.684743</td>\n",
       "      <td>0.591912</td>\n",
       "      <td>0.59614</td>\n",
       "      <td>0.07419</td>\n",
       "      <td>1</td>\n",
       "    </tr>\n",
       "    <tr>\n",
       "      <td>14</td>\n",
       "      <td>0.479337</td>\n",
       "      <td>0.025784</td>\n",
       "      <td>0.001441</td>\n",
       "      <td>0.000494</td>\n",
       "      <td>25</td>\n",
       "      <td>eigen</td>\n",
       "      <td>{'n_components': 25, 'solver': 'eigen'}</td>\n",
       "      <td>0.671875</td>\n",
       "      <td>0.492647</td>\n",
       "      <td>0.539522</td>\n",
       "      <td>0.684743</td>\n",
       "      <td>0.591912</td>\n",
       "      <td>0.59614</td>\n",
       "      <td>0.07419</td>\n",
       "      <td>1</td>\n",
       "    </tr>\n",
       "    <tr>\n",
       "      <td>13</td>\n",
       "      <td>0.472009</td>\n",
       "      <td>0.042937</td>\n",
       "      <td>0.001414</td>\n",
       "      <td>0.000474</td>\n",
       "      <td>25</td>\n",
       "      <td>lsqr</td>\n",
       "      <td>{'n_components': 25, 'solver': 'lsqr'}</td>\n",
       "      <td>0.671875</td>\n",
       "      <td>0.492647</td>\n",
       "      <td>0.539522</td>\n",
       "      <td>0.684743</td>\n",
       "      <td>0.591912</td>\n",
       "      <td>0.59614</td>\n",
       "      <td>0.07419</td>\n",
       "      <td>1</td>\n",
       "    </tr>\n",
       "    <tr>\n",
       "      <td>12</td>\n",
       "      <td>0.704185</td>\n",
       "      <td>0.043688</td>\n",
       "      <td>0.002360</td>\n",
       "      <td>0.000818</td>\n",
       "      <td>25</td>\n",
       "      <td>svd</td>\n",
       "      <td>{'n_components': 25, 'solver': 'svd'}</td>\n",
       "      <td>0.671875</td>\n",
       "      <td>0.492647</td>\n",
       "      <td>0.539522</td>\n",
       "      <td>0.684743</td>\n",
       "      <td>0.591912</td>\n",
       "      <td>0.59614</td>\n",
       "      <td>0.07419</td>\n",
       "      <td>1</td>\n",
       "    </tr>\n",
       "    <tr>\n",
       "      <td>11</td>\n",
       "      <td>0.481279</td>\n",
       "      <td>0.031891</td>\n",
       "      <td>0.002395</td>\n",
       "      <td>0.000798</td>\n",
       "      <td>20</td>\n",
       "      <td>eigen</td>\n",
       "      <td>{'n_components': 20, 'solver': 'eigen'}</td>\n",
       "      <td>0.671875</td>\n",
       "      <td>0.492647</td>\n",
       "      <td>0.539522</td>\n",
       "      <td>0.684743</td>\n",
       "      <td>0.591912</td>\n",
       "      <td>0.59614</td>\n",
       "      <td>0.07419</td>\n",
       "      <td>1</td>\n",
       "    </tr>\n",
       "    <tr>\n",
       "      <td>10</td>\n",
       "      <td>0.473502</td>\n",
       "      <td>0.026999</td>\n",
       "      <td>0.002229</td>\n",
       "      <td>0.000386</td>\n",
       "      <td>20</td>\n",
       "      <td>lsqr</td>\n",
       "      <td>{'n_components': 20, 'solver': 'lsqr'}</td>\n",
       "      <td>0.671875</td>\n",
       "      <td>0.492647</td>\n",
       "      <td>0.539522</td>\n",
       "      <td>0.684743</td>\n",
       "      <td>0.591912</td>\n",
       "      <td>0.59614</td>\n",
       "      <td>0.07419</td>\n",
       "      <td>1</td>\n",
       "    </tr>\n",
       "    <tr>\n",
       "      <td>9</td>\n",
       "      <td>0.702607</td>\n",
       "      <td>0.047075</td>\n",
       "      <td>0.002222</td>\n",
       "      <td>0.000388</td>\n",
       "      <td>20</td>\n",
       "      <td>svd</td>\n",
       "      <td>{'n_components': 20, 'solver': 'svd'}</td>\n",
       "      <td>0.671875</td>\n",
       "      <td>0.492647</td>\n",
       "      <td>0.539522</td>\n",
       "      <td>0.684743</td>\n",
       "      <td>0.591912</td>\n",
       "      <td>0.59614</td>\n",
       "      <td>0.07419</td>\n",
       "      <td>1</td>\n",
       "    </tr>\n",
       "    <tr>\n",
       "      <td>8</td>\n",
       "      <td>0.484335</td>\n",
       "      <td>0.031252</td>\n",
       "      <td>0.002333</td>\n",
       "      <td>0.000295</td>\n",
       "      <td>15</td>\n",
       "      <td>eigen</td>\n",
       "      <td>{'n_components': 15, 'solver': 'eigen'}</td>\n",
       "      <td>0.671875</td>\n",
       "      <td>0.492647</td>\n",
       "      <td>0.539522</td>\n",
       "      <td>0.684743</td>\n",
       "      <td>0.591912</td>\n",
       "      <td>0.59614</td>\n",
       "      <td>0.07419</td>\n",
       "      <td>1</td>\n",
       "    </tr>\n",
       "    <tr>\n",
       "      <td>7</td>\n",
       "      <td>0.469153</td>\n",
       "      <td>0.039210</td>\n",
       "      <td>0.002731</td>\n",
       "      <td>0.001179</td>\n",
       "      <td>15</td>\n",
       "      <td>lsqr</td>\n",
       "      <td>{'n_components': 15, 'solver': 'lsqr'}</td>\n",
       "      <td>0.671875</td>\n",
       "      <td>0.492647</td>\n",
       "      <td>0.539522</td>\n",
       "      <td>0.684743</td>\n",
       "      <td>0.591912</td>\n",
       "      <td>0.59614</td>\n",
       "      <td>0.07419</td>\n",
       "      <td>1</td>\n",
       "    </tr>\n",
       "    <tr>\n",
       "      <td>6</td>\n",
       "      <td>0.717461</td>\n",
       "      <td>0.057396</td>\n",
       "      <td>0.001785</td>\n",
       "      <td>0.000382</td>\n",
       "      <td>15</td>\n",
       "      <td>svd</td>\n",
       "      <td>{'n_components': 15, 'solver': 'svd'}</td>\n",
       "      <td>0.671875</td>\n",
       "      <td>0.492647</td>\n",
       "      <td>0.539522</td>\n",
       "      <td>0.684743</td>\n",
       "      <td>0.591912</td>\n",
       "      <td>0.59614</td>\n",
       "      <td>0.07419</td>\n",
       "      <td>1</td>\n",
       "    </tr>\n",
       "    <tr>\n",
       "      <td>5</td>\n",
       "      <td>0.490524</td>\n",
       "      <td>0.033454</td>\n",
       "      <td>0.001807</td>\n",
       "      <td>0.000227</td>\n",
       "      <td>10</td>\n",
       "      <td>eigen</td>\n",
       "      <td>{'n_components': 10, 'solver': 'eigen'}</td>\n",
       "      <td>0.671875</td>\n",
       "      <td>0.492647</td>\n",
       "      <td>0.539522</td>\n",
       "      <td>0.684743</td>\n",
       "      <td>0.591912</td>\n",
       "      <td>0.59614</td>\n",
       "      <td>0.07419</td>\n",
       "      <td>1</td>\n",
       "    </tr>\n",
       "    <tr>\n",
       "      <td>4</td>\n",
       "      <td>0.476445</td>\n",
       "      <td>0.019422</td>\n",
       "      <td>0.001787</td>\n",
       "      <td>0.000395</td>\n",
       "      <td>10</td>\n",
       "      <td>lsqr</td>\n",
       "      <td>{'n_components': 10, 'solver': 'lsqr'}</td>\n",
       "      <td>0.671875</td>\n",
       "      <td>0.492647</td>\n",
       "      <td>0.539522</td>\n",
       "      <td>0.684743</td>\n",
       "      <td>0.591912</td>\n",
       "      <td>0.59614</td>\n",
       "      <td>0.07419</td>\n",
       "      <td>1</td>\n",
       "    </tr>\n",
       "    <tr>\n",
       "      <td>3</td>\n",
       "      <td>0.712570</td>\n",
       "      <td>0.055897</td>\n",
       "      <td>0.002271</td>\n",
       "      <td>0.001100</td>\n",
       "      <td>10</td>\n",
       "      <td>svd</td>\n",
       "      <td>{'n_components': 10, 'solver': 'svd'}</td>\n",
       "      <td>0.671875</td>\n",
       "      <td>0.492647</td>\n",
       "      <td>0.539522</td>\n",
       "      <td>0.684743</td>\n",
       "      <td>0.591912</td>\n",
       "      <td>0.59614</td>\n",
       "      <td>0.07419</td>\n",
       "      <td>1</td>\n",
       "    </tr>\n",
       "    <tr>\n",
       "      <td>2</td>\n",
       "      <td>0.494663</td>\n",
       "      <td>0.055683</td>\n",
       "      <td>0.002682</td>\n",
       "      <td>0.000778</td>\n",
       "      <td>5</td>\n",
       "      <td>eigen</td>\n",
       "      <td>{'n_components': 5, 'solver': 'eigen'}</td>\n",
       "      <td>0.671875</td>\n",
       "      <td>0.492647</td>\n",
       "      <td>0.539522</td>\n",
       "      <td>0.684743</td>\n",
       "      <td>0.591912</td>\n",
       "      <td>0.59614</td>\n",
       "      <td>0.07419</td>\n",
       "      <td>1</td>\n",
       "    </tr>\n",
       "    <tr>\n",
       "      <td>1</td>\n",
       "      <td>0.458442</td>\n",
       "      <td>0.020510</td>\n",
       "      <td>0.001764</td>\n",
       "      <td>0.000557</td>\n",
       "      <td>5</td>\n",
       "      <td>lsqr</td>\n",
       "      <td>{'n_components': 5, 'solver': 'lsqr'}</td>\n",
       "      <td>0.671875</td>\n",
       "      <td>0.492647</td>\n",
       "      <td>0.539522</td>\n",
       "      <td>0.684743</td>\n",
       "      <td>0.591912</td>\n",
       "      <td>0.59614</td>\n",
       "      <td>0.07419</td>\n",
       "      <td>1</td>\n",
       "    </tr>\n",
       "    <tr>\n",
       "      <td>22</td>\n",
       "      <td>0.454518</td>\n",
       "      <td>0.045785</td>\n",
       "      <td>0.002074</td>\n",
       "      <td>0.000131</td>\n",
       "      <td>None</td>\n",
       "      <td>lsqr</td>\n",
       "      <td>{'n_components': None, 'solver': 'lsqr'}</td>\n",
       "      <td>0.671875</td>\n",
       "      <td>0.492647</td>\n",
       "      <td>0.539522</td>\n",
       "      <td>0.684743</td>\n",
       "      <td>0.591912</td>\n",
       "      <td>0.59614</td>\n",
       "      <td>0.07419</td>\n",
       "      <td>1</td>\n",
       "    </tr>\n",
       "    <tr>\n",
       "      <td>23</td>\n",
       "      <td>0.410538</td>\n",
       "      <td>0.017511</td>\n",
       "      <td>0.001987</td>\n",
       "      <td>0.000583</td>\n",
       "      <td>None</td>\n",
       "      <td>eigen</td>\n",
       "      <td>{'n_components': None, 'solver': 'eigen'}</td>\n",
       "      <td>0.671875</td>\n",
       "      <td>0.492647</td>\n",
       "      <td>0.539522</td>\n",
       "      <td>0.684743</td>\n",
       "      <td>0.591912</td>\n",
       "      <td>0.59614</td>\n",
       "      <td>0.07419</td>\n",
       "      <td>1</td>\n",
       "    </tr>\n",
       "  </tbody>\n",
       "</table>\n",
       "</div>"
      ],
      "text/plain": [
       "    mean_fit_time  std_fit_time  mean_score_time  std_score_time  \\\n",
       "0        0.707655      0.030506         0.002096        0.000371   \n",
       "21       0.665033      0.043530         0.002087        0.000811   \n",
       "20       0.497126      0.033817         0.003093        0.002072   \n",
       "19       0.466888      0.048365         0.002900        0.001337   \n",
       "18       0.681029      0.027579         0.002445        0.000831   \n",
       "17       0.476009      0.022399         0.002190        0.000730   \n",
       "16       0.485497      0.017946         0.002037        0.000597   \n",
       "15       0.674700      0.037600         0.002172        0.000416   \n",
       "14       0.479337      0.025784         0.001441        0.000494   \n",
       "13       0.472009      0.042937         0.001414        0.000474   \n",
       "12       0.704185      0.043688         0.002360        0.000818   \n",
       "11       0.481279      0.031891         0.002395        0.000798   \n",
       "10       0.473502      0.026999         0.002229        0.000386   \n",
       "9        0.702607      0.047075         0.002222        0.000388   \n",
       "8        0.484335      0.031252         0.002333        0.000295   \n",
       "7        0.469153      0.039210         0.002731        0.001179   \n",
       "6        0.717461      0.057396         0.001785        0.000382   \n",
       "5        0.490524      0.033454         0.001807        0.000227   \n",
       "4        0.476445      0.019422         0.001787        0.000395   \n",
       "3        0.712570      0.055897         0.002271        0.001100   \n",
       "2        0.494663      0.055683         0.002682        0.000778   \n",
       "1        0.458442      0.020510         0.001764        0.000557   \n",
       "22       0.454518      0.045785         0.002074        0.000131   \n",
       "23       0.410538      0.017511         0.001987        0.000583   \n",
       "\n",
       "   param_n_components param_solver                                     params  \\\n",
       "0                   5          svd       {'n_components': 5, 'solver': 'svd'}   \n",
       "21               None          svd    {'n_components': None, 'solver': 'svd'}   \n",
       "20                 35        eigen    {'n_components': 35, 'solver': 'eigen'}   \n",
       "19                 35         lsqr     {'n_components': 35, 'solver': 'lsqr'}   \n",
       "18                 35          svd      {'n_components': 35, 'solver': 'svd'}   \n",
       "17                 30        eigen    {'n_components': 30, 'solver': 'eigen'}   \n",
       "16                 30         lsqr     {'n_components': 30, 'solver': 'lsqr'}   \n",
       "15                 30          svd      {'n_components': 30, 'solver': 'svd'}   \n",
       "14                 25        eigen    {'n_components': 25, 'solver': 'eigen'}   \n",
       "13                 25         lsqr     {'n_components': 25, 'solver': 'lsqr'}   \n",
       "12                 25          svd      {'n_components': 25, 'solver': 'svd'}   \n",
       "11                 20        eigen    {'n_components': 20, 'solver': 'eigen'}   \n",
       "10                 20         lsqr     {'n_components': 20, 'solver': 'lsqr'}   \n",
       "9                  20          svd      {'n_components': 20, 'solver': 'svd'}   \n",
       "8                  15        eigen    {'n_components': 15, 'solver': 'eigen'}   \n",
       "7                  15         lsqr     {'n_components': 15, 'solver': 'lsqr'}   \n",
       "6                  15          svd      {'n_components': 15, 'solver': 'svd'}   \n",
       "5                  10        eigen    {'n_components': 10, 'solver': 'eigen'}   \n",
       "4                  10         lsqr     {'n_components': 10, 'solver': 'lsqr'}   \n",
       "3                  10          svd      {'n_components': 10, 'solver': 'svd'}   \n",
       "2                   5        eigen     {'n_components': 5, 'solver': 'eigen'}   \n",
       "1                   5         lsqr      {'n_components': 5, 'solver': 'lsqr'}   \n",
       "22               None         lsqr   {'n_components': None, 'solver': 'lsqr'}   \n",
       "23               None        eigen  {'n_components': None, 'solver': 'eigen'}   \n",
       "\n",
       "    split0_test_score  split1_test_score  split2_test_score  \\\n",
       "0            0.671875           0.492647           0.539522   \n",
       "21           0.671875           0.492647           0.539522   \n",
       "20           0.671875           0.492647           0.539522   \n",
       "19           0.671875           0.492647           0.539522   \n",
       "18           0.671875           0.492647           0.539522   \n",
       "17           0.671875           0.492647           0.539522   \n",
       "16           0.671875           0.492647           0.539522   \n",
       "15           0.671875           0.492647           0.539522   \n",
       "14           0.671875           0.492647           0.539522   \n",
       "13           0.671875           0.492647           0.539522   \n",
       "12           0.671875           0.492647           0.539522   \n",
       "11           0.671875           0.492647           0.539522   \n",
       "10           0.671875           0.492647           0.539522   \n",
       "9            0.671875           0.492647           0.539522   \n",
       "8            0.671875           0.492647           0.539522   \n",
       "7            0.671875           0.492647           0.539522   \n",
       "6            0.671875           0.492647           0.539522   \n",
       "5            0.671875           0.492647           0.539522   \n",
       "4            0.671875           0.492647           0.539522   \n",
       "3            0.671875           0.492647           0.539522   \n",
       "2            0.671875           0.492647           0.539522   \n",
       "1            0.671875           0.492647           0.539522   \n",
       "22           0.671875           0.492647           0.539522   \n",
       "23           0.671875           0.492647           0.539522   \n",
       "\n",
       "    split3_test_score  split4_test_score  mean_test_score  std_test_score  \\\n",
       "0            0.684743           0.591912          0.59614         0.07419   \n",
       "21           0.684743           0.591912          0.59614         0.07419   \n",
       "20           0.684743           0.591912          0.59614         0.07419   \n",
       "19           0.684743           0.591912          0.59614         0.07419   \n",
       "18           0.684743           0.591912          0.59614         0.07419   \n",
       "17           0.684743           0.591912          0.59614         0.07419   \n",
       "16           0.684743           0.591912          0.59614         0.07419   \n",
       "15           0.684743           0.591912          0.59614         0.07419   \n",
       "14           0.684743           0.591912          0.59614         0.07419   \n",
       "13           0.684743           0.591912          0.59614         0.07419   \n",
       "12           0.684743           0.591912          0.59614         0.07419   \n",
       "11           0.684743           0.591912          0.59614         0.07419   \n",
       "10           0.684743           0.591912          0.59614         0.07419   \n",
       "9            0.684743           0.591912          0.59614         0.07419   \n",
       "8            0.684743           0.591912          0.59614         0.07419   \n",
       "7            0.684743           0.591912          0.59614         0.07419   \n",
       "6            0.684743           0.591912          0.59614         0.07419   \n",
       "5            0.684743           0.591912          0.59614         0.07419   \n",
       "4            0.684743           0.591912          0.59614         0.07419   \n",
       "3            0.684743           0.591912          0.59614         0.07419   \n",
       "2            0.684743           0.591912          0.59614         0.07419   \n",
       "1            0.684743           0.591912          0.59614         0.07419   \n",
       "22           0.684743           0.591912          0.59614         0.07419   \n",
       "23           0.684743           0.591912          0.59614         0.07419   \n",
       "\n",
       "    rank_test_score  \n",
       "0                 1  \n",
       "21                1  \n",
       "20                1  \n",
       "19                1  \n",
       "18                1  \n",
       "17                1  \n",
       "16                1  \n",
       "15                1  \n",
       "14                1  \n",
       "13                1  \n",
       "12                1  \n",
       "11                1  \n",
       "10                1  \n",
       "9                 1  \n",
       "8                 1  \n",
       "7                 1  \n",
       "6                 1  \n",
       "5                 1  \n",
       "4                 1  \n",
       "3                 1  \n",
       "2                 1  \n",
       "1                 1  \n",
       "22                1  \n",
       "23                1  "
      ]
     },
     "execution_count": 129,
     "metadata": {},
     "output_type": "execute_result"
    }
   ],
   "source": [
    "cv_results = pd.DataFrame(cv.cv_results_)\n",
    "print(\"best params: \", cv_results.sort_values('rank_test_score').reset_index()['params'][1])\n",
    "cv_results.sort_values('rank_test_score')"
   ]
  },
  {
   "cell_type": "code",
   "execution_count": null,
   "metadata": {},
   "outputs": [],
   "source": [
    "{'n_components': None, 'solver': 'svd'}"
   ]
  },
  {
   "cell_type": "code",
   "execution_count": 99,
   "metadata": {},
   "outputs": [
    {
     "data": {
      "text/plain": [
       "LinearDiscriminantAnalysis(n_components=None, priors=None, shrinkage=None,\n",
       "                           solver='svd', store_covariance=False, tol=0.0001)"
      ]
     },
     "execution_count": 99,
     "metadata": {},
     "output_type": "execute_result"
    }
   ],
   "source": [
    "lda = LDA(solver = 'svd', n_components=None)\n",
    "lda.fit(train_x, train_y)"
   ]
  },
  {
   "cell_type": "code",
   "execution_count": 102,
   "metadata": {},
   "outputs": [],
   "source": [
    "probs = lda.predict_proba(test_x)[:,1]"
   ]
  },
  {
   "cell_type": "code",
   "execution_count": 104,
   "metadata": {},
   "outputs": [
    {
     "name": "stdout",
     "output_type": "stream",
     "text": [
      "max(tpr - fpr) w/ th =  0.6136490062137726\n"
     ]
    },
    {
     "data": {
      "image/png": "[encoded data removed]",
      "text/plain": [
       "<Figure size 432x288 with 1 Axes>"
      ]
     },
     "metadata": {
      "needs_background": "light"
     },
     "output_type": "display_data"
    }
   ],
   "source": [
    "plot_roc(test_y, probs, 'LDA')"
   ]
  },
  {
   "cell_type": "code",
   "execution_count": 332,
   "metadata": {},
   "outputs": [
    {
     "data": {
      "text/plain": [
       "LinearDiscriminantAnalysis(n_components=None, priors=None, shrinkage=None,\n",
       "                           solver='svd', store_covariance=False, tol=0.0001)"
      ]
     },
     "execution_count": 332,
     "metadata": {},
     "output_type": "execute_result"
    }
   ],
   "source": [
    "lda = LDA(solver = 'svd', n_components=None)\n",
    "lda.fit(X_train, Y_train)"
   ]
  },
  {
   "cell_type": "code",
   "execution_count": 333,
   "metadata": {},
   "outputs": [],
   "source": [
    "probs = lda.predict_proba(X_test)[:,1]"
   ]
  },
  {
   "cell_type": "code",
   "execution_count": 334,
   "metadata": {},
   "outputs": [
    {
     "name": "stdout",
     "output_type": "stream",
     "text": [
      "max(tpr - fpr) w/ th =  0.0004976943651162147\n"
     ]
    },
    {
     "data": {
      "image/png": "[encoded data removed]",
      "text/plain": [
       "<Figure size 432x288 with 1 Axes>"
      ]
     },
     "metadata": {
      "needs_background": "light"
     },
     "output_type": "display_data"
    }
   ],
   "source": [
    "plot_roc(Y_test, probs[:-1], 'LDA')"
   ]
  },
  {
   "cell_type": "code",
   "execution_count": 336,
   "metadata": {},
   "outputs": [
    {
     "data": {
      "text/plain": [
       "array([0.0004257 , 0.00132605, 0.00189334, ..., 0.00014405, 0.0010585 ,\n",
       "       0.00124913])"
      ]
     },
     "execution_count": 336,
     "metadata": {},
     "output_type": "execute_result"
    }
   ],
   "source": [
    "probs"
   ]
  },
  {
   "cell_type": "code",
   "execution_count": null,
   "metadata": {},
   "outputs": [],
   "source": [
    "submission.Predicition = probs\n",
    "submission.to_csv('submission.csv', index=None)"
   ]
  },
  {
   "cell_type": "code",
   "execution_count": 338,
   "metadata": {},
   "outputs": [],
   "source": [
    "from sklearn.svm import LinearSVC as LSVC\n",
    "from sklearn.calibration import CalibratedClassifierCV"
   ]
  },
  {
   "cell_type": "code",
   "execution_count": 339,
   "metadata": {},
   "outputs": [
    {
     "ename": "NameError",
     "evalue": "name 'x_train1' is not defined",
     "output_type": "error",
     "traceback": [
      "\u001b[1;31m---------------------------------------------------------------------------\u001b[0m",
      "\u001b[1;31mNameError\u001b[0m                                 Traceback (most recent call last)",
      "\u001b[1;32m<ipython-input-339-1efa0a7987f1>\u001b[0m in \u001b[0;36m<module>\u001b[1;34m\u001b[0m\n\u001b[0;32m      2\u001b[0m \u001b[0msvc\u001b[0m \u001b[1;33m=\u001b[0m \u001b[0mLSVC\u001b[0m\u001b[1;33m(\u001b[0m\u001b[0mC\u001b[0m \u001b[1;33m=\u001b[0m \u001b[1;36m3\u001b[0m\u001b[1;33m,\u001b[0m \u001b[0mloss\u001b[0m \u001b[1;33m=\u001b[0m \u001b[1;34m'hinge'\u001b[0m\u001b[1;33m,\u001b[0m \u001b[0mmax_iter\u001b[0m\u001b[1;33m=\u001b[0m\u001b[1;36m10000\u001b[0m\u001b[1;33m)\u001b[0m\u001b[1;33m\u001b[0m\u001b[1;33m\u001b[0m\u001b[0m\n\u001b[0;32m      3\u001b[0m \u001b[0msvc\u001b[0m \u001b[1;33m=\u001b[0m \u001b[0mCalibratedClassifierCV\u001b[0m\u001b[1;33m(\u001b[0m\u001b[0msvc\u001b[0m\u001b[1;33m)\u001b[0m\u001b[1;33m\u001b[0m\u001b[1;33m\u001b[0m\u001b[0m\n\u001b[1;32m----> 4\u001b[1;33m \u001b[0msvc\u001b[0m\u001b[1;33m.\u001b[0m\u001b[0mfit\u001b[0m\u001b[1;33m(\u001b[0m\u001b[0mx_train1\u001b[0m\u001b[1;33m,\u001b[0m\u001b[0my_train1\u001b[0m\u001b[1;33m)\u001b[0m\u001b[1;33m\u001b[0m\u001b[1;33m\u001b[0m\u001b[0m\n\u001b[0m\u001b[0;32m      5\u001b[0m \u001b[0mnow\u001b[0m \u001b[1;33m=\u001b[0m \u001b[0mtime\u001b[0m\u001b[1;33m.\u001b[0m\u001b[0mtime\u001b[0m\u001b[1;33m(\u001b[0m\u001b[1;33m)\u001b[0m\u001b[1;33m\u001b[0m\u001b[1;33m\u001b[0m\u001b[0m\n\u001b[0;32m      6\u001b[0m \u001b[0mprint\u001b[0m\u001b[1;33m(\u001b[0m\u001b[1;34m'Elapsed Time: '\u001b[0m \u001b[1;33m+\u001b[0m \u001b[0mstr\u001b[0m\u001b[1;33m(\u001b[0m\u001b[0mint\u001b[0m\u001b[1;33m(\u001b[0m\u001b[0mnow\u001b[0m\u001b[1;33m-\u001b[0m\u001b[0mstart\u001b[0m\u001b[1;33m)\u001b[0m\u001b[1;33m)\u001b[0m \u001b[1;33m+\u001b[0m \u001b[1;34m' seconds'\u001b[0m\u001b[1;33m)\u001b[0m\u001b[1;33m\u001b[0m\u001b[1;33m\u001b[0m\u001b[0m\n",
      "\u001b[1;31mNameError\u001b[0m: name 'x_train1' is not defined"
     ]
    }
   ],
   "source": [
    "start = time.time()\n",
    "svc = LSVC(C = 3, loss = 'hinge', max_iter=10000)\n",
    "svc = CalibratedClassifierCV(svc)\n",
    "svc.fit(x_train1,y_train1)\n",
    "now = time.time()\n",
    "print('Elapsed Time: ' + str(int(now-start)) + ' seconds')\n",
    "\n",
    "probs_svm = svc.predict_proba(x_test1)[:,1]"
   ]
  },
  {
   "cell_type": "code",
   "execution_count": 79,
   "metadata": {},
   "outputs": [
    {
     "name": "stdout",
     "output_type": "stream",
     "text": [
      "max(tpr - fpr) w/ th =  0.6465348176793951\n"
     ]
    },
    {
     "data": {
      "image/png": "[encoded data removed]",
      "text/plain": [
       "<Figure size 432x288 with 1 Axes>"
      ]
     },
     "metadata": {
      "needs_background": "light"
     },
     "output_type": "display_data"
    }
   ],
   "source": [
    "plot_roc(y_test1, probs_svm, 'LSVM')"
   ]
  },
  {
   "cell_type": "code",
   "execution_count": 340,
   "metadata": {},
   "outputs": [
    {
     "name": "stderr",
     "output_type": "stream",
     "text": [
      "C:\\Users\\taq19\\Anaconda3\\lib\\site-packages\\sklearn\\svm\\base.py:929: ConvergenceWarning: Liblinear failed to converge, increase the number of iterations.\n",
      "  \"the number of iterations.\", ConvergenceWarning)\n",
      "C:\\Users\\taq19\\Anaconda3\\lib\\site-packages\\sklearn\\svm\\base.py:929: ConvergenceWarning: Liblinear failed to converge, increase the number of iterations.\n",
      "  \"the number of iterations.\", ConvergenceWarning)\n",
      "C:\\Users\\taq19\\Anaconda3\\lib\\site-packages\\sklearn\\svm\\base.py:929: ConvergenceWarning: Liblinear failed to converge, increase the number of iterations.\n",
      "  \"the number of iterations.\", ConvergenceWarning)\n",
      "C:\\Users\\taq19\\Anaconda3\\lib\\site-packages\\sklearn\\svm\\base.py:929: ConvergenceWarning: Liblinear failed to converge, increase the number of iterations.\n",
      "  \"the number of iterations.\", ConvergenceWarning)\n"
     ]
    },
    {
     "name": "stdout",
     "output_type": "stream",
     "text": [
      "Elapsed Time: 27 seconds\n"
     ]
    },
    {
     "name": "stderr",
     "output_type": "stream",
     "text": [
      "C:\\Users\\taq19\\Anaconda3\\lib\\site-packages\\sklearn\\svm\\base.py:929: ConvergenceWarning: Liblinear failed to converge, increase the number of iterations.\n",
      "  \"the number of iterations.\", ConvergenceWarning)\n"
     ]
    }
   ],
   "source": [
    "start = time.time()\n",
    "svc = LSVC(C = 3, loss = 'hinge', max_iter=10000)\n",
    "svc = CalibratedClassifierCV(svc, cv = 5)\n",
    "svc.fit(X_train,Y_train)\n",
    "now = time.time()\n",
    "print('Elapsed Time: ' + str(int(now-start)) + ' seconds')\n",
    "\n",
    "probs_svm = svc.predict_proba(X_test)[:,1]"
   ]
  },
  {
   "cell_type": "code",
   "execution_count": 341,
   "metadata": {},
   "outputs": [
    {
     "name": "stdout",
     "output_type": "stream",
     "text": [
      "max(tpr - fpr) w/ th =  0.08577431652202673\n"
     ]
    },
    {
     "data": {
      "image/png": "[encoded data removed]",
      "text/plain": [
       "<Figure size 432x288 with 1 Axes>"
      ]
     },
     "metadata": {
      "needs_background": "light"
     },
     "output_type": "display_data"
    }
   ],
   "source": [
    "plot_roc(Y_test, probs_svm[:-1], 'LSVM')"
   ]
  },
  {
   "cell_type": "code",
   "execution_count": 343,
   "metadata": {},
   "outputs": [],
   "source": [
    "submission.Predicition = probs_svm\n",
    "submission.to_csv('submission_svm.csv', index=None)"
   ]
  },
  {
   "cell_type": "code",
   "execution_count": 86,
   "metadata": {},
   "outputs": [
    {
     "data": {
      "text/plain": [
       "(array([0, 1], dtype=int64), array([1590, 3850], dtype=int64))"
      ]
     },
     "execution_count": 86,
     "metadata": {},
     "output_type": "execute_result"
    }
   ],
   "source": [
    "np.unique(Y_train, return_counts=True)"
   ]
  },
  {
   "cell_type": "code",
   "execution_count": 84,
   "metadata": {},
   "outputs": [
    {
     "data": {
      "text/plain": [
       "(array([0, 1], dtype=int64), array([ 989, 2410], dtype=int64))"
      ]
     },
     "execution_count": 84,
     "metadata": {},
     "output_type": "execute_result"
    }
   ],
   "source": [
    "np.unique(Y_test,return_counts=True)accuracy = sum(probs == y_test1) / len(y_test1)"
   ]
  },
  {
   "cell_type": "markdown",
   "metadata": {},
   "source": [
    "# Decision Tree"
   ]
  },
  {
   "cell_type": "code",
   "execution_count": 24,
   "metadata": {},
   "outputs": [],
   "source": [
    "from sklearn import tree"
   ]
  },
  {
   "cell_type": "code",
   "execution_count": 67,
   "metadata": {},
   "outputs": [],
   "source": [
    "dt = tree.DecisionTreeClassifier().fit(train_x, train_y)"
   ]
  },
  {
   "cell_type": "code",
   "execution_count": 68,
   "metadata": {},
   "outputs": [],
   "source": [
    "pred = dt.predict(test_x)"
   ]
  },
  {
   "cell_type": "code",
   "execution_count": 69,
   "metadata": {},
   "outputs": [
    {
     "name": "stdout",
     "output_type": "stream",
     "text": [
      "0.638235294117647\n"
     ]
    }
   ],
   "source": [
    "accuracy = sum(pred == test_y) / len(test_y)\n",
    "print(accuracy)"
   ]
  },
  {
   "cell_type": "code",
   "execution_count": 70,
   "metadata": {},
   "outputs": [],
   "source": [
    "def plot_roc(y, preds, model):\n",
    "    fpr, tpr, thresholds = roc_curve(y, preds)\n",
    "    optimal_idx = np.argmax(tpr - fpr)\n",
    "    optimal_threshold = thresholds[optimal_idx]\n",
    "    print(\"max(tpr - fpr) w/ th = \", optimal_threshold)\n",
    "    l1, = plt.plot([0, 1], [0, 1], '--')\n",
    "    l2, = plt.plot(fpr, tpr, label = model)\n",
    "    auc = roc_auc_score(y, preds)\n",
    "    l = plt.legend([l2], [model+str(' AUC: %.2f' % auc)])\n",
    "    plt.xlabel('False Positive Rate')\n",
    "    plt.ylabel('True Positive Rate')\n",
    "    plt.title('ROC Curve')\n",
    "    plt.show()"
   ]
  },
  {
   "cell_type": "code",
   "execution_count": 73,
   "metadata": {},
   "outputs": [
    {
     "name": "stdout",
     "output_type": "stream",
     "text": [
      "max(tpr - fpr) w/ th =  1.0\n"
     ]
    },
    {
     "data": {
      "image/png": "[encoded data removed]",
      "text/plain": [
       "<Figure size 432x288 with 1 Axes>"
      ]
     },
     "metadata": {
      "needs_background": "light"
     },
     "output_type": "display_data"
    }
   ],
   "source": [
    "plot_roc(test_y, pred, 'Decision Tree')"
   ]
  },
  {
   "cell_type": "code",
   "execution_count": 74,
   "metadata": {},
   "outputs": [],
   "source": [
    "def matrix_info(y, preds):\n",
    "    print('f1_score:')\n",
    "    print(f1_score(y, preds))\n",
    "    print('Confusion Matrix:')\n",
    "    print(confusion_matrix(y,preds))\n",
    "    print(classification_report(y,preds))"
   ]
  },
  {
   "cell_type": "code",
   "execution_count": 75,
   "metadata": {},
   "outputs": [
    {
     "name": "stdout",
     "output_type": "stream",
     "text": [
      "f1_score:\n",
      "0.7564356435643564\n",
      "Confusion Matrix:\n",
      "[[104 258]\n",
      " [234 764]]\n",
      "              precision    recall  f1-score   support\n",
      "\n",
      "         0.0       0.31      0.29      0.30       362\n",
      "         1.0       0.75      0.77      0.76       998\n",
      "\n",
      "    accuracy                           0.64      1360\n",
      "   macro avg       0.53      0.53      0.53      1360\n",
      "weighted avg       0.63      0.64      0.63      1360\n",
      "\n"
     ]
    }
   ],
   "source": [
    "matrix_info(test_y, pred)"
   ]
  },
  {
   "cell_type": "code",
   "execution_count": 76,
   "metadata": {},
   "outputs": [
    {
     "name": "stdout",
     "output_type": "stream",
     "text": [
      "[0.6316176470588235, 0.6448529411764706, 0.6404411764705882, 0.6264705882352941, 0.6198529411764706, 0.6110294117647059, 0.625, 0.6279411764705882, 0.6411764705882353, 0.6257352941176471]\n",
      "0.6448529411764706\n"
     ]
    }
   ],
   "source": [
    "acc_list = []\n",
    "pred_list =[]\n",
    "for i in range(10):\n",
    "    dt = tree.DecisionTreeClassifier().fit(train_x, train_y)\n",
    "    pred = dt.predict(test_x)\n",
    "    pred_list.append(pred)\n",
    "    accuracy = sum(pred == test_y) / len(test_y)\n",
    "    acc_list.append(accuracy)\n",
    "print(acc_list)\n",
    "print(max(acc_list))"
   ]
  },
  {
   "cell_type": "code",
   "execution_count": 77,
   "metadata": {},
   "outputs": [
    {
     "name": "stdout",
     "output_type": "stream",
     "text": [
      "max(tpr - fpr) w/ th =  1.0\n"
     ]
    },
    {
     "data": {
      "image/png": "[encoded data removed]",
      "text/plain": [
       "<Figure size 432x288 with 1 Axes>"
      ]
     },
     "metadata": {
      "needs_background": "light"
     },
     "output_type": "display_data"
    }
   ],
   "source": [
    "plot_roc(test_y, pred_list[1], 'Decision Tree')"
   ]
  },
  {
   "cell_type": "code",
   "execution_count": 78,
   "metadata": {},
   "outputs": [
    {
     "name": "stdout",
     "output_type": "stream",
     "text": [
      "f1_score:\n",
      "0.7619517003449975\n",
      "Confusion Matrix:\n",
      "[[104 258]\n",
      " [225 773]]\n",
      "              precision    recall  f1-score   support\n",
      "\n",
      "         0.0       0.32      0.29      0.30       362\n",
      "         1.0       0.75      0.77      0.76       998\n",
      "\n",
      "    accuracy                           0.64      1360\n",
      "   macro avg       0.53      0.53      0.53      1360\n",
      "weighted avg       0.63      0.64      0.64      1360\n",
      "\n"
     ]
    }
   ],
   "source": [
    "matrix_info(test_y, pred_list[1])"
   ]
  },
  {
   "cell_type": "code",
   "execution_count": 79,
   "metadata": {},
   "outputs": [
    {
     "name": "stdout",
     "output_type": "stream",
     "text": [
      "[0.6360294117647058, 0.6411764705882353, 0.6426470588235295, 0.6536764705882353, 0.6477941176470589, 0.65, 0.6448529411764706, 0.6529411764705882, 0.6514705882352941, 0.6522058823529412]\n",
      "0.6536764705882353\n"
     ]
    }
   ],
   "source": [
    "acc_list_b = []\n",
    "pred_list_b =[]\n",
    "for i in range(10):\n",
    "    dt = tree.DecisionTreeClassifier(class_weight='balanced').fit(train_x, train_y)\n",
    "    pred = dt.predict(test_x)\n",
    "    pred_list_b.append(pred)\n",
    "    accuracy = sum(pred == test_y) / len(test_y)\n",
    "    acc_list_b.append(accuracy)\n",
    "print(acc_list_b)\n",
    "print(max(acc_list_b))"
   ]
  },
  {
   "cell_type": "code",
   "execution_count": 80,
   "metadata": {},
   "outputs": [
    {
     "name": "stdout",
     "output_type": "stream",
     "text": [
      "max(tpr - fpr) w/ th =  1.0\n"
     ]
    },
    {
     "data": {
      "image/png": "[encoded data removed]",
      "text/plain": [
       "<Figure size 432x288 with 1 Axes>"
      ]
     },
     "metadata": {
      "needs_background": "light"
     },
     "output_type": "display_data"
    }
   ],
   "source": [
    "plot_roc(test_y, pred_list_b[3], 'Decision Tree')"
   ]
  },
  {
   "cell_type": "code",
   "execution_count": 81,
   "metadata": {},
   "outputs": [
    {
     "name": "stdout",
     "output_type": "stream",
     "text": [
      "f1_score:\n",
      "0.7676369018253576\n",
      "Confusion Matrix:\n",
      "[[111 251]\n",
      " [220 778]]\n",
      "              precision    recall  f1-score   support\n",
      "\n",
      "         0.0       0.34      0.31      0.32       362\n",
      "         1.0       0.76      0.78      0.77       998\n",
      "\n",
      "    accuracy                           0.65      1360\n",
      "   macro avg       0.55      0.54      0.54      1360\n",
      "weighted avg       0.64      0.65      0.65      1360\n",
      "\n"
     ]
    }
   ],
   "source": [
    "matrix_info(test_y, pred_list_b[3])"
   ]
  },
  {
   "cell_type": "code",
   "execution_count": 83,
   "metadata": {},
   "outputs": [
    {
     "data": {
      "image/png": "[encoded data removed]",
      "text/plain": [
       "<Figure size 432x288 with 1 Axes>"
      ]
     },
     "metadata": {
      "needs_background": "light"
     },
     "output_type": "display_data"
    }
   ],
   "source": [
    "import numpy as np\n",
    "import matplotlib.pyplot as plt\n",
    "\n",
    "# data to plot\n",
    "n_groups = 10\n",
    "\n",
    "# create plot\n",
    "fig, ax = plt.subplots()\n",
    "index = np.arange(n_groups)\n",
    "bar_width = 0.35\n",
    "opacity = 0.8\n",
    "\n",
    "rects1 = plt.bar(index, acc_list, bar_width,\n",
    "alpha=opacity,\n",
    "#color='b',\n",
    "label='Default')\n",
    "\n",
    "rects2 = plt.bar(index + bar_width, acc_list_b, bar_width,\n",
    "alpha=opacity,\n",
    "#color='g',\n",
    "label='Balanced')\n",
    "\n",
    "plt.xlabel('# of trial')\n",
    "plt.ylabel('Accuracy')\n",
    "plt.title('Accuracy of decision tree')\n",
    "#plt.xticks(index + bar_width, ('A', 'B', 'C', 'D'))\n",
    "plt.legend()\n",
    "\n",
    "plt.tight_layout()\n",
    "plt.show()"
   ]
  },
  {
   "cell_type": "markdown",
   "metadata": {},
   "source": [
    "# LR"
   ]
  },
  {
   "cell_type": "code",
   "execution_count": 1,
   "metadata": {},
   "outputs": [],
   "source": [
    "from sklearn.linear_model import LogisticRegression"
   ]
  },
  {
   "cell_type": "code",
   "execution_count": 100,
   "metadata": {},
   "outputs": [
    {
     "name": "stderr",
     "output_type": "stream",
     "text": [
      "/Users/chufan/opt/anaconda3/lib/python3.7/site-packages/sklearn/linear_model/logistic.py:432: FutureWarning: Default solver will be changed to 'lbfgs' in 0.22. Specify a solver to silence this warning.\n",
      "  FutureWarning)\n"
     ]
    }
   ],
   "source": [
    "clf = LogisticRegression(random_state=0, max_iter=1000, C = 0.1, penalty = 'l1').fit(train_x, train_y)\n",
    "probs = clf.predict_proba(test_x)[:,1]"
   ]
  },
  {
   "cell_type": "code",
   "execution_count": 101,
   "metadata": {},
   "outputs": [
    {
     "name": "stdout",
     "output_type": "stream",
     "text": [
      "max(tpr - fpr) w/ th =  0.6727634031322165\n"
     ]
    },
    {
     "data": {
      "image/png": "[encoded data removed]",
      "text/plain": [
       "<Figure size 432x288 with 1 Axes>"
      ]
     },
     "metadata": {
      "needs_background": "light"
     },
     "output_type": "display_data"
    }
   ],
   "source": [
    "plot_roc(test_y, probs, 'Logistic Regression')"
   ]
  },
  {
   "cell_type": "code",
   "execution_count": 102,
   "metadata": {},
   "outputs": [],
   "source": [
    "preds = clf.predict(test_x)"
   ]
  },
  {
   "cell_type": "code",
   "execution_count": 103,
   "metadata": {},
   "outputs": [
    {
     "name": "stdout",
     "output_type": "stream",
     "text": [
      "0.7352941176470589\n"
     ]
    }
   ],
   "source": [
    "accuracy = sum(preds == test_y) / len(test_y)\n",
    "print(accuracy)"
   ]
  },
  {
   "cell_type": "code",
   "execution_count": 99,
   "metadata": {},
   "outputs": [
    {
     "name": "stderr",
     "output_type": "stream",
     "text": [
      "/Users/chufan/opt/anaconda3/lib/python3.7/site-packages/sklearn/linear_model/logistic.py:432: FutureWarning: Default solver will be changed to 'lbfgs' in 0.22. Specify a solver to silence this warning.\n",
      "  FutureWarning)\n",
      "/Users/chufan/opt/anaconda3/lib/python3.7/site-packages/sklearn/linear_model/logistic.py:432: FutureWarning: Default solver will be changed to 'lbfgs' in 0.22. Specify a solver to silence this warning.\n",
      "  FutureWarning)\n",
      "/Users/chufan/opt/anaconda3/lib/python3.7/site-packages/sklearn/linear_model/logistic.py:432: FutureWarning: Default solver will be changed to 'lbfgs' in 0.22. Specify a solver to silence this warning.\n",
      "  FutureWarning)\n",
      "/Users/chufan/opt/anaconda3/lib/python3.7/site-packages/sklearn/linear_model/logistic.py:432: FutureWarning: Default solver will be changed to 'lbfgs' in 0.22. Specify a solver to silence this warning.\n",
      "  FutureWarning)\n",
      "/Users/chufan/opt/anaconda3/lib/python3.7/site-packages/sklearn/linear_model/logistic.py:432: FutureWarning: Default solver will be changed to 'lbfgs' in 0.22. Specify a solver to silence this warning.\n",
      "  FutureWarning)\n"
     ]
    },
    {
     "name": "stdout",
     "output_type": "stream",
     "text": [
      "[0.7161764705882353, 0.7352941176470589, 0.7264705882352941, 0.7242647058823529, 0.7227941176470588]\n",
      "0.7352941176470589\n"
     ]
    }
   ],
   "source": [
    "acc_list = []\n",
    "pred_list =[]\n",
    "prob_list =[]\n",
    "for i in range(-2,3):\n",
    "    clf = LogisticRegression(random_state=0, max_iter=1000, C = 10**i, penalty = 'l1').fit(train_x, train_y)\n",
    "    prob = clf.predict_proba(test_x)[:,1]\n",
    "    prob_list.append(prob)\n",
    "    pred = clf.predict(test_x)\n",
    "    pred_list.append(pred)\n",
    "    accuracy = sum(pred == test_y) / len(test_y)\n",
    "    acc_list.append(accuracy)\n",
    "print(acc_list)\n",
    "print(max(acc_list))"
   ]
  },
  {
   "cell_type": "code",
   "execution_count": 110,
   "metadata": {},
   "outputs": [
    {
     "name": "stderr",
     "output_type": "stream",
     "text": [
      "/Users/chufan/opt/anaconda3/lib/python3.7/site-packages/sklearn/linear_model/logistic.py:432: FutureWarning: Default solver will be changed to 'lbfgs' in 0.22. Specify a solver to silence this warning.\n",
      "  FutureWarning)\n",
      "/Users/chufan/opt/anaconda3/lib/python3.7/site-packages/sklearn/linear_model/logistic.py:432: FutureWarning: Default solver will be changed to 'lbfgs' in 0.22. Specify a solver to silence this warning.\n",
      "  FutureWarning)\n",
      "/Users/chufan/opt/anaconda3/lib/python3.7/site-packages/sklearn/linear_model/logistic.py:432: FutureWarning: Default solver will be changed to 'lbfgs' in 0.22. Specify a solver to silence this warning.\n",
      "  FutureWarning)\n",
      "/Users/chufan/opt/anaconda3/lib/python3.7/site-packages/sklearn/linear_model/logistic.py:432: FutureWarning: Default solver will be changed to 'lbfgs' in 0.22. Specify a solver to silence this warning.\n",
      "  FutureWarning)\n",
      "/Users/chufan/opt/anaconda3/lib/python3.7/site-packages/sklearn/linear_model/logistic.py:432: FutureWarning: Default solver will be changed to 'lbfgs' in 0.22. Specify a solver to silence this warning.\n",
      "  FutureWarning)\n"
     ]
    },
    {
     "name": "stdout",
     "output_type": "stream",
     "text": [
      "[0.7139705882352941, 0.7279411764705882, 0.7264705882352941, 0.7235294117647059, 0.7220588235294118]\n",
      "0.7279411764705882\n"
     ]
    }
   ],
   "source": [
    "acc_list_l2 = []\n",
    "pred_list_l2 =[]\n",
    "prob_list_l2 =[]\n",
    "for i in range(-2,3):\n",
    "    clf = LogisticRegression(random_state=0, max_iter=1000, C = 10**i, penalty = 'l2').fit(train_x, train_y)\n",
    "    prob = clf.predict_proba(test_x)[:,1]\n",
    "    prob_list_l2.append(prob)\n",
    "    pred = clf.predict(test_x)\n",
    "    pred_list_l2.append(pred)\n",
    "    accuracy = sum(pred == test_y) / len(test_y)\n",
    "    acc_list_l2.append(accuracy)\n",
    "print(acc_list_l2)\n",
    "print(max(acc_list_l2))"
   ]
  },
  {
   "cell_type": "code",
   "execution_count": 119,
   "metadata": {},
   "outputs": [
    {
     "data": {
      "image/png": "[encoded data removed]",
      "text/plain": [
       "<Figure size 432x288 with 1 Axes>"
      ]
     },
     "metadata": {
      "needs_background": "light"
     },
     "output_type": "display_data"
    }
   ],
   "source": [
    "# create plot\n",
    "fig, ax = plt.subplots()\n",
    "index = np.arange(-2,3)\n",
    "bar_width = 0.35\n",
    "opacity = 0.8\n",
    "\n",
    "rects1 = plt.bar(index, acc_list, bar_width,\n",
    "alpha=opacity, label='l1')\n",
    "\n",
    "rects2 = plt.bar(index + bar_width, acc_list_l2, bar_width,\n",
    "alpha=opacity, label='l2')\n",
    "\n",
    "plt.xlabel('C value (10^n)')\n",
    "plt.ylabel('Accuracy')\n",
    "plt.title('Accuracy of logistic regression')\n",
    "#plt.xticks(index + bar_width, ('A', 'B', 'C', 'D'))\n",
    "plt.legend()\n",
    "\n",
    "plt.tight_layout()\n",
    "plt.show()"
   ]
  },
  {
   "cell_type": "code",
   "execution_count": 117,
   "metadata": {},
   "outputs": [
    {
     "name": "stderr",
     "output_type": "stream",
     "text": [
      "/Users/chufan/opt/anaconda3/lib/python3.7/site-packages/sklearn/linear_model/logistic.py:432: FutureWarning: Default solver will be changed to 'lbfgs' in 0.22. Specify a solver to silence this warning.\n",
      "  FutureWarning)\n"
     ]
    },
    {
     "name": "stdout",
     "output_type": "stream",
     "text": [
      "max(tpr - fpr) w/ th =  0.6732005408453384\n"
     ]
    },
    {
     "data": {
      "image/png": "[encoded data removed]",
      "text/plain": [
       "<Figure size 432x288 with 1 Axes>"
      ]
     },
     "metadata": {
      "needs_background": "light"
     },
     "output_type": "display_data"
    }
   ],
   "source": [
    "clf = LogisticRegression(random_state=0, max_iter=1000, C = 0.1, penalty = 'l2').fit(train_x, train_y)\n",
    "probs = clf.predict_proba(test_x)[:,1]\n",
    "plot_roc(test_y, probs, 'Logistic Regression')"
   ]
  },
  {
   "cell_type": "code",
   "execution_count": null,
   "metadata": {},
   "outputs": [],
   "source": []
  }
 ],
 "metadata": {
  "kernelspec": {
   "display_name": "Python 3",
   "language": "python",
   "name": "python3"
  },
  "language_info": {
   "codemirror_mode": {
    "name": "ipython",
    "version": 3
   },
   "file_extension": ".py",
   "mimetype": "text/x-python",
   "name": "python",
   "nbconvert_exporter": "python",
   "pygments_lexer": "ipython3",
   "version": "3.7.4"
  }
 },
 "nbformat": 4,
 "nbformat_minor": 2
}
