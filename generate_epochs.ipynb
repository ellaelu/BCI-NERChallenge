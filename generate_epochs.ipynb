{
 "cells": [
  {
   "cell_type": "code",
   "execution_count": 7,
   "metadata": {},
   "outputs": [],
   "source": [
    "import numpy as np\n",
    "import pandas as pd\n",
    "import glob\n",
    "import time\n",
    "from scipy import signal"
   ]
  },
  {
   "cell_type": "code",
   "execution_count": 8,
   "metadata": {},
   "outputs": [],
   "source": [
    "'''\n",
    "extract_d(files)\n",
    "Ingest Data by looping through files\n",
    "\n",
    "Epoch 1.3 seconds after feedbackevent == 1 using epoch_d function\n",
    "\n",
    "Append values to list of arrays called temp\n",
    "\n",
    "\n",
    "Input: \n",
    "    files: array of string of file names (Data_S*_Sess*.csv)\n",
    "Output: \n",
    "    temp: final array of appended values\n",
    "'''\n",
    "def extract_d(files):\n",
    "    start = time.time()\n",
    "    \n",
    "    training_subjects = 16 #num of training subjects\n",
    "    num_of_fb = 340 #num of feedbacks / subject\n",
    "    freq = 200 #sampling rate\n",
    "    epoch_time = 1.3 #proposed epoching time in seconds\n",
    "    epoch = freq * epoch_time #epoch in indices \n",
    "    num_of_cols = int(59) \n",
    "    eeg_cols = int(56)\n",
    "    b_s = int(-0.4*freq) #index where baseline starts relative to feedback (-400ms)\n",
    "    b_e = int(-0.3*freq) #index where baseline ends relative to feedback (-300ms)\n",
    "    order = 5 #butterworth order\n",
    "    low_pass = 1 #low frequency pass for butterworth filter\n",
    "    high_pass = 40 #high frequency pass for butterworth filter\n",
    "    \n",
    "    temp = np.empty((1,260,num_of_cols), float)\n",
    "    for i, f in enumerate(files):\n",
    "        print(i,f, temp.shape)\n",
    "        df = pd.read_csv(f) #read each file\n",
    "        index_fb = df[df['FeedBackEvent'] == 1].index.values\n",
    "        df = np.array(df) \n",
    "        \n",
    "        #uncomment below for butterworth filter\n",
    "        \n",
    "        #eeg = df[:,1:57] #only eeg values to apply butterworth filter\n",
    "        #eeg_filtered = butter_filter(order, low_pass, high_pass, freq, eeg) #butterworth filter applied\n",
    "        #df[:,1:57] = eeg_filtered #replacing old eeg values with new ones\n",
    "        \n",
    "        for j, indx in enumerate(index_fb): #epoching 260 indexes (1.3 seconds) after each stimulus\n",
    "            epoch_array = df[indx:(indx+int(epoch)),:]\n",
    "            epoch_array = epoch_array.reshape((1,int(epoch),int(epoch_array.shape[1])))\n",
    "            \n",
    "            #uncomment below for baseline correction\n",
    "            \n",
    "            #baseline_array = df[indx+b_s:indx+b_e,:] #baseline correction of 100ms (20 indexes), 400ms to 300ms before fb\n",
    "            #baseline_array = baseline_array.reshape((1,20,int(baseline_array.shape[1])))\n",
    "            #baseline_mean = np.mean(baseline_array, axis = 1) \n",
    "            #epoch_array = epoch_array - baseline_mean #noise subtracted from epoched data\n",
    "            \n",
    "            if i == 0:\n",
    "                temp = np.vstack((temp,epoch_array)) #stacking the first epoch\n",
    "            else:\n",
    "                temp = np.vstack((temp,epoch_array))\n",
    "                \n",
    "    now = time.time()\n",
    "    print('Elapsed Time: ' + str(int(now-start)) + ' seconds')\n",
    "    return temp"
   ]
  },
  {
   "cell_type": "code",
   "execution_count": 4,
   "metadata": {},
   "outputs": [
    {
     "data": {
      "text/plain": [
       "['Data/train\\\\Data_S02_Sess01.csv',\n",
       " 'Data/train\\\\Data_S02_Sess02.csv',\n",
       " 'Data/train\\\\Data_S02_Sess03.csv',\n",
       " 'Data/train\\\\Data_S02_Sess04.csv',\n",
       " 'Data/train\\\\Data_S02_Sess05.csv',\n",
       " 'Data/train\\\\Data_S06_Sess01.csv']"
      ]
     },
     "execution_count": 4,
     "metadata": {},
     "output_type": "execute_result"
    }
   ],
   "source": [
    "train_files = glob.glob('Data/train/Data*.csv')\n",
    "test_files = glob.glob('Data/test/Data*.csv')\n",
    "train_files[0:6]"
   ]
  },
  {
   "cell_type": "code",
   "execution_count": 5,
   "metadata": {},
   "outputs": [
    {
     "name": "stdout",
     "output_type": "stream",
     "text": [
      "0 Data/train\\Data_S02_Sess01.csv (1, 260, 59)\n",
      "1 Data/train\\Data_S02_Sess02.csv (61, 260, 59)\n",
      "2 Data/train\\Data_S02_Sess03.csv (121, 260, 59)\n",
      "3 Data/train\\Data_S02_Sess04.csv (181, 260, 59)\n",
      "4 Data/train\\Data_S02_Sess05.csv (241, 260, 59)\n",
      "Elapsed Time: 18 seconds\n"
     ]
    }
   ],
   "source": [
    "# Notice: Because of the way the data was epoched, for some reason, the training and test data start with an array of zeros\n",
    "# Make you keep this in mind.\n",
    "train = extract_d(train_files[:5])"
   ]
  },
  {
   "cell_type": "code",
   "execution_count": 6,
   "metadata": {},
   "outputs": [
    {
     "name": "stdout",
     "output_type": "stream",
     "text": [
      "0 Data/test\\Data_S01_Sess01.csv (1, 260, 59)\n",
      "1 Data/test\\Data_S01_Sess02.csv (61, 260, 59)\n",
      "2 Data/test\\Data_S01_Sess03.csv (121, 260, 59)\n",
      "3 Data/test\\Data_S01_Sess04.csv (181, 260, 59)\n",
      "4 Data/test\\Data_S01_Sess05.csv (241, 260, 59)\n",
      "Elapsed Time: 18 seconds\n"
     ]
    }
   ],
   "source": [
    "# Notice: Because of the way the data was epoched, for some reason, the training and test data start with an array of zeros\n",
    "# Make you keep this in mind.\n",
    "test = extract_d(test_files[:5])"
   ]
  }
 ],
 "metadata": {
  "kernelspec": {
   "display_name": "Python 3",
   "language": "python",
   "name": "python3"
  },
  "language_info": {
   "codemirror_mode": {
    "name": "ipython",
    "version": 3
   },
   "file_extension": ".py",
   "mimetype": "text/x-python",
   "name": "python",
   "nbconvert_exporter": "python",
   "pygments_lexer": "ipython3",
   "version": "3.7.4"
  }
 },
 "nbformat": 4,
 "nbformat_minor": 2
}
